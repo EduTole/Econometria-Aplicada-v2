{
 "cells": [
  {
   "cell_type": "code",
   "execution_count": null,
   "id": "57f25d83-98f3-411f-a3aa-890ce9de2eee",
   "metadata": {},
   "outputs": [],
   "source": []
  },
  {
   "cell_type": "markdown",
   "id": "2e402218-f2c8-4541-9c9c-52939d1299c5",
   "metadata": {},
   "source": [
    "<center style=\"font-size: 2em; font-weight: bold;\"> Determinantes de las Condiciones de Vida  </center>\n",
    "<center style=\"font-size: 2em; font-weight: bold;\"> Analisis de base de datos  </center>\n",
    "<left style=\"font-size: 4em; font-weight: bold;\"> Autor: Edinson Tolentino </left>"
   ]
  },
  {
   "cell_type": "markdown",
   "id": "26bb4cec-104a-47be-ba7b-7eefabe5129f",
   "metadata": {},
   "source": [
    "# Librerias"
   ]
  },
  {
   "cell_type": "code",
   "execution_count": 1,
   "id": "249cdb21-ed39-476c-94bb-349db0c58451",
   "metadata": {},
   "outputs": [],
   "source": [
    "import pandas\n",
    "import numpy\n",
    "import os\n",
    "import sys\n",
    "import numpy\n",
    "\n",
    "import statsmodels.api as sm\n",
    "from statsmodels.iolib.summary2 import summary_col\n",
    "\n",
    "import sklearn\n",
    "import sklearn.compose\n",
    "import category_encoders\n",
    "import sklearn.impute\n",
    "\n",
    "from plotnine import *\n",
    "from stargazer.stargazer import Stargazer\n",
    "from IPython.core.display import HTML\n",
    "\n",
    "import py_hep_functions\n",
    "import seaborn\n",
    "import matplotlib.pyplot as plt"
   ]
  },
  {
   "cell_type": "code",
   "execution_count": 2,
   "id": "350d32c0-f5d3-4f2b-bbfd-258baffd545b",
   "metadata": {},
   "outputs": [],
   "source": [
    "\n",
    "color = [\"#3a5e8cFF\", \"#10a53dFF\", \"#541352FF\", \"#ffcf20FF\", \"#2f9aa0FF\"]\n",
    "\n",
    "def seq(start: float, stop: float, by: float, round_n=3) -> list:\n",
    "    \"\"\"\n",
    "    Custom function, used for setting the breaks of plotnine scales.\n",
    "\n",
    "       Parameters\n",
    "    ----------\n",
    "    start : float\n",
    "        Start of the breaks.\n",
    "    stop : float\n",
    "        End of the breaks.\n",
    "    by : float\n",
    "        Steps between breaks.\n",
    "    round_n: int, default=3\n",
    "        Decimals to round floats in output.\n",
    "    \"\"\"\n",
    "    epsilon = numpy.finfo(\"float\").eps\n",
    "\n",
    "    return [\n",
    "        round(x, round_n) for x in list(numpy.arange(start, stop + (by - epsilon), by))\n",
    "    ]\n",
    "    \n",
    "def normalize_frame(frame):\n",
    "    \"\"\"Normalize the data frame to make it performant and compatible with\n",
    "    downstream libraries such as Scikit-Learn and CatBoost.\n",
    "    \n",
    "    In particular the following operations are performed:\n",
    "    - Categorical levels that are not strings are converted into strings\n",
    "    - Categorical missing values are converted into a distinct \"N/A\" level\n",
    "    - Object-typed columns are converted into categorical columns\n",
    "    \"\"\"\n",
    "    for col, series in frame.items():\n",
    "        dtype = series.dtype\n",
    "        if pandas.api.types.is_categorical_dtype(dtype):\n",
    "            recode = False\n",
    "            if series.hasnans:\n",
    "                recode = True\n",
    "            else:\n",
    "                for value in series.cat.categories:\n",
    "                    if not isinstance(value, str):\n",
    "                        recode = True\n",
    "                        break\n",
    "            if recode:\n",
    "                frame[col] = series.astype(\"str\").fillna(\"N/A\").astype(\n",
    "                    \"category\")\n",
    "        elif pandas.api.types.is_object_dtype(dtype):\n",
    "            frame[col] = series.astype(\"str\").fillna(\"N/A\").astype(\"category\")\n",
    "\n",
    "    return frame\n",
    "\n",
    "base_transformer = sklearn.pipeline.Pipeline([\n",
    "    (\"recode\", sklearn.compose.ColumnTransformer(transformers=[\n",
    "        (\"category\",\n",
    "             #sklearn.preprocessing.OneHotEncoder(handle_unknown=\"ignore\",\n",
    "             sklearn.preprocessing.OneHotEncoder(drop=\"first\",handle_unknown=\"ignore\",                                                 \n",
    "                min_frequency=0.01, max_categories=40, sparse_output= False),\n",
    "             sklearn.compose.make_column_selector(dtype_exclude=numpy.number)\n",
    "        ),\n",
    "        (\"number\",\n",
    "            sklearn.impute.SimpleImputer(strategy=\"mean\"),\n",
    "            sklearn.compose.make_column_selector(dtype_include=numpy.number)\n",
    "        ),  \n",
    "    ], n_jobs=-1)),\n",
    "    #(\"rescale\", sklearn.preprocessing.StandardScaler()),\n",
    "])"
   ]
  },
  {
   "cell_type": "markdown",
   "id": "5f51b70b-785a-444f-b401-faaee4d665c2",
   "metadata": {},
   "source": [
    "# Data"
   ]
  },
  {
   "cell_type": "code",
   "execution_count": 3,
   "id": "4c3d601c-0c98-46f9-b008-2c83f4d4c294",
   "metadata": {},
   "outputs": [
    {
     "name": "stdout",
     "output_type": "stream",
     "text": [
      "<class 'pandas.core.frame.DataFrame'>\n",
      "RangeIndex: 19889 entries, 0 to 19888\n",
      "Data columns (total 11 columns):\n",
      " #   Column          Non-Null Count  Dtype   \n",
      "---  ------          --------------  -----   \n",
      " 0   codigo_persona  19889 non-null  object  \n",
      " 1   rvida           19889 non-null  category\n",
      " 2   rsexo           19889 non-null  category\n",
      " 3   rpareja         19889 non-null  category\n",
      " 4   redad           19889 non-null  float32 \n",
      " 5   redadsq         19889 non-null  float32 \n",
      " 6   reduca          19887 non-null  float32 \n",
      " 7   rmu             19889 non-null  category\n",
      " 8   ry              19889 non-null  float32 \n",
      " 9   rly             19889 non-null  float32 \n",
      " 10  rmiembros       19889 non-null  float32 \n",
      "dtypes: category(4), float32(6), object(1)\n",
      "memory usage: 699.9+ KB\n"
     ]
    }
   ],
   "source": [
    "output           = \"C:/Users/et396/Dropbox/Docencia/Educate/Econometria/S3/Data\"\n",
    "os.chdir(output)\n",
    "\n",
    "# Carga de data\n",
    "base = pandas.read_stata(\"BD2_Multiproducto_2021.dta\")\n",
    "#base = pandas.read_csv(\"BD2_Multiproducto_2021.csv\")\n",
    "base.info()"
   ]
  },
  {
   "cell_type": "code",
   "execution_count": 4,
   "id": "39095452-0dbc-454a-8915-336b299d531d",
   "metadata": {},
   "outputs": [
    {
     "name": "stdout",
     "output_type": "stream",
     "text": [
      "<class 'pandas.core.frame.DataFrame'>\n",
      "RangeIndex: 19889 entries, 0 to 19888\n",
      "Data columns (total 9 columns):\n",
      " #   Column     Non-Null Count  Dtype   \n",
      "---  ------     --------------  -----   \n",
      " 0   rvida      19889 non-null  category\n",
      " 1   rsexo      19889 non-null  category\n",
      " 2   rpareja    19889 non-null  category\n",
      " 3   redad      19889 non-null  float32 \n",
      " 4   redadsq    19889 non-null  float32 \n",
      " 5   reduca     19887 non-null  float32 \n",
      " 6   rmu        19889 non-null  category\n",
      " 7   rly        19889 non-null  float32 \n",
      " 8   rmiembros  19889 non-null  float32 \n",
      "dtypes: category(4), float32(5)\n",
      "memory usage: 466.8 KB\n"
     ]
    },
    {
     "name": "stderr",
     "output_type": "stream",
     "text": [
      "C:\\Users\\et396\\AppData\\Local\\Temp\\ipykernel_28876\\1749348307.py:35: DeprecationWarning: is_categorical_dtype is deprecated and will be removed in a future version. Use isinstance(dtype, pd.CategoricalDtype) instead\n"
     ]
    }
   ],
   "source": [
    "# Filtro de variables\n",
    "response = ['rvida']\n",
    "inputs   = ['rsexo', 'rpareja','redad','redadsq','reduca','rmu','rly','rmiembros']\n",
    "data_analysis = base[response + inputs]\n",
    "\n",
    "# Normalise informacion : number, category columns\n",
    "data_fit = normalize_frame(data_analysis)\n",
    "data_fit.info()"
   ]
  },
  {
   "cell_type": "markdown",
   "id": "b83fff42-b628-4298-9d60-0f23e985259b",
   "metadata": {},
   "source": [
    "# Analisis"
   ]
  },
  {
   "cell_type": "markdown",
   "id": "8391e6f2-9f4c-4840-a0ea-149d287c47bf",
   "metadata": {},
   "source": [
    "## Descriptivo"
   ]
  },
  {
   "cell_type": "code",
   "execution_count": 5,
   "id": "18b3b885-01df-4ce8-b1e6-01db9b7bd2b9",
   "metadata": {},
   "outputs": [
    {
     "data": {
      "text/html": [
       "<div>\n",
       "<style scoped>\n",
       "    .dataframe tbody tr th:only-of-type {\n",
       "        vertical-align: middle;\n",
       "    }\n",
       "\n",
       "    .dataframe tbody tr th {\n",
       "        vertical-align: top;\n",
       "    }\n",
       "\n",
       "    .dataframe thead th {\n",
       "        text-align: right;\n",
       "    }\n",
       "</style>\n",
       "<table border=\"1\" class=\"dataframe\">\n",
       "  <thead>\n",
       "    <tr style=\"text-align: right;\">\n",
       "      <th></th>\n",
       "      <th>redad</th>\n",
       "      <th>redadsq</th>\n",
       "      <th>reduca</th>\n",
       "      <th>rly</th>\n",
       "      <th>rmiembros</th>\n",
       "    </tr>\n",
       "  </thead>\n",
       "  <tbody>\n",
       "    <tr>\n",
       "      <th>count</th>\n",
       "      <td>19889.000000</td>\n",
       "      <td>19889.000000</td>\n",
       "      <td>19887.000000</td>\n",
       "      <td>19889.000000</td>\n",
       "      <td>19889.000000</td>\n",
       "    </tr>\n",
       "    <tr>\n",
       "      <th>mean</th>\n",
       "      <td>50.586906</td>\n",
       "      <td>2776.024658</td>\n",
       "      <td>8.506160</td>\n",
       "      <td>6.359111</td>\n",
       "      <td>3.121726</td>\n",
       "    </tr>\n",
       "    <tr>\n",
       "      <th>std</th>\n",
       "      <td>14.730933</td>\n",
       "      <td>1553.588135</td>\n",
       "      <td>4.968214</td>\n",
       "      <td>0.678555</td>\n",
       "      <td>1.739702</td>\n",
       "    </tr>\n",
       "    <tr>\n",
       "      <th>min</th>\n",
       "      <td>16.000000</td>\n",
       "      <td>256.000000</td>\n",
       "      <td>0.000000</td>\n",
       "      <td>3.842970</td>\n",
       "      <td>1.000000</td>\n",
       "    </tr>\n",
       "    <tr>\n",
       "      <th>25%</th>\n",
       "      <td>39.000000</td>\n",
       "      <td>1521.000000</td>\n",
       "      <td>5.000000</td>\n",
       "      <td>5.898921</td>\n",
       "      <td>2.000000</td>\n",
       "    </tr>\n",
       "    <tr>\n",
       "      <th>50%</th>\n",
       "      <td>50.000000</td>\n",
       "      <td>2500.000000</td>\n",
       "      <td>9.000000</td>\n",
       "      <td>6.342873</td>\n",
       "      <td>3.000000</td>\n",
       "    </tr>\n",
       "    <tr>\n",
       "      <th>75%</th>\n",
       "      <td>61.000000</td>\n",
       "      <td>3721.000000</td>\n",
       "      <td>11.000000</td>\n",
       "      <td>6.803259</td>\n",
       "      <td>4.000000</td>\n",
       "    </tr>\n",
       "    <tr>\n",
       "      <th>max</th>\n",
       "      <td>98.000000</td>\n",
       "      <td>9604.000000</td>\n",
       "      <td>18.000000</td>\n",
       "      <td>9.744512</td>\n",
       "      <td>14.000000</td>\n",
       "    </tr>\n",
       "  </tbody>\n",
       "</table>\n",
       "</div>"
      ],
      "text/plain": [
       "              redad       redadsq        reduca           rly     rmiembros\n",
       "count  19889.000000  19889.000000  19887.000000  19889.000000  19889.000000\n",
       "mean      50.586906   2776.024658      8.506160      6.359111      3.121726\n",
       "std       14.730933   1553.588135      4.968214      0.678555      1.739702\n",
       "min       16.000000    256.000000      0.000000      3.842970      1.000000\n",
       "25%       39.000000   1521.000000      5.000000      5.898921      2.000000\n",
       "50%       50.000000   2500.000000      9.000000      6.342873      3.000000\n",
       "75%       61.000000   3721.000000     11.000000      6.803259      4.000000\n",
       "max       98.000000   9604.000000     18.000000      9.744512     14.000000"
      ]
     },
     "execution_count": 5,
     "metadata": {},
     "output_type": "execute_result"
    }
   ],
   "source": [
    "data_fit.describe()"
   ]
  },
  {
   "cell_type": "code",
   "execution_count": 6,
   "id": "9b79fc4d-3015-4960-9b47-5db5e447460f",
   "metadata": {},
   "outputs": [
    {
     "data": {
      "text/plain": [
       "CategoricalDtype(categories=['Muy Mal', 'Mal', 'Bien', 'Muy bien'], ordered=True, categories_dtype=object)"
      ]
     },
     "execution_count": 6,
     "metadata": {},
     "output_type": "execute_result"
    }
   ],
   "source": [
    "#data_fit['rvida'].value_counts()\n",
    "data_fit['rvida'].dtype"
   ]
  },
  {
   "cell_type": "markdown",
   "id": "5bc34cc4-2a70-4473-b0a8-67330bc72f08",
   "metadata": {},
   "source": [
    "# Modelos"
   ]
  },
  {
   "cell_type": "code",
   "execution_count": 7,
   "id": "eec5fbff-3aee-46c6-aa48-fdd2be6bb302",
   "metadata": {},
   "outputs": [
    {
     "name": "stderr",
     "output_type": "stream",
     "text": [
      "C:\\Users\\et396\\AppData\\Local\\Temp\\ipykernel_28876\\1434124085.py:1: SettingWithCopyWarning: \n",
      "A value is trying to be set on a copy of a slice from a DataFrame.\n",
      "Try using .loc[row_indexer,col_indexer] = value instead\n",
      "\n",
      "See the caveats in the documentation: https://pandas.pydata.org/pandas-docs/stable/user_guide/indexing.html#returning-a-view-versus-a-copy\n"
     ]
    }
   ],
   "source": [
    "data_fit['depend'] = numpy.where(data_fit['rvida']=='Muy Mal', 1,\n",
    "                                 numpy.where(data_fit['rvida']=='Mal',2,\n",
    "                                             numpy.where(data_fit['rvida']=='Bien',3,4)))"
   ]
  },
  {
   "cell_type": "code",
   "execution_count": 8,
   "id": "ed8bcef2-952f-4af2-a0ec-bf6363f03aa7",
   "metadata": {},
   "outputs": [
    {
     "data": {
      "text/plain": [
       "rvida\n",
       "Bien        14485\n",
       "Mal          4806\n",
       "Muy Mal       349\n",
       "Muy bien      249\n",
       "Name: count, dtype: int64"
      ]
     },
     "execution_count": 8,
     "metadata": {},
     "output_type": "execute_result"
    }
   ],
   "source": [
    "#data_fit['depend'].value_counts()\n",
    "data_fit['rvida'].value_counts()\n"
   ]
  },
  {
   "cell_type": "code",
   "execution_count": 16,
   "id": "4337bd43-53d9-46f3-b98b-94b357b13966",
   "metadata": {},
   "outputs": [],
   "source": [
    "response = data_fit[['rvida']]\n",
    "predictors_cols1 = ['rsexo', 'rpareja','redad','redadsq','reduca']"
   ]
  },
  {
   "cell_type": "code",
   "execution_count": 17,
   "id": "fae8aaa7-639c-4280-a3aa-bd0b86ce2d12",
   "metadata": {},
   "outputs": [
    {
     "data": {
      "text/plain": [
       "'0.14.1'"
      ]
     },
     "execution_count": 17,
     "metadata": {},
     "output_type": "execute_result"
    }
   ],
   "source": [
    "import statsmodels \n",
    "statsmodels.__version__\n",
    "#python.__version__"
   ]
  },
  {
   "cell_type": "code",
   "execution_count": 18,
   "id": "556dad14-5272-4166-9d0b-319fbb7aa4d7",
   "metadata": {},
   "outputs": [],
   "source": [
    "# Modelo OLS vs Probit\n",
    "# Ordered probit\n",
    "#import statsmodels \n",
    "\n",
    "base1       = data_fit[predictors_cols1]\n",
    "predictors  = data_fit[predictors_cols1]\n",
    "transformer = sklearn.clone(base_transformer)\n",
    "inputs      = transformer.fit_transform(predictors)\n",
    "inputs      = pandas.DataFrame(inputs, index=base1.index,\n",
    "                               columns=transformer.get_feature_names_out())\n",
    "inputs      = sm.add_constant(inputs, has_constant=\"raise\")\n"
   ]
  },
  {
   "cell_type": "code",
   "execution_count": 19,
   "id": "f642c924-ed76-421a-bc21-03d03b54a073",
   "metadata": {},
   "outputs": [
    {
     "data": {
      "text/html": [
       "<div>\n",
       "<style scoped>\n",
       "    .dataframe tbody tr th:only-of-type {\n",
       "        vertical-align: middle;\n",
       "    }\n",
       "\n",
       "    .dataframe tbody tr th {\n",
       "        vertical-align: top;\n",
       "    }\n",
       "\n",
       "    .dataframe thead th {\n",
       "        text-align: right;\n",
       "    }\n",
       "</style>\n",
       "<table border=\"1\" class=\"dataframe\">\n",
       "  <thead>\n",
       "    <tr style=\"text-align: right;\">\n",
       "      <th></th>\n",
       "      <th>0</th>\n",
       "      <th>1</th>\n",
       "      <th>2</th>\n",
       "      <th>3</th>\n",
       "      <th>4</th>\n",
       "    </tr>\n",
       "  </thead>\n",
       "  <tbody>\n",
       "    <tr>\n",
       "      <th>const</th>\n",
       "      <td>1.0</td>\n",
       "      <td>1.0</td>\n",
       "      <td>1.0</td>\n",
       "      <td>1.0</td>\n",
       "      <td>1.0</td>\n",
       "    </tr>\n",
       "    <tr>\n",
       "      <th>category__rsexo_Mujer</th>\n",
       "      <td>0.0</td>\n",
       "      <td>1.0</td>\n",
       "      <td>0.0</td>\n",
       "      <td>1.0</td>\n",
       "      <td>0.0</td>\n",
       "    </tr>\n",
       "    <tr>\n",
       "      <th>category__rpareja_Pareja</th>\n",
       "      <td>1.0</td>\n",
       "      <td>0.0</td>\n",
       "      <td>1.0</td>\n",
       "      <td>0.0</td>\n",
       "      <td>1.0</td>\n",
       "    </tr>\n",
       "    <tr>\n",
       "      <th>number__redad</th>\n",
       "      <td>56.0</td>\n",
       "      <td>21.0</td>\n",
       "      <td>62.0</td>\n",
       "      <td>62.0</td>\n",
       "      <td>57.0</td>\n",
       "    </tr>\n",
       "    <tr>\n",
       "      <th>number__redadsq</th>\n",
       "      <td>3136.0</td>\n",
       "      <td>441.0</td>\n",
       "      <td>3844.0</td>\n",
       "      <td>3844.0</td>\n",
       "      <td>3249.0</td>\n",
       "    </tr>\n",
       "    <tr>\n",
       "      <th>number__reduca</th>\n",
       "      <td>17.0</td>\n",
       "      <td>11.0</td>\n",
       "      <td>16.0</td>\n",
       "      <td>0.0</td>\n",
       "      <td>11.0</td>\n",
       "    </tr>\n",
       "  </tbody>\n",
       "</table>\n",
       "</div>"
      ],
      "text/plain": [
       "                               0      1       2       3       4\n",
       "const                        1.0    1.0     1.0     1.0     1.0\n",
       "category__rsexo_Mujer        0.0    1.0     0.0     1.0     0.0\n",
       "category__rpareja_Pareja     1.0    0.0     1.0     0.0     1.0\n",
       "number__redad               56.0   21.0    62.0    62.0    57.0\n",
       "number__redadsq           3136.0  441.0  3844.0  3844.0  3249.0\n",
       "number__reduca              17.0   11.0    16.0     0.0    11.0"
      ]
     },
     "execution_count": 19,
     "metadata": {},
     "output_type": "execute_result"
    }
   ],
   "source": [
    "inputs.head().T"
   ]
  },
  {
   "cell_type": "code",
   "execution_count": 20,
   "id": "bfb6979b-0604-4c56-ac54-ee85813b8ea9",
   "metadata": {},
   "outputs": [
    {
     "ename": "AttributeError",
     "evalue": "'DataFrame' object has no attribute 'df_model'",
     "output_type": "error",
     "traceback": [
      "\u001b[1;31m---------------------------------------------------------------------------\u001b[0m",
      "\u001b[1;31mAttributeError\u001b[0m                            Traceback (most recent call last)",
      "\u001b[1;32m~\\AppData\\Local\\Temp\\ipykernel_28876\\971155186.py\u001b[0m in \u001b[0;36m?\u001b[1;34m()\u001b[0m\n\u001b[0;32m      1\u001b[0m \u001b[1;32mimport\u001b[0m \u001b[0mstatsmodels\u001b[0m\u001b[1;33m\u001b[0m\u001b[1;33m\u001b[0m\u001b[0m\n\u001b[1;32m----> 2\u001b[1;33m \u001b[0mm1\u001b[0m  \u001b[1;33m=\u001b[0m \u001b[0mstatsmodels\u001b[0m\u001b[1;33m.\u001b[0m\u001b[0mdiscrete\u001b[0m\u001b[1;33m.\u001b[0m\u001b[0mdiscrete_model\u001b[0m\u001b[1;33m.\u001b[0m\u001b[0mOrderedResults\u001b[0m\u001b[1;33m(\u001b[0m\u001b[0mresponse\u001b[0m\u001b[1;33m,\u001b[0m \u001b[0minputs\u001b[0m\u001b[1;33m)\u001b[0m\u001b[1;33m.\u001b[0m\u001b[0mfit\u001b[0m\u001b[1;33m(\u001b[0m\u001b[1;33m)\u001b[0m\u001b[1;33m\u001b[0m\u001b[1;33m\u001b[0m\u001b[0m\n\u001b[0m\u001b[0;32m      3\u001b[0m \u001b[1;31m#m1  = statsmodels.miscmodels.ordinal_model.OrderedModel(response, inputs).fit()\u001b[0m\u001b[1;33m\u001b[0m\u001b[1;33m\u001b[0m\u001b[0m\n",
      "\u001b[1;32m~\\.conda\\envs\\python_last\\Lib\\site-packages\\statsmodels\\discrete\\discrete_model.py\u001b[0m in \u001b[0;36m?\u001b[1;34m(self, model, mlefit, cov_type, cov_kwds, use_t)\u001b[0m\n\u001b[0;32m   4425\u001b[0m         \u001b[1;31m#super(DiscreteResults, self).__init__(model, params,\u001b[0m\u001b[1;33m\u001b[0m\u001b[1;33m\u001b[0m\u001b[0m\n\u001b[0;32m   4426\u001b[0m         \u001b[1;31m#        np.linalg.inv(-hessian), scale=1.)\u001b[0m\u001b[1;33m\u001b[0m\u001b[1;33m\u001b[0m\u001b[0m\n\u001b[0;32m   4427\u001b[0m         \u001b[0mself\u001b[0m\u001b[1;33m.\u001b[0m\u001b[0mmodel\u001b[0m \u001b[1;33m=\u001b[0m \u001b[0mmodel\u001b[0m\u001b[1;33m\u001b[0m\u001b[1;33m\u001b[0m\u001b[0m\n\u001b[0;32m   4428\u001b[0m         \u001b[0mself\u001b[0m\u001b[1;33m.\u001b[0m\u001b[0mmethod\u001b[0m \u001b[1;33m=\u001b[0m \u001b[1;34m\"MLE\"\u001b[0m\u001b[1;33m\u001b[0m\u001b[1;33m\u001b[0m\u001b[0m\n\u001b[1;32m-> 4429\u001b[1;33m         \u001b[0mself\u001b[0m\u001b[1;33m.\u001b[0m\u001b[0mdf_model\u001b[0m \u001b[1;33m=\u001b[0m \u001b[0mmodel\u001b[0m\u001b[1;33m.\u001b[0m\u001b[0mdf_model\u001b[0m\u001b[1;33m\u001b[0m\u001b[1;33m\u001b[0m\u001b[0m\n\u001b[0m\u001b[0;32m   4430\u001b[0m         \u001b[0mself\u001b[0m\u001b[1;33m.\u001b[0m\u001b[0mdf_resid\u001b[0m \u001b[1;33m=\u001b[0m \u001b[0mmodel\u001b[0m\u001b[1;33m.\u001b[0m\u001b[0mdf_resid\u001b[0m\u001b[1;33m\u001b[0m\u001b[1;33m\u001b[0m\u001b[0m\n\u001b[0;32m   4431\u001b[0m         \u001b[0mself\u001b[0m\u001b[1;33m.\u001b[0m\u001b[0m_cache\u001b[0m \u001b[1;33m=\u001b[0m \u001b[1;33m{\u001b[0m\u001b[1;33m}\u001b[0m\u001b[1;33m\u001b[0m\u001b[1;33m\u001b[0m\u001b[0m\n\u001b[0;32m   4432\u001b[0m         \u001b[0mself\u001b[0m\u001b[1;33m.\u001b[0m\u001b[0mnobs\u001b[0m \u001b[1;33m=\u001b[0m \u001b[0mmodel\u001b[0m\u001b[1;33m.\u001b[0m\u001b[0mexog\u001b[0m\u001b[1;33m.\u001b[0m\u001b[0mshape\u001b[0m\u001b[1;33m[\u001b[0m\u001b[1;36m0\u001b[0m\u001b[1;33m]\u001b[0m\u001b[1;33m\u001b[0m\u001b[1;33m\u001b[0m\u001b[0m\n",
      "\u001b[1;32m~\\.conda\\envs\\python_last\\Lib\\site-packages\\pandas\\core\\generic.py\u001b[0m in \u001b[0;36m?\u001b[1;34m(self, name)\u001b[0m\n\u001b[0;32m   6292\u001b[0m             \u001b[1;32mand\u001b[0m \u001b[0mname\u001b[0m \u001b[1;32mnot\u001b[0m \u001b[1;32min\u001b[0m \u001b[0mself\u001b[0m\u001b[1;33m.\u001b[0m\u001b[0m_accessors\u001b[0m\u001b[1;33m\u001b[0m\u001b[1;33m\u001b[0m\u001b[0m\n\u001b[0;32m   6293\u001b[0m             \u001b[1;32mand\u001b[0m \u001b[0mself\u001b[0m\u001b[1;33m.\u001b[0m\u001b[0m_info_axis\u001b[0m\u001b[1;33m.\u001b[0m\u001b[0m_can_hold_identifiers_and_holds_name\u001b[0m\u001b[1;33m(\u001b[0m\u001b[0mname\u001b[0m\u001b[1;33m)\u001b[0m\u001b[1;33m\u001b[0m\u001b[1;33m\u001b[0m\u001b[0m\n\u001b[0;32m   6294\u001b[0m         \u001b[1;33m)\u001b[0m\u001b[1;33m:\u001b[0m\u001b[1;33m\u001b[0m\u001b[1;33m\u001b[0m\u001b[0m\n\u001b[0;32m   6295\u001b[0m             \u001b[1;32mreturn\u001b[0m \u001b[0mself\u001b[0m\u001b[1;33m[\u001b[0m\u001b[0mname\u001b[0m\u001b[1;33m]\u001b[0m\u001b[1;33m\u001b[0m\u001b[1;33m\u001b[0m\u001b[0m\n\u001b[1;32m-> 6296\u001b[1;33m         \u001b[1;32mreturn\u001b[0m \u001b[0mobject\u001b[0m\u001b[1;33m.\u001b[0m\u001b[0m__getattribute__\u001b[0m\u001b[1;33m(\u001b[0m\u001b[0mself\u001b[0m\u001b[1;33m,\u001b[0m \u001b[0mname\u001b[0m\u001b[1;33m)\u001b[0m\u001b[1;33m\u001b[0m\u001b[1;33m\u001b[0m\u001b[0m\n\u001b[0m",
      "\u001b[1;31mAttributeError\u001b[0m: 'DataFrame' object has no attribute 'df_model'"
     ]
    }
   ],
   "source": [
    "import statsmodels\n",
    "m1  = statsmodels.discrete.discrete_model.OrderedResults(response, inputs).fit()\n",
    "#m1  = statsmodels.miscmodels.ordinal_model.OrderedModel(response, inputs).fit()"
   ]
  },
  {
   "cell_type": "code",
   "execution_count": null,
   "id": "26f879de-d488-4fc2-ae89-7c2029976267",
   "metadata": {},
   "outputs": [],
   "source": [
    "help(statsmodels)"
   ]
  },
  {
   "cell_type": "code",
   "execution_count": null,
   "id": "d942faa5-1607-427a-bc70-d0425f0db281",
   "metadata": {},
   "outputs": [],
   "source": [
    "help(statsmodels.discrete.discrete_model.OrderedResults)\n",
    "#statsmodels.multivariate."
   ]
  },
  {
   "cell_type": "code",
   "execution_count": null,
   "id": "4b24a5e5-60c6-4dd7-8c25-409d28bae9dc",
   "metadata": {},
   "outputs": [],
   "source": [
    "statsmodels.discrete.discrete_model.OrderedResults"
   ]
  }
 ],
 "metadata": {
  "kernelspec": {
   "display_name": "Python 3 (ipykernel)",
   "language": "python",
   "name": "python3"
  },
  "language_info": {
   "codemirror_mode": {
    "name": "ipython",
    "version": 3
   },
   "file_extension": ".py",
   "mimetype": "text/x-python",
   "name": "python",
   "nbconvert_exporter": "python",
   "pygments_lexer": "ipython3",
   "version": "3.12.2"
  }
 },
 "nbformat": 4,
 "nbformat_minor": 5
}
