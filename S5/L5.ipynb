{
 "cells": [
  {
   "cell_type": "code",
   "execution_count": null,
   "id": "cb25f360-56c0-4df6-bfcd-5b045e6c971d",
   "metadata": {},
   "outputs": [],
   "source": []
  },
  {
   "cell_type": "markdown",
   "id": "77a51cd7-539c-49f4-9b7a-aa557c1786d8",
   "metadata": {},
   "source": [
    "<center style=\"font-size: 2em; font-weight: bold;\"> Retornos a la Educacion </center>\n",
    "<center style=\"font-size: 2em; font-weight: bold;\"> Variables Instrumentales  </center>\n",
    "<left style=\"font-size: 4em; font-weight: bold;\"> Autor: Edinson Tolentino </left>"
   ]
  },
  {
   "cell_type": "markdown",
   "id": "b6b82f6a-3f33-43b2-9592-77623c493da9",
   "metadata": {},
   "source": [
    "# Librerias"
   ]
  },
  {
   "cell_type": "code",
   "execution_count": 1,
   "id": "886d40e5-a749-4d2f-84c5-0978678e93a8",
   "metadata": {},
   "outputs": [],
   "source": [
    "import pandas\n",
    "import numpy\n",
    "import os\n",
    "import sys\n",
    "import numpy\n",
    "\n",
    "import statsmodels.api as sm\n",
    "from statsmodels.iolib.summary2 import summary_col\n",
    "\n",
    "import sklearn\n",
    "import sklearn.compose\n",
    "#import category_encoders\n",
    "import sklearn.impute\n",
    "\n",
    "from plotnine import *\n",
    "from stargazer.stargazer import Stargazer\n",
    "from IPython.core.display import HTML\n",
    "\n",
    "#import py_hep_functions\n",
    "import seaborn\n",
    "import matplotlib.pyplot as plt\n",
    "\n",
    "# Metodo de Variable instrumentales (recurso)\n",
    "# https://bashtage.github.io/linearmodels/iv/examples/basic-examples.html"
   ]
  },
  {
   "cell_type": "code",
   "execution_count": 2,
   "id": "11ccc843-5462-4480-9619-9b933ee4271d",
   "metadata": {},
   "outputs": [],
   "source": [
    "\n",
    "color = [\"#3a5e8cFF\", \"#10a53dFF\", \"#541352FF\", \"#ffcf20FF\", \"#2f9aa0FF\"]\n",
    "\n",
    "def seq(start: float, stop: float, by: float, round_n=3) -> list:\n",
    "    \"\"\"\n",
    "    Custom function, used for setting the breaks of plotnine scales.\n",
    "\n",
    "       Parameters\n",
    "    ----------\n",
    "    start : float\n",
    "        Start of the breaks.\n",
    "    stop : float\n",
    "        End of the breaks.\n",
    "    by : float\n",
    "        Steps between breaks.\n",
    "    round_n: int, default=3\n",
    "        Decimals to round floats in output.\n",
    "    \"\"\"\n",
    "    epsilon = numpy.finfo(\"float\").eps\n",
    "\n",
    "    return [\n",
    "        round(x, round_n) for x in list(numpy.arange(start, stop + (by - epsilon), by))\n",
    "    ]\n",
    "    \n",
    "def normalize_frame(frame):\n",
    "    \"\"\"Normalize the data frame to make it performant and compatible with\n",
    "    downstream libraries such as Scikit-Learn and CatBoost.\n",
    "    \n",
    "    In particular the following operations are performed:\n",
    "    - Categorical levels that are not strings are converted into strings\n",
    "    - Categorical missing values are converted into a distinct \"N/A\" level\n",
    "    - Object-typed columns are converted into categorical columns\n",
    "    \"\"\"\n",
    "    for col, series in frame.items():\n",
    "        dtype = series.dtype\n",
    "        if pandas.api.types.is_categorical_dtype(dtype):\n",
    "            recode = False\n",
    "            if series.hasnans:\n",
    "                recode = True\n",
    "            else:\n",
    "                for value in series.cat.categories:\n",
    "                    if not isinstance(value, str):\n",
    "                        recode = True\n",
    "                        break\n",
    "            if recode:\n",
    "                frame[col] = series.astype(\"str\").fillna(\"N/A\").astype(\n",
    "                    \"category\")\n",
    "        elif pandas.api.types.is_object_dtype(dtype):\n",
    "            frame[col] = series.astype(\"str\").fillna(\"N/A\").astype(\"category\")\n",
    "\n",
    "    return frame\n",
    "\n",
    "base_transformer = sklearn.pipeline.Pipeline([\n",
    "    (\"recode\", sklearn.compose.ColumnTransformer(transformers=[\n",
    "        (\"category\",\n",
    "             #sklearn.preprocessing.OneHotEncoder(handle_unknown=\"ignore\",\n",
    "             sklearn.preprocessing.OneHotEncoder(drop=\"first\",handle_unknown=\"ignore\",                                                 \n",
    "                min_frequency=0.01, max_categories=30, sparse_output= False),\n",
    "             sklearn.compose.make_column_selector(dtype_exclude=numpy.number)\n",
    "        ),\n",
    "        (\"number\",\n",
    "            sklearn.impute.SimpleImputer(strategy=\"mean\"),\n",
    "            sklearn.compose.make_column_selector(dtype_include=numpy.number)\n",
    "        ),  \n",
    "    ], n_jobs=-1)),\n",
    "    #(\"rescale\", sklearn.preprocessing.StandardScaler()),\n",
    "])"
   ]
  },
  {
   "cell_type": "markdown",
   "id": "ee20e863-3b24-4de6-9c54-1dde8c6fc7b6",
   "metadata": {},
   "source": [
    "# Importar la datasets"
   ]
  },
  {
   "cell_type": "code",
   "execution_count": 3,
   "id": "e07ff898-d669-4a35-a3c1-305423887a70",
   "metadata": {},
   "outputs": [],
   "source": [
    "output           = \"C:/Users/et396/Dropbox/Docencia/Educate/Econometria/S5/Data\"\n",
    "os.chdir(output)\n",
    "\n",
    "# Carga de data\n",
    "base = pandas.read_stata(\"BD5.dta\")"
   ]
  },
  {
   "cell_type": "markdown",
   "id": "519e7284-fd13-4238-9324-cf9b592b6a48",
   "metadata": {},
   "source": [
    "# Manejo de Data"
   ]
  },
  {
   "cell_type": "code",
   "execution_count": 4,
   "id": "ba34f200-ec02-4280-bf17-269af85666f8",
   "metadata": {},
   "outputs": [
    {
     "name": "stdout",
     "output_type": "stream",
     "text": [
      "<class 'pandas.core.frame.DataFrame'>\n",
      "RangeIndex: 1000 entries, 0 to 999\n",
      "Data columns (total 7 columns):\n",
      " #   Column   Non-Null Count  Dtype  \n",
      "---  ------   --------------  -----  \n",
      " 0   logwage  1000 non-null   float32\n",
      " 1   female   1000 non-null   float32\n",
      " 2   educ     1000 non-null   float32\n",
      " 3   test11r  1000 non-null   float32\n",
      " 4   test11m  1000 non-null   float32\n",
      " 5   mumso    1000 non-null   float32\n",
      " 6   dadso    1000 non-null   float32\n",
      "dtypes: float32(7)\n",
      "memory usage: 27.5 KB\n"
     ]
    },
    {
     "name": "stderr",
     "output_type": "stream",
     "text": [
      "C:\\Users\\et396\\AppData\\Local\\Temp\\ipykernel_30724\\2308428612.py:35: DeprecationWarning: is_categorical_dtype is deprecated and will be removed in a future version. Use isinstance(dtype, pd.CategoricalDtype) instead\n"
     ]
    }
   ],
   "source": [
    "# Filtro de variables\n",
    "response = ['logwage']\n",
    "inputs   = ['female', 'educ', 'test11r', 'test11m', 'mumso', 'dadso']\n",
    "data_analysis = base[response + inputs]\n",
    "\n",
    "# Normalise informacion : number, category columns\n",
    "data_fit = normalize_frame(data_analysis)\n",
    "data_fit.info()"
   ]
  },
  {
   "cell_type": "markdown",
   "id": "0be340b5-1b34-42d2-b8a3-ba47c758542d",
   "metadata": {},
   "source": [
    "# Pregunta 1"
   ]
  },
  {
   "cell_type": "markdown",
   "id": "5fb50275-a172-4e31-9686-5521f106d6a5",
   "metadata": {},
   "source": [
    "## Modelo MCO"
   ]
  },
  {
   "cell_type": "code",
   "execution_count": 5,
   "id": "598b609e-1544-43d5-ab9f-1d3361a38be8",
   "metadata": {},
   "outputs": [],
   "source": [
    "# Independed variabkes\n",
    "response = data_fit[['logwage']]\n",
    "\n",
    "# Depended variables\n",
    "predictors_cols1 = ['female', 'educ']\n",
    "predictors_cols2 = ['female', 'educ', 'test11r', 'test11m', 'mumso', 'dadso']\n"
   ]
  },
  {
   "cell_type": "code",
   "execution_count": 6,
   "id": "1f865200-0c19-4bf2-860e-8a290af68295",
   "metadata": {},
   "outputs": [
    {
     "name": "stdout",
     "output_type": "stream",
     "text": [
      "                            OLS Regression Results                            \n",
      "==============================================================================\n",
      "Dep. Variable:                logwage   R-squared:                       0.224\n",
      "Model:                            OLS   Adj. R-squared:                  0.222\n",
      "Method:                 Least Squares   F-statistic:                     145.8\n",
      "Date:                Sun, 31 Mar 2024   Prob (F-statistic):           2.93e-56\n",
      "Time:                        16:14:16   Log-Likelihood:                -611.05\n",
      "No. Observations:                1000   AIC:                             1228.\n",
      "Df Residuals:                     997   BIC:                             1243.\n",
      "Df Model:                           2                                         \n",
      "Covariance Type:                  HC1                                         \n",
      "==================================================================================\n",
      "                     coef    std err          z      P>|z|      [0.025      0.975]\n",
      "----------------------------------------------------------------------------------\n",
      "const              1.6949      0.032     53.272      0.000       1.633       1.757\n",
      "number__female    -0.2949      0.029    -10.325      0.000      -0.351      -0.239\n",
      "number__educ       0.0761      0.006     11.721      0.000       0.063       0.089\n",
      "==============================================================================\n",
      "Omnibus:                      292.664   Durbin-Watson:                   2.005\n",
      "Prob(Omnibus):                  0.000   Jarque-Bera (JB):             2525.046\n",
      "Skew:                           1.086   Prob(JB):                         0.00\n",
      "Kurtosis:                      10.475   Cond. No.                         10.9\n",
      "==============================================================================\n",
      "\n",
      "Notes:\n",
      "[1] Standard Errors are heteroscedasticity robust (HC1)\n"
     ]
    }
   ],
   "source": [
    "base1       = data_fit[predictors_cols1]\n",
    "predictors  = data_fit[predictors_cols1]\n",
    "transformer = sklearn.clone(base_transformer)\n",
    "inputs      = transformer.fit_transform(predictors)\n",
    "inputs      = pandas.DataFrame(inputs, index=base1.index,\n",
    "                               columns=transformer.get_feature_names_out())\n",
    "inputs      = sm.add_constant(inputs, has_constant=\"raise\")\n",
    "\n",
    "m1 = sm.OLS( response, inputs).fit(cov_type=\"HC1\")\n",
    "print(m1.summary())"
   ]
  },
  {
   "cell_type": "code",
   "execution_count": 7,
   "id": "4dd97a5f-5d01-4779-a240-e34e681f336a",
   "metadata": {},
   "outputs": [
    {
     "data": {
      "text/html": [
       "<table style=\"text-align:center\"><tr><td colspan=\"2\" style=\"border-bottom: 1px solid black\"></td></tr>\n",
       "<tr><td style=\"text-align:left\"></td><td colspan=\"1\"><em>Dependent variable: logwage</em></td></tr><tr><td style=\"text-align:left\"></td><tr><td></td><td colspan=\"1\">log wage</td></tr><tr><td style=\"text-align:left\"></td><td>(1)</td></tr>\n",
       "<tr><td colspan=\"2\" style=\"border-bottom: 1px solid black\"></td></tr>\n",
       "\n",
       "<tr><td style=\"text-align:left\">number__educ</td><td>0.076<sup>***</sup></td></tr>\n",
       "<tr><td style=\"text-align:left\"></td><td>(0.006)</td></tr>\n",
       "<tr><td style=\"text-align:left\">number__female</td><td>-0.295<sup>***</sup></td></tr>\n",
       "<tr><td style=\"text-align:left\"></td><td>(0.029)</td></tr>\n",
       "\n",
       "<tr><td style=\"text-align: left\">Efectos fijos individuos</td><td>No</td></tr><tr><td style=\"text-align: left\">Efectos fijos Year</td><td>No</td></tr><td colspan=\"2\" style=\"border-bottom: 1px solid black\"></td></tr>\n",
       "<tr><td style=\"text-align: left\">Observations</td><td>1000</td></tr><tr><td style=\"text-align: left\">R<sup>2</sup></td><td>0.224</td></tr><tr><td style=\"text-align: left\">Adjusted R<sup>2</sup></td><td>0.222</td></tr><tr><td style=\"text-align: left\">Residual Std. Error</td><td>0.446 (df=997)</td></tr><tr><td style=\"text-align: left\">F Statistic</td><td>145.765<sup>***</sup> (df=2; 997)</td></tr>\n",
       "<tr><td colspan=\"2\" style=\"border-bottom: 1px solid black\"></td></tr><tr><td style=\"text-align: left\">Note:</td><td colspan=\"1\" style=\"text-align: right\"><sup>*</sup>p&lt;0.1; <sup>**</sup>p&lt;0.05; <sup>***</sup>p&lt;0.01</td></tr></table>"
      ],
      "text/plain": [
       "<stargazer.stargazer.Stargazer at 0x21a87668b00>"
      ]
     },
     "execution_count": 7,
     "metadata": {},
     "output_type": "execute_result"
    }
   ],
   "source": [
    "stargazer = Stargazer([m1])\n",
    "stargazer.custom_columns([\"log wage\"], [1])\n",
    "stargazer.covariate_order([\"number__educ\", 'number__female'])\n",
    "stargazer.rename_covariates({\"Intercept\": \"Constant\"})\n",
    "stargazer.add_line(\"Efectos fijos individuos\", [\"No\"])\n",
    "stargazer.add_line(\"Efectos fijos Year\", [\"No\"])\n",
    "stargazer"
   ]
  },
  {
   "cell_type": "markdown",
   "id": "55b9e1b5-bc86-4fc8-a720-434e5e24ead0",
   "metadata": {},
   "source": [
    "# Pregunta 3"
   ]
  },
  {
   "cell_type": "markdown",
   "id": "bf3e5b6c-7a04-4248-9c38-d6351c8161a9",
   "metadata": {},
   "source": [
    "## Modelo forma reducida"
   ]
  },
  {
   "cell_type": "code",
   "execution_count": 8,
   "id": "ac5f9352-86f6-4f4c-8018-d1d5c71936f4",
   "metadata": {},
   "outputs": [],
   "source": [
    "# Independed variabkes\n",
    "response = data_fit[['educ']]\n",
    "\n",
    "# Depended variables\n",
    "predictors_cols1 = ['female', 'test11r', 'test11m', 'mumso', 'dadso']"
   ]
  },
  {
   "cell_type": "code",
   "execution_count": 9,
   "id": "27149ba6-b651-40c6-98bc-0bcb1d84d3b0",
   "metadata": {},
   "outputs": [],
   "source": [
    "base1       = data_fit[predictors_cols1]\n",
    "predictors  = data_fit[predictors_cols1]\n",
    "transformer = sklearn.clone(base_transformer)\n",
    "inputs      = transformer.fit_transform(predictors)\n",
    "inputs      = pandas.DataFrame(inputs, index=base1.index,\n",
    "                               columns=transformer.get_feature_names_out())\n",
    "inputs      = sm.add_constant(inputs, has_constant=\"raise\")\n",
    "\n",
    "m2 = sm.OLS( response, inputs).fit(cov_type=\"HC1\")"
   ]
  },
  {
   "cell_type": "code",
   "execution_count": 10,
   "id": "d90f5d6c-d471-43d6-8843-6b05398ff821",
   "metadata": {},
   "outputs": [
    {
     "data": {
      "text/plain": [
       "Index(['const', 'number__female', 'number__test11r', 'number__test11m',\n",
       "       'number__mumso', 'number__dadso'],\n",
       "      dtype='object')"
      ]
     },
     "execution_count": 10,
     "metadata": {},
     "output_type": "execute_result"
    }
   ],
   "source": [
    "inputs.columns"
   ]
  },
  {
   "cell_type": "code",
   "execution_count": 11,
   "id": "f10a0562-4ebc-4dd6-a027-d73246ed17f5",
   "metadata": {},
   "outputs": [
    {
     "data": {
      "text/html": [
       "<table style=\"text-align:center\"><tr><td colspan=\"2\" style=\"border-bottom: 1px solid black\"></td></tr>\n",
       "<tr><td style=\"text-align:left\"></td><td colspan=\"1\"><em>Dependent variable: educ</em></td></tr><tr><td style=\"text-align:left\"></td><tr><td></td><td colspan=\"1\">Educ</td></tr><tr><td style=\"text-align:left\"></td><td>(1)</td></tr>\n",
       "<tr><td colspan=\"2\" style=\"border-bottom: 1px solid black\"></td></tr>\n",
       "\n",
       "<tr><td style=\"text-align:left\">number__female</td><td>-0.056<sup></sup></td></tr>\n",
       "<tr><td style=\"text-align:left\"></td><td>(0.116)</td></tr>\n",
       "<tr><td style=\"text-align:left\">number__test11r</td><td>0.032<sup>***</sup></td></tr>\n",
       "<tr><td style=\"text-align:left\"></td><td>(0.005)</td></tr>\n",
       "<tr><td style=\"text-align:left\">number__test11m</td><td>0.031<sup>***</sup></td></tr>\n",
       "<tr><td style=\"text-align:left\"></td><td>(0.003)</td></tr>\n",
       "<tr><td style=\"text-align:left\">number__mumso</td><td>0.567<sup>***</sup></td></tr>\n",
       "<tr><td style=\"text-align:left\"></td><td>(0.152)</td></tr>\n",
       "<tr><td style=\"text-align:left\">number__dadso</td><td>0.539<sup>***</sup></td></tr>\n",
       "<tr><td style=\"text-align:left\"></td><td>(0.164)</td></tr>\n",
       "\n",
       "<tr><td style=\"text-align: left\">Efectos fijos individuos</td><td>No</td></tr><tr><td style=\"text-align: left\">Efectos fijos Year</td><td>No</td></tr><td colspan=\"2\" style=\"border-bottom: 1px solid black\"></td></tr>\n",
       "<tr><td style=\"text-align: left\">Observations</td><td>1000</td></tr><tr><td style=\"text-align: left\">R<sup>2</sup></td><td>0.386</td></tr><tr><td style=\"text-align: left\">Adjusted R<sup>2</sup></td><td>0.383</td></tr><tr><td style=\"text-align: left\">Residual Std. Error</td><td>1.836 (df=994)</td></tr><tr><td style=\"text-align: left\">F Statistic</td><td>136.234<sup>***</sup> (df=5; 994)</td></tr>\n",
       "<tr><td colspan=\"2\" style=\"border-bottom: 1px solid black\"></td></tr><tr><td style=\"text-align: left\">Note:</td><td colspan=\"1\" style=\"text-align: right\"><sup>*</sup>p&lt;0.1; <sup>**</sup>p&lt;0.05; <sup>***</sup>p&lt;0.01</td></tr></table>"
      ],
      "text/plain": [
       "<stargazer.stargazer.Stargazer at 0x21a859645c0>"
      ]
     },
     "execution_count": 11,
     "metadata": {},
     "output_type": "execute_result"
    }
   ],
   "source": [
    "stargazer = Stargazer([m2])\n",
    "stargazer.custom_columns([\"Educ\"], [1])\n",
    "stargazer.covariate_order([\"number__female\", 'number__test11r', 'number__test11m', 'number__mumso', 'number__dadso'])\n",
    "stargazer.rename_covariates({\"Intercept\": \"Constant\"})\n",
    "stargazer.add_line(\"Efectos fijos individuos\", [\"No\"])\n",
    "stargazer.add_line(\"Efectos fijos Year\", [\"No\"])\n",
    "stargazer"
   ]
  },
  {
   "cell_type": "markdown",
   "id": "5e82e913-bcd0-4431-9e29-58a356f2d4b6",
   "metadata": {},
   "source": [
    "## Modelo IV manualmente"
   ]
  },
  {
   "cell_type": "code",
   "execution_count": 12,
   "id": "f6dcc342-1d3d-470b-8e0e-ed92a34202ac",
   "metadata": {},
   "outputs": [],
   "source": [
    "data_fit['educhat'] = m2.predict(inputs)\n",
    "\n",
    "# Variable independiente\n",
    "response = data_fit[['logwage']]\n",
    "\n",
    "# Depended variables\n",
    "predictors_cols1 = ['female', 'educhat']\n",
    "\n",
    "# Modelo IV manualmente\n",
    "base1       = data_fit[predictors_cols1]\n",
    "predictors  = data_fit[predictors_cols1]\n",
    "transformer = sklearn.clone(base_transformer)\n",
    "inputs      = transformer.fit_transform(predictors)\n",
    "inputs      = pandas.DataFrame(inputs, index=base1.index,\n",
    "                               columns=transformer.get_feature_names_out())\n",
    "inputs      = sm.add_constant(inputs, has_constant=\"raise\")\n",
    "\n",
    "m3 = sm.OLS( response, inputs).fit(cov_type=\"HC1\")"
   ]
  },
  {
   "cell_type": "code",
   "execution_count": 13,
   "id": "621903d7-d5f1-4f82-8b0f-e452c7b30959",
   "metadata": {},
   "outputs": [
    {
     "name": "stdout",
     "output_type": "stream",
     "text": [
      "                            OLS Regression Results                            \n",
      "==============================================================================\n",
      "Dep. Variable:                logwage   R-squared:                       0.199\n",
      "Model:                            OLS   Adj. R-squared:                  0.197\n",
      "Method:                 Least Squares   F-statistic:                     132.0\n",
      "Date:                Sun, 31 Mar 2024   Prob (F-statistic):           1.36e-51\n",
      "Time:                        16:45:06   Log-Likelihood:                -626.66\n",
      "No. Observations:                1000   AIC:                             1259.\n",
      "Df Residuals:                     997   BIC:                             1274.\n",
      "Df Model:                           2                                         \n",
      "Covariance Type:                  HC1                                         \n",
      "===================================================================================\n",
      "                      coef    std err          z      P>|z|      [0.025      0.975]\n",
      "-----------------------------------------------------------------------------------\n",
      "const               1.5714      0.038     41.151      0.000       1.497       1.646\n",
      "number__female     -0.2829      0.029     -9.790      0.000      -0.340      -0.226\n",
      "number__educhat     0.1101      0.009     11.788      0.000       0.092       0.128\n",
      "==============================================================================\n",
      "Omnibus:                      270.931   Durbin-Watson:                   2.026\n",
      "Prob(Omnibus):                  0.000   Jarque-Bera (JB):             1969.403\n",
      "Skew:                           1.039   Prob(JB):                         0.00\n",
      "Kurtosis:                       9.553   Cond. No.                         12.3\n",
      "==============================================================================\n",
      "\n",
      "Notes:\n",
      "[1] Standard Errors are heteroscedasticity robust (HC1)\n"
     ]
    }
   ],
   "source": [
    "print(m3.summary())"
   ]
  },
  {
   "cell_type": "code",
   "execution_count": 14,
   "id": "c725ffa4-3214-4750-8719-deccba929d36",
   "metadata": {},
   "outputs": [
    {
     "data": {
      "text/html": [
       "<table style=\"text-align:center\"><tr><td colspan=\"2\" style=\"border-bottom: 1px solid black\"></td></tr>\n",
       "<tr><td style=\"text-align:left\"></td><td colspan=\"1\"><em>Dependent variable: logwage</em></td></tr><tr><td style=\"text-align:left\"></td><tr><td></td><td colspan=\"1\">log wage</td></tr><tr><td style=\"text-align:left\"></td><td>(1)</td></tr>\n",
       "<tr><td colspan=\"2\" style=\"border-bottom: 1px solid black\"></td></tr>\n",
       "\n",
       "<tr><td style=\"text-align:left\">number__educhat</td><td>0.110<sup>***</sup></td></tr>\n",
       "<tr><td style=\"text-align:left\"></td><td>(0.009)</td></tr>\n",
       "<tr><td style=\"text-align:left\">number__female</td><td>-0.283<sup>***</sup></td></tr>\n",
       "<tr><td style=\"text-align:left\"></td><td>(0.029)</td></tr>\n",
       "\n",
       "<tr><td style=\"text-align: left\">Efectos fijos individuos</td><td>No</td></tr><tr><td style=\"text-align: left\">Efectos fijos Year</td><td>No</td></tr><td colspan=\"2\" style=\"border-bottom: 1px solid black\"></td></tr>\n",
       "<tr><td style=\"text-align: left\">Observations</td><td>1000</td></tr><tr><td style=\"text-align: left\">R<sup>2</sup></td><td>0.199</td></tr><tr><td style=\"text-align: left\">Adjusted R<sup>2</sup></td><td>0.197</td></tr><tr><td style=\"text-align: left\">Residual Std. Error</td><td>0.453 (df=997)</td></tr><tr><td style=\"text-align: left\">F Statistic</td><td>132.029<sup>***</sup> (df=2; 997)</td></tr>\n",
       "<tr><td colspan=\"2\" style=\"border-bottom: 1px solid black\"></td></tr><tr><td style=\"text-align: left\">Note:</td><td colspan=\"1\" style=\"text-align: right\"><sup>*</sup>p&lt;0.1; <sup>**</sup>p&lt;0.05; <sup>***</sup>p&lt;0.01</td></tr></table>"
      ],
      "text/plain": [
       "<stargazer.stargazer.Stargazer at 0x21a87788dd0>"
      ]
     },
     "execution_count": 14,
     "metadata": {},
     "output_type": "execute_result"
    }
   ],
   "source": [
    "stargazer = Stargazer([m3])\n",
    "stargazer.custom_columns([\"log wage\"], [1])\n",
    "stargazer.covariate_order([\"number__educhat\", 'number__female'])\n",
    "stargazer.rename_covariates({\"Intercept\": \"Constant\"})\n",
    "stargazer.add_line(\"Efectos fijos individuos\", [\"No\"])\n",
    "stargazer.add_line(\"Efectos fijos Year\", [\"No\"])\n",
    "stargazer"
   ]
  },
  {
   "cell_type": "markdown",
   "id": "58a258b8-9d49-45a5-9905-e557ed866f97",
   "metadata": {},
   "source": [
    "## Presentacion MCO vs IV"
   ]
  },
  {
   "cell_type": "code",
   "execution_count": 15,
   "id": "9aa8a010-13af-4536-b967-c1589668670c",
   "metadata": {},
   "outputs": [
    {
     "data": {
      "text/html": [
       "<table style=\"text-align:center\"><tr><td colspan=\"3\" style=\"border-bottom: 1px solid black\"></td></tr>\n",
       "<tr><td style=\"text-align:left\"></td><td colspan=\"2\"><em>Dependent variable: logwage</em></td></tr><tr><td style=\"text-align:left\"></td><tr><td></td><td colspan=\"1\">MCO</td><td colspan=\"1\">IV</td></tr><tr><td style=\"text-align:left\"></td><td>(1)</td><td>(2)</td></tr>\n",
       "<tr><td colspan=\"3\" style=\"border-bottom: 1px solid black\"></td></tr>\n",
       "\n",
       "<tr><td style=\"text-align:left\">number__educhat</td><td></td><td>0.110<sup>***</sup></td></tr>\n",
       "<tr><td style=\"text-align:left\"></td><td></td><td>(0.009)</td></tr>\n",
       "<tr><td style=\"text-align:left\">number__educ</td><td>0.076<sup>***</sup></td><td></td></tr>\n",
       "<tr><td style=\"text-align:left\"></td><td>(0.006)</td><td></td></tr>\n",
       "<tr><td style=\"text-align:left\">number__female</td><td>-0.295<sup>***</sup></td><td>-0.283<sup>***</sup></td></tr>\n",
       "<tr><td style=\"text-align:left\"></td><td>(0.029)</td><td>(0.029)</td></tr>\n",
       "\n",
       "<tr><td style=\"text-align: left\">Efectos fijos individuos</td><td>No</td><td>No</td></tr><tr><td style=\"text-align: left\">Efectos fijos Year</td><td>No</td><td>No</td></tr><td colspan=\"3\" style=\"border-bottom: 1px solid black\"></td></tr>\n",
       "<tr><td style=\"text-align: left\">Observations</td><td>1000</td><td>1000</td></tr><tr><td style=\"text-align: left\">R<sup>2</sup></td><td>0.224</td><td>0.199</td></tr><tr><td style=\"text-align: left\">Adjusted R<sup>2</sup></td><td>0.222</td><td>0.197</td></tr><tr><td style=\"text-align: left\">Residual Std. Error</td><td>0.446 (df=997)</td><td>0.453 (df=997)</td></tr><tr><td style=\"text-align: left\">F Statistic</td><td>145.765<sup>***</sup> (df=2; 997)</td><td>132.029<sup>***</sup> (df=2; 997)</td></tr>\n",
       "<tr><td colspan=\"3\" style=\"border-bottom: 1px solid black\"></td></tr><tr><td style=\"text-align: left\">Note:</td><td colspan=\"2\" style=\"text-align: right\"><sup>*</sup>p&lt;0.1; <sup>**</sup>p&lt;0.05; <sup>***</sup>p&lt;0.01</td></tr></table>"
      ],
      "text/plain": [
       "<stargazer.stargazer.Stargazer at 0x21a87668ce0>"
      ]
     },
     "execution_count": 15,
     "metadata": {},
     "output_type": "execute_result"
    }
   ],
   "source": [
    "stargazer = Stargazer([m1, m3])\n",
    "stargazer.custom_columns([\"MCO\" , \"IV\"], [1, 1])\n",
    "stargazer.covariate_order([\"number__educhat\", \"number__educ\", 'number__female'])\n",
    "stargazer.rename_covariates({\"Intercept\": \"Constant\"})\n",
    "stargazer.add_line(\"Efectos fijos individuos\", [\"No\",\"No\"])\n",
    "stargazer.add_line(\"Efectos fijos Year\", [\"No\",\"No\"])\n",
    "stargazer"
   ]
  },
  {
   "cell_type": "markdown",
   "id": "6b552a01-be1d-463b-8510-b443c5b43759",
   "metadata": {},
   "source": [
    "# Pregunta 4-5"
   ]
  },
  {
   "cell_type": "code",
   "execution_count": 16,
   "id": "336e5e75-cf4b-422e-a36a-98aaa54c2e3e",
   "metadata": {},
   "outputs": [],
   "source": [
    "from linearmodels.iv import IV2SLS\n",
    "\n",
    "# Variable independiente\n",
    "response = data_fit[['logwage']]\n",
    "\n",
    "# Depended variables\n",
    "predictors_cols1 = ['female']\n",
    "instrument_cols1 = ['test11r', 'test11m', 'mumso', 'dadso']\n",
    "\n",
    "# Modelo IV manualmente\n",
    "base1       = data_fit[predictors_cols1]\n",
    "predictors  = data_fit[predictors_cols1]\n",
    "transformer = sklearn.clone(base_transformer)\n",
    "inputs      = transformer.fit_transform(predictors)\n",
    "inputs      = pandas.DataFrame(inputs, index=base1.index,\n",
    "                               columns=transformer.get_feature_names_out())\n",
    "inputs      = sm.add_constant(inputs, has_constant=\"raise\")\n",
    "\n",
    "m4 = IV2SLS( response, inputs, data_fit.educ ,data_fit[instrument_cols1]).fit()\n"
   ]
  },
  {
   "cell_type": "code",
   "execution_count": 17,
   "id": "4398b244-320f-4918-8b8c-f2654f45b59c",
   "metadata": {},
   "outputs": [
    {
     "name": "stdout",
     "output_type": "stream",
     "text": [
      "                          IV-2SLS Estimation Summary                          \n",
      "==============================================================================\n",
      "Dep. Variable:                logwage   R-squared:                      0.1993\n",
      "Estimator:                    IV-2SLS   Adj. R-squared:                 0.1976\n",
      "No. Observations:                1000   F-statistic:                    270.86\n",
      "Date:                Sun, Mar 31 2024   P-value (F-stat)                0.0000\n",
      "Time:                        17:17:20   Distribution:                  chi2(2)\n",
      "Cov. Estimator:                robust                                         \n",
      "                                                                              \n",
      "                               Parameter Estimates                                \n",
      "==================================================================================\n",
      "                Parameter  Std. Err.     T-stat    P-value    Lower CI    Upper CI\n",
      "----------------------------------------------------------------------------------\n",
      "const              1.5714     0.0378     41.554     0.0000      1.4973      1.6455\n",
      "number__female    -0.2829     0.0288    -9.8184     0.0000     -0.3394     -0.2265\n",
      "educ               0.1101     0.0091     12.156     0.0000      0.0923      0.1278\n",
      "==================================================================================\n",
      "\n",
      "Endogenous: educ\n",
      "Instruments: test11r, test11m, mumso, dadso\n",
      "Robust Covariance (Heteroskedastic)\n",
      "Debiased: False\n"
     ]
    }
   ],
   "source": [
    "print(m4)"
   ]
  },
  {
   "cell_type": "code",
   "execution_count": 18,
   "id": "781e4c84-a9cf-420e-bda6-8863bf371a61",
   "metadata": {},
   "outputs": [
    {
     "name": "stdout",
     "output_type": "stream",
     "text": [
      "    First Stage Estimation Results    \n",
      "======================================\n",
      "                                  educ\n",
      "--------------------------------------\n",
      "R-squared                       0.3856\n",
      "Partial R-squared               0.3821\n",
      "Shea's R-squared                0.3821\n",
      "Partial F-statistic             677.61\n",
      "P-value (Partial F-stat)        0.0000\n",
      "Partial F-stat Distn           chi2(4)\n",
      "========================== ===========\n",
      "const                           0.3042\n",
      "                              (1.6721)\n",
      "number__female                 -0.0562\n",
      "                             (-0.4839)\n",
      "test11r                         0.0321\n",
      "                              (6.3779)\n",
      "test11m                         0.0307\n",
      "                              (9.2446)\n",
      "mumso                           0.5667\n",
      "                              (3.7402)\n",
      "dadso                           0.5393\n",
      "                              (3.3066)\n",
      "--------------------------------------\n",
      "\n",
      "T-stats reported in parentheses\n",
      "T-stats use same covariance type as original model\n"
     ]
    }
   ],
   "source": [
    "print(m4.first_stage)"
   ]
  },
  {
   "cell_type": "markdown",
   "id": "e71e0ae8-1a0b-4fb4-864f-2507b8b781d4",
   "metadata": {},
   "source": [
    "## Test de Sargan"
   ]
  },
  {
   "cell_type": "code",
   "execution_count": 19,
   "id": "25834ede-6888-4b9d-a8e5-4a8a7552ac3e",
   "metadata": {},
   "outputs": [],
   "source": [
    "data_fit['rmu'] = m4.resids\n"
   ]
  },
  {
   "cell_type": "code",
   "execution_count": 22,
   "id": "33baf9b2-9cff-4f19-9d9e-0a5b1b20bd96",
   "metadata": {},
   "outputs": [],
   "source": [
    "# Variable independiente\n",
    "response = data_fit[['rmu']]\n",
    "\n",
    "# Depended variables\n",
    "predictors_cols1 = ['female', 'test11r', 'test11m', 'mumso', 'dadso']\n",
    "\n",
    "# Regression de los errores\n",
    "base1       = data_fit[predictors_cols1]\n",
    "predictors  = data_fit[predictors_cols1]\n",
    "transformer = sklearn.clone(base_transformer)\n",
    "inputs      = transformer.fit_transform(predictors)\n",
    "inputs      = pandas.DataFrame(inputs, index=base1.index,\n",
    "                               columns=transformer.get_feature_names_out())\n",
    "inputs      = sm.add_constant(inputs, has_constant=\"raise\")\n",
    "\n",
    "m5 = sm.OLS( response, inputs).fit(cov_type=\"HC1\")"
   ]
  },
  {
   "cell_type": "code",
   "execution_count": 23,
   "id": "459e3860-ce78-4ed4-8f54-fde8071e8531",
   "metadata": {},
   "outputs": [
    {
     "name": "stdout",
     "output_type": "stream",
     "text": [
      "                            OLS Regression Results                            \n",
      "==============================================================================\n",
      "Dep. Variable:                    rmu   R-squared:                       0.009\n",
      "Model:                            OLS   Adj. R-squared:                  0.004\n",
      "Method:                 Least Squares   F-statistic:                     1.765\n",
      "Date:                Sun, 31 Mar 2024   Prob (F-statistic):              0.117\n",
      "Time:                        17:22:24   Log-Likelihood:                -621.97\n",
      "No. Observations:                1000   AIC:                             1256.\n",
      "Df Residuals:                     994   BIC:                             1285.\n",
      "Df Model:                           5                                         \n",
      "Covariance Type:                  HC1                                         \n",
      "===================================================================================\n",
      "                      coef    std err          z      P>|z|      [0.025      0.975]\n",
      "-----------------------------------------------------------------------------------\n",
      "const               0.0277      0.042      0.651      0.515      -0.056       0.111\n",
      "number__female     -0.0021      0.029     -0.073      0.942      -0.058       0.054\n",
      "number__test11r    -0.0004      0.001     -0.340      0.734      -0.003       0.002\n",
      "number__test11m    -0.0008      0.001     -0.970      0.332      -0.002       0.001\n",
      "number__mumso       0.0156      0.040      0.395      0.693      -0.062       0.093\n",
      "number__dadso       0.1011      0.041      2.453      0.014       0.020       0.182\n",
      "==============================================================================\n",
      "Omnibus:                      274.046   Durbin-Watson:                   1.980\n",
      "Prob(Omnibus):                  0.000   Jarque-Bera (JB):             2504.151\n",
      "Skew:                           0.983   Prob(JB):                         0.00\n",
      "Kurtosis:                      10.499   Cond. No.                         238.\n",
      "==============================================================================\n",
      "\n",
      "Notes:\n",
      "[1] Standard Errors are heteroscedasticity robust (HC1)\n"
     ]
    }
   ],
   "source": [
    "print(m5.summary())"
   ]
  },
  {
   "cell_type": "code",
   "execution_count": 24,
   "id": "258a3fff-4bc8-4348-ba18-78490ffa9731",
   "metadata": {},
   "outputs": [
    {
     "data": {
      "text/html": [
       "<table style=\"text-align:center\"><tr><td colspan=\"2\" style=\"border-bottom: 1px solid black\"></td></tr>\n",
       "<tr><td style=\"text-align:left\"></td><td colspan=\"1\"><em>Dependent variable: rmu</em></td></tr><tr><td style=\"text-align:left\"></td><tr><td></td><td colspan=\"1\">mu</td></tr><tr><td style=\"text-align:left\"></td><td>(1)</td></tr>\n",
       "<tr><td colspan=\"2\" style=\"border-bottom: 1px solid black\"></td></tr>\n",
       "\n",
       "<tr><td style=\"text-align:left\">number__female</td><td>-0.002<sup></sup></td></tr>\n",
       "<tr><td style=\"text-align:left\"></td><td>(0.029)</td></tr>\n",
       "<tr><td style=\"text-align:left\">number__test11r</td><td>-0.000<sup></sup></td></tr>\n",
       "<tr><td style=\"text-align:left\"></td><td>(0.001)</td></tr>\n",
       "<tr><td style=\"text-align:left\">number__test11m</td><td>-0.001<sup></sup></td></tr>\n",
       "<tr><td style=\"text-align:left\"></td><td>(0.001)</td></tr>\n",
       "<tr><td style=\"text-align:left\">number__mumso</td><td>0.016<sup></sup></td></tr>\n",
       "<tr><td style=\"text-align:left\"></td><td>(0.040)</td></tr>\n",
       "<tr><td style=\"text-align:left\">number__dadso</td><td>0.101<sup>**</sup></td></tr>\n",
       "<tr><td style=\"text-align:left\"></td><td>(0.041)</td></tr>\n",
       "\n",
       "<tr><td style=\"text-align: left\">Efectos fijos individuos</td><td>No</td></tr><tr><td style=\"text-align: left\">Efectos fijos Year</td><td>No</td></tr><td colspan=\"2\" style=\"border-bottom: 1px solid black\"></td></tr>\n",
       "<tr><td style=\"text-align: left\">Observations</td><td>1000</td></tr><tr><td style=\"text-align: left\">R<sup>2</sup></td><td>0.009</td></tr><tr><td style=\"text-align: left\">Adjusted R<sup>2</sup></td><td>0.004</td></tr><tr><td style=\"text-align: left\">Residual Std. Error</td><td>0.452 (df=994)</td></tr><tr><td style=\"text-align: left\">F Statistic</td><td>1.765<sup></sup> (df=5; 994)</td></tr>\n",
       "<tr><td colspan=\"2\" style=\"border-bottom: 1px solid black\"></td></tr><tr><td style=\"text-align: left\">Note:</td><td colspan=\"1\" style=\"text-align: right\"><sup>*</sup>p&lt;0.1; <sup>**</sup>p&lt;0.05; <sup>***</sup>p&lt;0.01</td></tr></table>"
      ],
      "text/plain": [
       "<stargazer.stargazer.Stargazer at 0x21a88edbda0>"
      ]
     },
     "execution_count": 24,
     "metadata": {},
     "output_type": "execute_result"
    }
   ],
   "source": [
    "stargazer = Stargazer([m5])\n",
    "stargazer.custom_columns([\"mu\"], [1])\n",
    "stargazer.covariate_order([\"number__female\", 'number__test11r', 'number__test11m', 'number__mumso', 'number__dadso'])\n",
    "stargazer.rename_covariates({\"Intercept\": \"Constant\"})\n",
    "stargazer.add_line(\"Efectos fijos individuos\", [\"No\"])\n",
    "stargazer.add_line(\"Efectos fijos Year\", [\"No\"])\n",
    "stargazer"
   ]
  },
  {
   "cell_type": "code",
   "execution_count": 25,
   "id": "7188b5ca-227d-46af-bd4f-7cc8628d0811",
   "metadata": {},
   "outputs": [
    {
     "data": {
      "text/plain": [
       "Wooldridge's score test of overidentification\n",
       "H0: Model is not overidentified.\n",
       "Statistic: 8.6666\n",
       "P-value: 0.0341\n",
       "Distributed: chi2(3)\n",
       "WaldTestStatistic, id: 0x21a88ed83e0"
      ]
     },
     "execution_count": 25,
     "metadata": {},
     "output_type": "execute_result"
    }
   ],
   "source": [
    "m4.wooldridge_overid"
   ]
  },
  {
   "cell_type": "markdown",
   "id": "40a383e9-e7ef-40af-8cf5-4d7817362925",
   "metadata": {},
   "source": [
    "# Pregunta 6"
   ]
  },
  {
   "cell_type": "code",
   "execution_count": 26,
   "id": "f57e1430-690d-4fd8-b0b1-32669e46ceb2",
   "metadata": {},
   "outputs": [],
   "source": [
    "data_fit['rerror'] = m2.resid"
   ]
  },
  {
   "cell_type": "code",
   "execution_count": 27,
   "id": "3a624766-7e87-41bd-a876-bf0c1bed7096",
   "metadata": {},
   "outputs": [],
   "source": [
    "# Variable independiente\n",
    "response = data_fit[['logwage']]\n",
    "\n",
    "# Depended variables\n",
    "predictors_cols1 = ['female','educ', 'rerror']\n",
    "\n",
    "# Modelo IV manualmente\n",
    "base1       = data_fit[predictors_cols1]\n",
    "predictors  = data_fit[predictors_cols1]\n",
    "transformer = sklearn.clone(base_transformer)\n",
    "inputs      = transformer.fit_transform(predictors)\n",
    "inputs      = pandas.DataFrame(inputs, index=base1.index,\n",
    "                               columns=transformer.get_feature_names_out())\n",
    "inputs      = sm.add_constant(inputs, has_constant=\"raise\")\n",
    "\n",
    "m6 = sm.OLS( response, inputs).fit(cov_type=\"HC1\")"
   ]
  },
  {
   "cell_type": "code",
   "execution_count": 28,
   "id": "9ad5a62a-eef0-46e2-9c60-a50f6d5b1588",
   "metadata": {},
   "outputs": [
    {
     "data": {
      "text/html": [
       "<table style=\"text-align:center\"><tr><td colspan=\"2\" style=\"border-bottom: 1px solid black\"></td></tr>\n",
       "<tr><td style=\"text-align:left\"></td><td colspan=\"1\"><em>Dependent variable: logwage</em></td></tr><tr><td style=\"text-align:left\"></td><tr><td></td><td colspan=\"1\">log wage</td></tr><tr><td style=\"text-align:left\"></td><td>(1)</td></tr>\n",
       "<tr><td colspan=\"2\" style=\"border-bottom: 1px solid black\"></td></tr>\n",
       "\n",
       "<tr><td style=\"text-align:left\">number__educ</td><td>0.110<sup>***</sup></td></tr>\n",
       "<tr><td style=\"text-align:left\"></td><td>(0.009)</td></tr>\n",
       "<tr><td style=\"text-align:left\">number__female</td><td>-0.283<sup>***</sup></td></tr>\n",
       "<tr><td style=\"text-align:left\"></td><td>(0.028)</td></tr>\n",
       "<tr><td style=\"text-align:left\">number__rerror</td><td>-0.055<sup>***</sup></td></tr>\n",
       "<tr><td style=\"text-align:left\"></td><td>(0.013)</td></tr>\n",
       "\n",
       "<tr><td style=\"text-align: left\">Efectos fijos individuos</td><td>No</td></tr><tr><td style=\"text-align: left\">Efectos fijos Year</td><td>No</td></tr><td colspan=\"2\" style=\"border-bottom: 1px solid black\"></td></tr>\n",
       "<tr><td style=\"text-align: left\">Observations</td><td>1000</td></tr><tr><td style=\"text-align: left\">R<sup>2</sup></td><td>0.239</td></tr><tr><td style=\"text-align: left\">Adjusted R<sup>2</sup></td><td>0.236</td></tr><tr><td style=\"text-align: left\">Residual Std. Error</td><td>0.442 (df=996)</td></tr><tr><td style=\"text-align: left\">F Statistic</td><td>112.030<sup>***</sup> (df=3; 996)</td></tr>\n",
       "<tr><td colspan=\"2\" style=\"border-bottom: 1px solid black\"></td></tr><tr><td style=\"text-align: left\">Note:</td><td colspan=\"1\" style=\"text-align: right\"><sup>*</sup>p&lt;0.1; <sup>**</sup>p&lt;0.05; <sup>***</sup>p&lt;0.01</td></tr></table>"
      ],
      "text/plain": [
       "<stargazer.stargazer.Stargazer at 0x21a88f527b0>"
      ]
     },
     "execution_count": 28,
     "metadata": {},
     "output_type": "execute_result"
    }
   ],
   "source": [
    "stargazer = Stargazer([m6])\n",
    "stargazer.custom_columns([\"log wage\"], [1])\n",
    "stargazer.covariate_order([\"number__educ\", 'number__female','number__rerror'])\n",
    "stargazer.rename_covariates({\"Intercept\": \"Constant\"})\n",
    "stargazer.add_line(\"Efectos fijos individuos\", [\"No\"])\n",
    "stargazer.add_line(\"Efectos fijos Year\", [\"No\"])\n",
    "stargazer"
   ]
  },
  {
   "cell_type": "code",
   "execution_count": 29,
   "id": "1b56c9e8-ef7b-4eaf-a128-67c232f964ec",
   "metadata": {},
   "outputs": [
    {
     "data": {
      "text/plain": [
       "Wooldridge's regression test of exogeneity\n",
       "H0: Endogenous variables are exogenous\n",
       "Statistic: 18.8200\n",
       "P-value: 0.0000\n",
       "Distributed: chi2(1)\n",
       "WaldTestStatistic, id: 0x21a88f209b0"
      ]
     },
     "execution_count": 29,
     "metadata": {},
     "output_type": "execute_result"
    }
   ],
   "source": [
    "# Test de exogenidad\n",
    "m4.wooldridge_regression"
   ]
  },
  {
   "cell_type": "code",
   "execution_count": 30,
   "id": "d7c37997-d610-4d8a-a8c2-78a5345cd15d",
   "metadata": {},
   "outputs": [],
   "source": [
    "from linearmodels.iv import compare\n",
    "\n",
    "# Variable independiente\n",
    "response = data_fit[['logwage']]\n",
    "\n",
    "# Depended variables\n",
    "predictors_cols1 = ['female']\n",
    "instrument_cols1 = ['test11r', 'test11m', 'mumso', 'dadso']\n",
    "\n",
    "# Modelo IV manualmente\n",
    "base1       = data_fit[predictors_cols1]\n",
    "predictors  = data_fit[predictors_cols1]\n",
    "transformer = sklearn.clone(base_transformer)\n",
    "inputs      = transformer.fit_transform(predictors)\n",
    "inputs      = pandas.DataFrame(inputs, index=base1.index,\n",
    "                               columns=transformer.get_feature_names_out())\n",
    "inputs      = sm.add_constant(inputs, has_constant=\"raise\")\n",
    "\n",
    "# Modificamos el datafit agregando constantes\n",
    "predictors_cols2 = ['female', 'educ']\n",
    "base2       = data_fit[predictors_cols2]\n",
    "predictors  = data_fit[predictors_cols2]\n",
    "transformer = sklearn.clone(base_transformer)\n",
    "inputs2      = transformer.fit_transform(predictors)\n",
    "inputs2      = pandas.DataFrame(inputs2, index=base2.index,\n",
    "                               columns=transformer.get_feature_names_out())\n",
    "inputs2      = sm.add_constant(inputs2, has_constant=\"raise\")\n",
    "\n",
    "\n",
    "m7 = IV2SLS( response, inputs2 ,None,  None).fit()\n",
    "m8 = IV2SLS( response, inputs, data_fit.educ ,data_fit[instrument_cols1]).fit()\n"
   ]
  },
  {
   "cell_type": "code",
   "execution_count": 31,
   "id": "ac2a9a7b-20cb-48ab-a059-9226c15ab211",
   "metadata": {},
   "outputs": [
    {
     "name": "stdout",
     "output_type": "stream",
     "text": [
      "                Model Comparison                \n",
      "================================================\n",
      "                               OLS          2SLS\n",
      "------------------------------------------------\n",
      "Dep. Variable              logwage       logwage\n",
      "Estimator                      OLS       IV-2SLS\n",
      "No. Observations              1000          1000\n",
      "Cov. Est.                   robust        robust\n",
      "R-squared                   0.2237        0.1993\n",
      "Adj. R-squared              0.2221        0.1976\n",
      "F-statistic                 292.41        270.86\n",
      "P-value (F-stat)            0.0000        0.0000\n",
      "==================     ===========   ===========\n",
      "const                       1.6949        1.5714\n",
      "                          (53.352)      (41.554)\n",
      "number__female             -0.2949       -0.2829\n",
      "                         (-10.341)     (-9.8184)\n",
      "number__educ                0.0761              \n",
      "                          (11.739)              \n",
      "educ                                      0.1101\n",
      "                                        (12.156)\n",
      "==================== ============= =============\n",
      "Instruments                              test11r\n",
      "                                         test11m\n",
      "                                           mumso\n",
      "                                           dadso\n",
      "------------------------------------------------\n",
      "\n",
      "T-stats reported in parentheses\n"
     ]
    }
   ],
   "source": [
    "print(compare({\"OLS\": m7, \"2SLS\": m8}))"
   ]
  },
  {
   "cell_type": "code",
   "execution_count": null,
   "id": "2262e27b-fade-4127-983b-660a13356889",
   "metadata": {},
   "outputs": [],
   "source": []
  }
 ],
 "metadata": {
  "kernelspec": {
   "display_name": "Python 3 (ipykernel)",
   "language": "python",
   "name": "python3"
  },
  "language_info": {
   "codemirror_mode": {
    "name": "ipython",
    "version": 3
   },
   "file_extension": ".py",
   "mimetype": "text/x-python",
   "name": "python",
   "nbconvert_exporter": "python",
   "pygments_lexer": "ipython3",
   "version": "3.12.2"
  }
 },
 "nbformat": 4,
 "nbformat_minor": 5
}
