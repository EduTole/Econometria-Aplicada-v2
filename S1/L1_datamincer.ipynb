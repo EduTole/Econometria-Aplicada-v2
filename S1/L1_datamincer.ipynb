{
 "cells": [
  {
   "cell_type": "code",
   "execution_count": null,
   "id": "768a6b90-5dbf-4d5b-ba29-73216f0de89b",
   "metadata": {},
   "outputs": [],
   "source": []
  },
  {
   "cell_type": "markdown",
   "id": "36285e59-c388-47e3-ae7e-5cefdfaf0c8e",
   "metadata": {},
   "source": [
    "<center style=\"font-size: 2em; font-weight: bold;\"> Base de datos Mincer Peruano </center>\n",
    "<center style=\"font-size: 2em; font-weight: bold;\"> Manejo de base de datos  </center>\n",
    "<left style=\"font-size: 4em; font-weight: bold;\"> Autor: Edinson Tolentino </left>"
   ]
  },
  {
   "cell_type": "markdown",
   "id": "9bc652ea-c95b-442b-86e5-86f2444ee20a",
   "metadata": {},
   "source": [
    "# Inicio"
   ]
  },
  {
   "cell_type": "code",
   "execution_count": 1,
   "id": "fb52bcbe-22e3-4a9a-816d-72ef2095738a",
   "metadata": {},
   "outputs": [],
   "source": [
    "import pandas\n",
    "import numpy\n",
    "import os\n",
    "import sys\n",
    "#import pyreadstat"
   ]
  },
  {
   "cell_type": "code",
   "execution_count": 2,
   "id": "cf81d41b-3f86-495c-8e67-f40bc8837a89",
   "metadata": {},
   "outputs": [],
   "source": [
    "import codigos_enaho"
   ]
  },
  {
   "cell_type": "markdown",
   "id": "82f09b40-8264-4f1f-af7a-bc0ab35e869d",
   "metadata": {},
   "source": [
    "## Cargar Data"
   ]
  },
  {
   "cell_type": "code",
   "execution_count": 3,
   "id": "86036515-f4d3-4518-8a7b-c2750e165ad6",
   "metadata": {},
   "outputs": [],
   "source": [
    "data_enaho       = \"C:/Users/et396/Dropbox/BASES/ENAHO\"\n",
    "output           = \"C:/Users/et396/Dropbox/Docencia/Educate/Econometria/S1/Data\"\n"
   ]
  },
  {
   "cell_type": "code",
   "execution_count": 4,
   "id": "efbd745c-0371-45f9-9b60-0bbf56c9f131",
   "metadata": {},
   "outputs": [],
   "source": [
    "# Seleccion de variables de la base de empleo\n",
    "variables_500 = ['conglome', 'vivienda', 'hogar', 'codperso','p301a','ocu500','p208a',\n",
    "                 'i524a1', 'd529t', 'i530a', 'd536', 'i538a1', 'd540t', 'i541a', 'd543', 'd544t',\n",
    "                 'p207','p203','ubigeo', 'p209']"
   ]
  },
  {
   "cell_type": "code",
   "execution_count": null,
   "id": "1ed086fd-4740-437e-869e-bd591f6a46b8",
   "metadata": {},
   "outputs": [],
   "source": [
    "fechas =[2019]\n",
    "for x in fechas:\n",
    "    \n",
    "    # informacion de carpetas \n",
    "    year             = f\"{x}\"\n",
    "    modulo_empleo    = f\"enaho01a-{x}-500.dta\" # survey labor force\n",
    "    modulo_educacion = f\"enaho01a-{x}-300.dta\" # survey education\n",
    "    modulo_sumaria   = f\"sumaria-{x}.dta\"      # survey poverty\n",
    "\n",
    "\n",
    "    data_500      = os.path.join(data_enaho, year, modulo_empleo)\n",
    "    data_300      = os.path.join(data_enaho, year, modulo_educacion)\n",
    "    data_340      = os.path.join(data_enaho, year, modulo_sumaria)\n",
    "\n",
    "\n",
    "    # Carga de data\n",
    "    data_empleo      = pandas.read_stata(data_500 , columns = variables_500 ) # filtro de variables"
   ]
  },
  {
   "cell_type": "code",
   "execution_count": null,
   "id": "7e1f684c-c599-4fe5-8b28-fc0dacb71f58",
   "metadata": {},
   "outputs": [],
   "source": [
    "data_empleo['p209'].value_counts()\n",
    "#data_empleo['p209'].info()\n"
   ]
  },
  {
   "cell_type": "code",
   "execution_count": 5,
   "id": "f9bdef59-a9ce-401b-8433-51fd77e70a26",
   "metadata": {},
   "outputs": [
    {
     "name": "stderr",
     "output_type": "stream",
     "text": [
      "C:\\Users\\et396\\.conda\\envs\\python_last\\Lib\\site-packages\\pandas\\core\\arraylike.py:399: RuntimeWarning: divide by zero encountered in log\n",
      "  result = getattr(ufunc, method)(*inputs, **kwargs)\n",
      "C:\\Users\\et396\\Dropbox\\Docencia\\Educate\\Econometria\\S1\\Data\\codigos_enaho.py:48: FutureWarning: The behavior of Series.replace (and DataFrame.replace) with CategoricalDtype is deprecated. In a future version, replace will only be used for cases that preserve the categories. To change the categories, use ser.cat.rename_categories instead.\n",
      "  frame['rneduca'] = frame['p301a'].replace({\"sin nivel\": \"inicial\",\n",
      "C:\\Users\\et396\\Dropbox\\Docencia\\Educate\\Econometria\\S1\\Data\\codigos_enaho.py:70: FutureWarning: The behavior of Series.replace (and DataFrame.replace) with CategoricalDtype is deprecated. In a future version, replace will only be used for cases that preserve the categories. To change the categories, use ser.cat.rename_categories instead.\n",
      "  frame['pareja'] = frame['p209'].replace({\"casado(a)\": \"pareja\",\n"
     ]
    },
    {
     "name": "stdout",
     "output_type": "stream",
     "text": [
      "\n",
      "--------------------- informacion de cantidad de datos y variables year:2019\n",
      "(25074, 16)\n",
      "                      6270           18286          6617 \n",
      "rcod_persona  0081251431101  0075970081101  0089410351101\n",
      "rcod_hogar      00812514311    00759700811    00894103511\n",
      "rmujer                    0              0              1\n",
      "r6                  5040.75    1995.916667          397.0\n",
      "lnr6                8.52531       7.598859       5.983936\n",
      "rmu                       0              0              0\n",
      "rneduca            primaria          Univ.       primaria\n",
      "r3                        1              1              1\n",
      "redad                    44             34             36\n",
      "redadsq                1936           1156           1296\n",
      "rDpto                  Lima           Lima          Piura\n",
      "rpareja                   1              0              1\n",
      "reduca                  0.0           16.0            0.0\n",
      "rpobre                    1              0              1\n",
      "rmiembro                  6              1              4\n",
      "rgasto           101.180556    1686.666667     135.458333\n"
     ]
    },
    {
     "name": "stderr",
     "output_type": "stream",
     "text": [
      "C:\\Users\\et396\\.conda\\envs\\python_last\\Lib\\site-packages\\pandas\\core\\arraylike.py:399: RuntimeWarning: divide by zero encountered in log\n",
      "  result = getattr(ufunc, method)(*inputs, **kwargs)\n",
      "C:\\Users\\et396\\Dropbox\\Docencia\\Educate\\Econometria\\S1\\Data\\codigos_enaho.py:48: FutureWarning: The behavior of Series.replace (and DataFrame.replace) with CategoricalDtype is deprecated. In a future version, replace will only be used for cases that preserve the categories. To change the categories, use ser.cat.rename_categories instead.\n",
      "  frame['rneduca'] = frame['p301a'].replace({\"sin nivel\": \"inicial\",\n",
      "C:\\Users\\et396\\Dropbox\\Docencia\\Educate\\Econometria\\S1\\Data\\codigos_enaho.py:70: FutureWarning: The behavior of Series.replace (and DataFrame.replace) with CategoricalDtype is deprecated. In a future version, replace will only be used for cases that preserve the categories. To change the categories, use ser.cat.rename_categories instead.\n",
      "  frame['pareja'] = frame['p209'].replace({\"casado(a)\": \"pareja\",\n"
     ]
    },
    {
     "name": "stdout",
     "output_type": "stream",
     "text": [
      "\n",
      "--------------------- informacion de cantidad de datos y variables year:2018\n",
      "(27486, 16)\n",
      "                      31930          18501          15343\n",
      "rcod_persona  0111820671101  0084601591101  0078260181101\n",
      "rcod_hogar      01118206711    00846015911    00782601811\n",
      "rmujer                    0              1              1\n",
      "r6                   1485.0     896.916667    5668.333333\n",
      "lnr6                7.30317       6.798963        8.64265\n",
      "rmu                       0              0              0\n",
      "rneduca             tecnica          Univ.          Univ.\n",
      "r3                        1              1              1\n",
      "redad                    29             33             27\n",
      "redadsq                 841           1089            729\n",
      "rDpto         Madre de Dios  Madre de Dios           Lima\n",
      "rpareja                   1              0              0\n",
      "reduca                 14.0           14.0           17.0\n",
      "rpobre                    0              0              0\n",
      "rmiembro                  4              4              3\n",
      "rgasto           533.666667     657.291667    2835.861111\n"
     ]
    },
    {
     "name": "stderr",
     "output_type": "stream",
     "text": [
      "C:\\Users\\et396\\.conda\\envs\\python_last\\Lib\\site-packages\\pandas\\core\\arraylike.py:399: RuntimeWarning: divide by zero encountered in log\n",
      "  result = getattr(ufunc, method)(*inputs, **kwargs)\n",
      "C:\\Users\\et396\\Dropbox\\Docencia\\Educate\\Econometria\\S1\\Data\\codigos_enaho.py:48: FutureWarning: The behavior of Series.replace (and DataFrame.replace) with CategoricalDtype is deprecated. In a future version, replace will only be used for cases that preserve the categories. To change the categories, use ser.cat.rename_categories instead.\n",
      "  frame['rneduca'] = frame['p301a'].replace({\"sin nivel\": \"inicial\",\n",
      "C:\\Users\\et396\\Dropbox\\Docencia\\Educate\\Econometria\\S1\\Data\\codigos_enaho.py:70: FutureWarning: The behavior of Series.replace (and DataFrame.replace) with CategoricalDtype is deprecated. In a future version, replace will only be used for cases that preserve the categories. To change the categories, use ser.cat.rename_categories instead.\n",
      "  frame['pareja'] = frame['p209'].replace({\"casado(a)\": \"pareja\",\n"
     ]
    },
    {
     "name": "stdout",
     "output_type": "stream",
     "text": [
      "\n",
      "--------------------- informacion de cantidad de datos y variables year:2020\n",
      "(23545, 16)\n",
      "                      10920          17203          26588\n",
      "rcod_persona  0058540661101  0195071381101  0194680041101\n",
      "rcod_hogar      00585406611    01950713811    01946800411\n",
      "rmujer                    0              0              1\n",
      "r6              2624.083333     388.833333    2761.166667\n",
      "lnr6               7.872487       5.963151       7.923409\n",
      "rmu                       0              0              0\n",
      "rneduca             tecnica     secundaria     secundaria\n",
      "r3                        1              1              1\n",
      "redad                    58             47             46\n",
      "redadsq                3364           2209           2116\n",
      "rDpto             Cajamarca           Puno           Puno\n",
      "rpareja                   1              1              0\n",
      "reduca                 16.0           11.0            9.0\n",
      "rpobre                    0              1              0\n",
      "rmiembro                  2              3              5\n",
      "rgasto               1165.0     305.111111     678.683333\n"
     ]
    },
    {
     "name": "stderr",
     "output_type": "stream",
     "text": [
      "C:\\Users\\et396\\.conda\\envs\\python_last\\Lib\\site-packages\\pandas\\core\\arraylike.py:399: RuntimeWarning: divide by zero encountered in log\n",
      "  result = getattr(ufunc, method)(*inputs, **kwargs)\n",
      "C:\\Users\\et396\\Dropbox\\Docencia\\Educate\\Econometria\\S1\\Data\\codigos_enaho.py:48: FutureWarning: The behavior of Series.replace (and DataFrame.replace) with CategoricalDtype is deprecated. In a future version, replace will only be used for cases that preserve the categories. To change the categories, use ser.cat.rename_categories instead.\n",
      "  frame['rneduca'] = frame['p301a'].replace({\"sin nivel\": \"inicial\",\n",
      "C:\\Users\\et396\\Dropbox\\Docencia\\Educate\\Econometria\\S1\\Data\\codigos_enaho.py:70: FutureWarning: The behavior of Series.replace (and DataFrame.replace) with CategoricalDtype is deprecated. In a future version, replace will only be used for cases that preserve the categories. To change the categories, use ser.cat.rename_categories instead.\n",
      "  frame['pareja'] = frame['p209'].replace({\"casado(a)\": \"pareja\",\n"
     ]
    },
    {
     "name": "stdout",
     "output_type": "stream",
     "text": [
      "\n",
      "--------------------- informacion de cantidad de datos y variables year:2021\n",
      "(24774, 16)\n",
      "                      11358          2755           4644 \n",
      "rcod_persona  0160310851101  0072360111101  0089840101101\n",
      "rcod_hogar      01603108511    00723601111    00898401011\n",
      "rmujer                    1              0              0\n",
      "r6               991.166667          406.0          994.5\n",
      "lnr6               6.898883       6.006353        6.90224\n",
      "rmu                       0              0              0\n",
      "rneduca             tecnica       primaria        tecnica\n",
      "r3                        1              1              1\n",
      "redad                    21             60             34\n",
      "redadsq                 441           3600           1156\n",
      "rDpto             Cajamarca    La Libertad           Puno\n",
      "rpareja                   0              1              1\n",
      "reduca                 13.0            3.0           14.0\n",
      "rpobre                    0              0              1\n",
      "rmiembro                  2              5              5\n",
      "rgasto           653.291667     393.133333     141.783333\n"
     ]
    }
   ],
   "source": [
    "\n",
    "fechas =[2019, 2018, 2020, 2021]\n",
    "for x in fechas:\n",
    "    \n",
    "    # informacion de carpetas \n",
    "    year             = f\"{x}\"\n",
    "    modulo_empleo    = f\"enaho01a-{x}-500.dta\" # survey labor force\n",
    "    modulo_educacion = f\"enaho01a-{x}-300.dta\" # survey education\n",
    "    modulo_sumaria   = f\"sumaria-{x}.dta\"      # survey poverty\n",
    "\n",
    "\n",
    "    data_500      = os.path.join(data_enaho, year, modulo_empleo)\n",
    "    data_300      = os.path.join(data_enaho, year, modulo_educacion)\n",
    "    data_340      = os.path.join(data_enaho, year, modulo_sumaria)\n",
    "\n",
    "\n",
    "    # Carga de data\n",
    "    data_empleo      = pandas.read_stata(data_500 , columns = variables_500 ) # filtro de variables\n",
    "    \n",
    "    data_educacion   = pandas.read_stata(data_300, convert_categoricals=False )\n",
    "    data_sumaria     = pandas.read_stata(data_340)\n",
    "    \n",
    "    # Informacion de extraccion de variables\n",
    "    frame_empleo      = codigos_enaho.function_r500(data_empleo)\n",
    "    frame_empleo      = frame_empleo[(frame_empleo.p203=='jefe/jefa')]    # solo jefe de hogar\n",
    "    #frame_empleo      = frame_empleo[(frame_empleo.r3<=2)]                # Solo PEA\n",
    "    frame_empleo      = frame_empleo[(frame_empleo.r3==1)]                # Solo PEA Ocupada\n",
    "    #frame_empleo      = frame_empleo[(frame_empleo.r6>0)]                # Salarios positivos\n",
    "    \n",
    "    frame_educacion   = codigos_enaho.function_r300(data_educacion)\n",
    "    frame_sumaria     = codigos_enaho.function_rsumaria(data_sumaria)\n",
    "    \n",
    "    # Generacion y filtro de variables\n",
    "    var_empleo = [\n",
    "        'rcod_persona',\n",
    "        'rcod_hogar',\n",
    "        'rmujer', \n",
    "        'r6', \n",
    "        'lnr6',\n",
    "        'rmu', # desempleo\n",
    "        'rneduca',\n",
    "        'r3',\n",
    "        'redad',\n",
    "        'redadsq',\n",
    "        'rDpto',\n",
    "        'rpareja',\n",
    "    ]\n",
    "\n",
    "    var_educacion = [\n",
    "        'rcod_persona',\n",
    "        'rcod_hogar',\n",
    "        'reduca', \n",
    "    ]\n",
    "\n",
    "    var_sumaria = [ \n",
    "        'rcod_hogar',\n",
    "        'rpobre', \n",
    "        'rmiembro',\n",
    "        'rgasto',\n",
    "    ]\n",
    "    \n",
    "    # Union de variables\n",
    "    base_empleo    = frame_empleo[var_empleo]\n",
    "    # print(base_empleo.shape)\n",
    "    base_educacion = frame_educacion[var_educacion]\n",
    "    # print(base_educacion.shape) \n",
    "    base_pobreza   = frame_sumaria[var_sumaria]\n",
    "    # print(base_pobreza.shape)\n",
    "    \n",
    "    base_final =pandas.merge(base_empleo, base_educacion, how='inner')\n",
    "    base_final =pandas.merge(base_final , base_pobreza  , how='inner')\n",
    "    print()\n",
    "    print(\"--------------------- informacion de cantidad de datos y variables year:\" f\"{x}\" )\n",
    "    # print(base_final.shape)\n",
    "    base_final = codigos_enaho.funcion_rfiltros(base_final)\n",
    "    print(base_final.shape) \n",
    "    #base_final.columns\n",
    "    print(base_final.sample(3).head().T)\n",
    "    \n",
    "    os.chdir(output) # exportar los resultados hacia una base de datos\n",
    "    #base_final.to_excel(f\"Mincer_{x}.xlsx\")\n",
    "    base_final.to_csv(f\"Mincer_{x}.csv\") # Informacion de csv\n",
    "    base_final.to_stata(f\"Mincer_{x}.dta\") # Informacion de stata\n",
    "    #base_final.to_spss(f\"Mincer_{x}.sav\") # Informacion de spss\n",
    "    "
   ]
  },
  {
   "cell_type": "code",
   "execution_count": null,
   "id": "64c7a74c-d3b9-42a2-900e-9a77f34ffd5a",
   "metadata": {},
   "outputs": [],
   "source": [
    "# Analisis de datos"
   ]
  },
  {
   "cell_type": "code",
   "execution_count": null,
   "id": "b5ac947f-882b-4179-98f8-fa8ac3c2baf7",
   "metadata": {
    "tags": []
   },
   "outputs": [],
   "source": [
    "base_final.info()"
   ]
  },
  {
   "cell_type": "code",
   "execution_count": 6,
   "id": "edfa6c03-96c7-4ab2-a9f8-6f5e4481f57f",
   "metadata": {
    "tags": []
   },
   "outputs": [
    {
     "data": {
      "text/html": [
       "<div>\n",
       "<style scoped>\n",
       "    .dataframe tbody tr th:only-of-type {\n",
       "        vertical-align: middle;\n",
       "    }\n",
       "\n",
       "    .dataframe tbody tr th {\n",
       "        vertical-align: top;\n",
       "    }\n",
       "\n",
       "    .dataframe thead th {\n",
       "        text-align: right;\n",
       "    }\n",
       "</style>\n",
       "<table border=\"1\" class=\"dataframe\">\n",
       "  <thead>\n",
       "    <tr style=\"text-align: right;\">\n",
       "      <th></th>\n",
       "      <th>r6</th>\n",
       "      <th>rmu</th>\n",
       "      <th>rmujer</th>\n",
       "      <th>rpareja</th>\n",
       "    </tr>\n",
       "  </thead>\n",
       "  <tbody>\n",
       "    <tr>\n",
       "      <th>count</th>\n",
       "      <td>24774.000000</td>\n",
       "      <td>24774.0</td>\n",
       "      <td>24774.000000</td>\n",
       "      <td>24774.000000</td>\n",
       "    </tr>\n",
       "    <tr>\n",
       "      <th>mean</th>\n",
       "      <td>1443.894301</td>\n",
       "      <td>0.0</td>\n",
       "      <td>0.283119</td>\n",
       "      <td>0.657221</td>\n",
       "    </tr>\n",
       "    <tr>\n",
       "      <th>std</th>\n",
       "      <td>1745.175787</td>\n",
       "      <td>0.0</td>\n",
       "      <td>0.450523</td>\n",
       "      <td>0.474648</td>\n",
       "    </tr>\n",
       "    <tr>\n",
       "      <th>min</th>\n",
       "      <td>0.000000</td>\n",
       "      <td>0.0</td>\n",
       "      <td>0.000000</td>\n",
       "      <td>0.000000</td>\n",
       "    </tr>\n",
       "    <tr>\n",
       "      <th>25%</th>\n",
       "      <td>495.000000</td>\n",
       "      <td>0.0</td>\n",
       "      <td>0.000000</td>\n",
       "      <td>0.000000</td>\n",
       "    </tr>\n",
       "    <tr>\n",
       "      <th>50%</th>\n",
       "      <td>996.041667</td>\n",
       "      <td>0.0</td>\n",
       "      <td>0.000000</td>\n",
       "      <td>1.000000</td>\n",
       "    </tr>\n",
       "    <tr>\n",
       "      <th>75%</th>\n",
       "      <td>1761.937500</td>\n",
       "      <td>0.0</td>\n",
       "      <td>1.000000</td>\n",
       "      <td>1.000000</td>\n",
       "    </tr>\n",
       "    <tr>\n",
       "      <th>max</th>\n",
       "      <td>52063.250000</td>\n",
       "      <td>0.0</td>\n",
       "      <td>1.000000</td>\n",
       "      <td>1.000000</td>\n",
       "    </tr>\n",
       "  </tbody>\n",
       "</table>\n",
       "</div>"
      ],
      "text/plain": [
       "                 r6      rmu        rmujer       rpareja\n",
       "count  24774.000000  24774.0  24774.000000  24774.000000\n",
       "mean    1443.894301      0.0      0.283119      0.657221\n",
       "std     1745.175787      0.0      0.450523      0.474648\n",
       "min        0.000000      0.0      0.000000      0.000000\n",
       "25%      495.000000      0.0      0.000000      0.000000\n",
       "50%      996.041667      0.0      0.000000      1.000000\n",
       "75%     1761.937500      0.0      1.000000      1.000000\n",
       "max    52063.250000      0.0      1.000000      1.000000"
      ]
     },
     "execution_count": 6,
     "metadata": {},
     "output_type": "execute_result"
    }
   ],
   "source": [
    "base_final[['r6','rmu','rmujer','rpareja']].describe()"
   ]
  },
  {
   "cell_type": "code",
   "execution_count": null,
   "id": "f173ee5b-d17a-4ff9-abd4-5714e390acd3",
   "metadata": {},
   "outputs": [],
   "source": []
  }
 ],
 "metadata": {
  "kernelspec": {
   "display_name": "Python 3 (ipykernel)",
   "language": "python",
   "name": "python3"
  },
  "language_info": {
   "codemirror_mode": {
    "name": "ipython",
    "version": 3
   },
   "file_extension": ".py",
   "mimetype": "text/x-python",
   "name": "python",
   "nbconvert_exporter": "python",
   "pygments_lexer": "ipython3",
   "version": "3.12.2"
  }
 },
 "nbformat": 4,
 "nbformat_minor": 5
}
