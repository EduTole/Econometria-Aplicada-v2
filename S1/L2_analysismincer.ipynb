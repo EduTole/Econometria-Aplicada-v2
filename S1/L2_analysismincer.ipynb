{
 "cells": [
  {
   "cell_type": "markdown",
   "id": "00ec919d-f97c-45f9-89ea-4f36cb2a2152",
   "metadata": {},
   "source": [
    "<center style=\"font-size: 2em; font-weight: bold;\"> Retornos a la Educacion </center>\n",
    "<center style=\"font-size: 2em; font-weight: bold;\"> Analisis de base de datos  </center>\n",
    "<left style=\"font-size: 4em; font-weight: bold;\"> Autor: Edinson Tolentino </left>"
   ]
  },
  {
   "cell_type": "markdown",
   "id": "4c609f08-4a8b-40e4-8122-22bff0ebbda9",
   "metadata": {},
   "source": [
    "# Librerias"
   ]
  },
  {
   "cell_type": "code",
   "execution_count": 1,
   "id": "d80a2072-f424-443f-9a5a-3f00f1c62733",
   "metadata": {},
   "outputs": [],
   "source": [
    "import pandas\n",
    "import numpy\n",
    "import os\n",
    "import sys\n",
    "import numpy\n",
    "#from sklearn.linear_model import LinearRegression\n"
   ]
  },
  {
   "cell_type": "code",
   "execution_count": 2,
   "id": "b99361b0-6a17-45ef-879b-e6ba77cb4cd3",
   "metadata": {
    "tags": []
   },
   "outputs": [],
   "source": [
    "import statsmodels.api as sm\n",
    "from statsmodels.iolib.summary2 import summary_col"
   ]
  },
  {
   "cell_type": "code",
   "execution_count": 3,
   "id": "02810796-a79f-488a-8587-95981f72d9c6",
   "metadata": {},
   "outputs": [],
   "source": [
    "import sklearn\n",
    "import sklearn.compose\n",
    "import category_encoders\n",
    "import sklearn.impute"
   ]
  },
  {
   "cell_type": "code",
   "execution_count": 44,
   "id": "5bf27c9c-1a87-4eeb-aa9e-0dc82089b9ef",
   "metadata": {},
   "outputs": [],
   "source": [
    "from plotnine import *\n",
    "color = [\"#3a5e8cFF\", \"#10a53dFF\", \"#541352FF\", \"#ffcf20FF\", \"#2f9aa0FF\"]"
   ]
  },
  {
   "cell_type": "markdown",
   "id": "2ab427f8-a5b7-48b6-95eb-c2879ba115c5",
   "metadata": {},
   "source": [
    "## Funciones"
   ]
  },
  {
   "cell_type": "code",
   "execution_count": 49,
   "id": "0fba262d-7a53-41d2-97ff-29267abf1be0",
   "metadata": {},
   "outputs": [],
   "source": [
    "def seq(start: float, stop: float, by: float, round_n=3) -> list:\n",
    "    \"\"\"\n",
    "    Custom function, used for setting the breaks of plotnine scales.\n",
    "\n",
    "       Parameters\n",
    "    ----------\n",
    "    start : float\n",
    "        Start of the breaks.\n",
    "    stop : float\n",
    "        End of the breaks.\n",
    "    by : float\n",
    "        Steps between breaks.\n",
    "    round_n: int, default=3\n",
    "        Decimals to round floats in output.\n",
    "    \"\"\"\n",
    "    epsilon = numpy.finfo(\"float\").eps\n",
    "\n",
    "    return [\n",
    "        round(x, round_n) for x in list(numpy.arange(start, stop + (by - epsilon), by))\n",
    "    ]"
   ]
  },
  {
   "cell_type": "code",
   "execution_count": 4,
   "id": "613044fa-1264-496b-8452-7b8721f5a9e7",
   "metadata": {},
   "outputs": [],
   "source": [
    "def normalize_frame(frame):\n",
    "    \"\"\"Normalize the data frame to make it performant and compatible with\n",
    "    downstream libraries such as Scikit-Learn and CatBoost.\n",
    "    \n",
    "    In particular the following operations are performed:\n",
    "    - Categorical levels that are not strings are converted into strings\n",
    "    - Categorical missing values are converted into a distinct \"N/A\" level\n",
    "    - Object-typed columns are converted into categorical columns\n",
    "    \"\"\"\n",
    "    for col, series in frame.items():\n",
    "        dtype = series.dtype\n",
    "        if pandas.api.types.is_categorical_dtype(dtype):\n",
    "            recode = False\n",
    "            if series.hasnans:\n",
    "                recode = True\n",
    "            else:\n",
    "                for value in series.cat.categories:\n",
    "                    if not isinstance(value, str):\n",
    "                        recode = True\n",
    "                        break\n",
    "            if recode:\n",
    "                frame[col] = series.astype(\"str\").fillna(\"N/A\").astype(\n",
    "                    \"category\")\n",
    "        elif pandas.api.types.is_object_dtype(dtype):\n",
    "            frame[col] = series.astype(\"str\").fillna(\"N/A\").astype(\"category\")\n"
   ]
  },
  {
   "cell_type": "code",
   "execution_count": 5,
   "id": "6dc30904-960e-435e-b677-b8c922d1a5cb",
   "metadata": {},
   "outputs": [],
   "source": [
    "base_transformer = sklearn.pipeline.Pipeline([\n",
    "    (\"recode\", sklearn.compose.ColumnTransformer(transformers=[\n",
    "        (\"category\",\n",
    "             #sklearn.preprocessing.OneHotEncoder(handle_unknown=\"ignore\",\n",
    "             sklearn.preprocessing.OneHotEncoder(drop=\"first\",handle_unknown=\"ignore\",                                                 \n",
    "                min_frequency=0.01, max_categories=30, sparse_output= False),\n",
    "             sklearn.compose.make_column_selector(dtype_exclude=numpy.number)\n",
    "        ),\n",
    "        (\"number\",\n",
    "            sklearn.impute.SimpleImputer(strategy=\"mean\"),\n",
    "            sklearn.compose.make_column_selector(dtype_include=numpy.number)\n",
    "        ),  \n",
    "    ], n_jobs=-1)),\n",
    "    #(\"rescale\", sklearn.preprocessing.StandardScaler()),\n",
    "])"
   ]
  },
  {
   "cell_type": "markdown",
   "id": "fef80c27-3342-4219-9fcb-98a42b3e08b7",
   "metadata": {},
   "source": [
    "# Analisis"
   ]
  },
  {
   "cell_type": "markdown",
   "id": "c015de6a-6642-4e34-b94e-42667beb8c81",
   "metadata": {},
   "source": [
    "## Carga de data"
   ]
  },
  {
   "cell_type": "code",
   "execution_count": 6,
   "id": "e5a69a1e-b0d9-439d-9819-2b04cc65ff21",
   "metadata": {},
   "outputs": [],
   "source": [
    "output           = \"C:/Users/et396/Dropbox/Docencia/Educate/Econometria/S1/Data\"\n",
    "os.chdir(output)"
   ]
  },
  {
   "cell_type": "code",
   "execution_count": 7,
   "id": "6f938b17-f9c4-4e83-a8e4-39e07f0d487a",
   "metadata": {},
   "outputs": [],
   "source": [
    "base = pandas.read_stata(\"Mincer_2021.dta\")"
   ]
  },
  {
   "cell_type": "markdown",
   "id": "6cbe1137-290a-4aa9-bb5a-0d0dae73a517",
   "metadata": {},
   "source": [
    "## Filtras variables"
   ]
  },
  {
   "cell_type": "code",
   "execution_count": 8,
   "id": "fbe705ba-da43-4d06-96ed-6b69da17284d",
   "metadata": {},
   "outputs": [],
   "source": [
    "response = ['lnr6']\n",
    "input = ['reduca', 'rmujer','redad','redadsq', 'rDpto']\n",
    "\n",
    "data_fit = base[response+input]"
   ]
  },
  {
   "cell_type": "code",
   "execution_count": 9,
   "id": "e81650eb-dc21-4fe3-b3a5-ec74f343b2b0",
   "metadata": {},
   "outputs": [
    {
     "name": "stdout",
     "output_type": "stream",
     "text": [
      "<class 'pandas.core.frame.DataFrame'>\n",
      "RangeIndex: 24774 entries, 0 to 24773\n",
      "Data columns (total 6 columns):\n",
      " #   Column   Non-Null Count  Dtype  \n",
      "---  ------   --------------  -----  \n",
      " 0   lnr6     24774 non-null  float64\n",
      " 1   reduca   24774 non-null  float64\n",
      " 2   rmujer   24774 non-null  int32  \n",
      " 3   redad    24774 non-null  int32  \n",
      " 4   redadsq  24774 non-null  int32  \n",
      " 5   rDpto    24774 non-null  object \n",
      "dtypes: float64(2), int32(3), object(1)\n",
      "memory usage: 871.1+ KB\n"
     ]
    }
   ],
   "source": [
    "data_fit.info()"
   ]
  },
  {
   "cell_type": "code",
   "execution_count": 10,
   "id": "33c957c9-11f6-4912-ab9b-6379ab852cac",
   "metadata": {
    "tags": []
   },
   "outputs": [
    {
     "name": "stderr",
     "output_type": "stream",
     "text": [
      "C:\\Users\\et396\\AppData\\Local\\Temp\\ipykernel_7820\\2625916019.py:12: DeprecationWarning: is_categorical_dtype is deprecated and will be removed in a future version. Use isinstance(dtype, pd.CategoricalDtype) instead\n",
      "  if pandas.api.types.is_categorical_dtype(dtype):\n",
      "C:\\Users\\et396\\AppData\\Local\\Temp\\ipykernel_7820\\2625916019.py:25: SettingWithCopyWarning: \n",
      "A value is trying to be set on a copy of a slice from a DataFrame.\n",
      "Try using .loc[row_indexer,col_indexer] = value instead\n",
      "\n",
      "See the caveats in the documentation: https://pandas.pydata.org/pandas-docs/stable/user_guide/indexing.html#returning-a-view-versus-a-copy\n",
      "  frame[col] = series.astype(\"str\").fillna(\"N/A\").astype(\"category\")\n"
     ]
    },
    {
     "data": {
      "text/html": [
       "<div>\n",
       "<style scoped>\n",
       "    .dataframe tbody tr th:only-of-type {\n",
       "        vertical-align: middle;\n",
       "    }\n",
       "\n",
       "    .dataframe tbody tr th {\n",
       "        vertical-align: top;\n",
       "    }\n",
       "\n",
       "    .dataframe thead th {\n",
       "        text-align: right;\n",
       "    }\n",
       "</style>\n",
       "<table border=\"1\" class=\"dataframe\">\n",
       "  <thead>\n",
       "    <tr style=\"text-align: right;\">\n",
       "      <th></th>\n",
       "      <th>23591</th>\n",
       "      <th>1277</th>\n",
       "      <th>15299</th>\n",
       "      <th>12608</th>\n",
       "      <th>3247</th>\n",
       "    </tr>\n",
       "  </thead>\n",
       "  <tbody>\n",
       "    <tr>\n",
       "      <th>lnr6</th>\n",
       "      <td>7.044614</td>\n",
       "      <td>7.469607</td>\n",
       "      <td>7.006091</td>\n",
       "      <td>4.405702</td>\n",
       "      <td>5.531081</td>\n",
       "    </tr>\n",
       "    <tr>\n",
       "      <th>reduca</th>\n",
       "      <td>11.0</td>\n",
       "      <td>16.0</td>\n",
       "      <td>11.0</td>\n",
       "      <td>3.0</td>\n",
       "      <td>7.0</td>\n",
       "    </tr>\n",
       "    <tr>\n",
       "      <th>rmujer</th>\n",
       "      <td>0</td>\n",
       "      <td>1</td>\n",
       "      <td>0</td>\n",
       "      <td>1</td>\n",
       "      <td>0</td>\n",
       "    </tr>\n",
       "    <tr>\n",
       "      <th>redad</th>\n",
       "      <td>54</td>\n",
       "      <td>26</td>\n",
       "      <td>35</td>\n",
       "      <td>57</td>\n",
       "      <td>34</td>\n",
       "    </tr>\n",
       "    <tr>\n",
       "      <th>redadsq</th>\n",
       "      <td>2916</td>\n",
       "      <td>676</td>\n",
       "      <td>1225</td>\n",
       "      <td>3249</td>\n",
       "      <td>1156</td>\n",
       "    </tr>\n",
       "    <tr>\n",
       "      <th>rDpto</th>\n",
       "      <td>Tacna</td>\n",
       "      <td>Cusco</td>\n",
       "      <td>Lambayeque</td>\n",
       "      <td>Huanuco</td>\n",
       "      <td>Loreto</td>\n",
       "    </tr>\n",
       "  </tbody>\n",
       "</table>\n",
       "</div>"
      ],
      "text/plain": [
       "            23591     1277        15299     12608     3247 \n",
       "lnr6     7.044614  7.469607    7.006091  4.405702  5.531081\n",
       "reduca       11.0      16.0        11.0       3.0       7.0\n",
       "rmujer          0         1           0         1         0\n",
       "redad          54        26          35        57        34\n",
       "redadsq      2916       676        1225      3249      1156\n",
       "rDpto       Tacna     Cusco  Lambayeque   Huanuco    Loreto"
      ]
     },
     "execution_count": 10,
     "metadata": {},
     "output_type": "execute_result"
    }
   ],
   "source": [
    "normalize_frame(data_fit)\n",
    "data_fit.sample(8).head().T"
   ]
  },
  {
   "cell_type": "code",
   "execution_count": 11,
   "id": "90fac6fc-8735-4fb2-ade0-aadd3c40ab03",
   "metadata": {},
   "outputs": [
    {
     "name": "stdout",
     "output_type": "stream",
     "text": [
      "<class 'pandas.core.frame.DataFrame'>\n",
      "RangeIndex: 24774 entries, 0 to 24773\n",
      "Data columns (total 6 columns):\n",
      " #   Column   Non-Null Count  Dtype   \n",
      "---  ------   --------------  -----   \n",
      " 0   lnr6     24774 non-null  float64 \n",
      " 1   reduca   24774 non-null  float64 \n",
      " 2   rmujer   24774 non-null  int32   \n",
      " 3   redad    24774 non-null  int32   \n",
      " 4   redadsq  24774 non-null  int32   \n",
      " 5   rDpto    24774 non-null  category\n",
      "dtypes: category(1), float64(2), int32(3)\n",
      "memory usage: 702.5 KB\n"
     ]
    }
   ],
   "source": [
    "data_fit.info()"
   ]
  },
  {
   "cell_type": "markdown",
   "id": "b6be4ee7-8b7c-4867-b685-cb9e0835cce1",
   "metadata": {},
   "source": [
    "## Seleccion variables"
   ]
  },
  {
   "cell_type": "code",
   "execution_count": 12,
   "id": "d3a72b4f-813e-4b55-b806-a0e00f3e0e54",
   "metadata": {},
   "outputs": [],
   "source": [
    "response = data_fit[['lnr6']]"
   ]
  },
  {
   "cell_type": "code",
   "execution_count": 13,
   "id": "8917f695-4a67-4a37-a5e9-5a74868080ac",
   "metadata": {},
   "outputs": [],
   "source": [
    "inputs   = data_fit[['reduca', 'rmujer','redad','redadsq']]"
   ]
  },
  {
   "cell_type": "code",
   "execution_count": null,
   "id": "5268fbe2-848c-4af9-b4a2-8bdb8ee09b1d",
   "metadata": {},
   "outputs": [],
   "source": []
  },
  {
   "cell_type": "markdown",
   "id": "0432a763-8ac2-4397-bee2-7fd8a6e1e88d",
   "metadata": {},
   "source": [
    "## Modelo Lineal"
   ]
  },
  {
   "cell_type": "code",
   "execution_count": 14,
   "id": "04fe3236-1d0f-43b7-b36f-fa43465f0b6c",
   "metadata": {
    "tags": []
   },
   "outputs": [
    {
     "name": "stdout",
     "output_type": "stream",
     "text": [
      "                            OLS Regression Results                            \n",
      "==============================================================================\n",
      "Dep. Variable:                   lnr6   R-squared:                       0.129\n",
      "Model:                            OLS   Adj. R-squared:                  0.129\n",
      "Method:                 Least Squares   F-statistic:                     917.6\n",
      "Date:                Sun, 03 Mar 2024   Prob (F-statistic):               0.00\n",
      "Time:                        18:50:21   Log-Likelihood:                -40854.\n",
      "No. Observations:               24774   AIC:                         8.172e+04\n",
      "Df Residuals:                   24769   BIC:                         8.176e+04\n",
      "Df Model:                           4                                         \n",
      "Covariance Type:            nonrobust                                         \n",
      "==============================================================================\n",
      "                 coef    std err          t      P>|t|      [0.025      0.975]\n",
      "------------------------------------------------------------------------------\n",
      "const          4.3629      0.114     38.434      0.000       4.140       4.585\n",
      "reduca         0.0714      0.001     48.651      0.000       0.068       0.074\n",
      "rmujer        -0.4794      0.018    -26.990      0.000      -0.514      -0.445\n",
      "redad          0.0938      0.005     18.836      0.000       0.084       0.104\n",
      "redadsq       -0.0011   5.33e-05    -20.375      0.000      -0.001      -0.001\n",
      "==============================================================================\n",
      "Omnibus:                    14554.207   Durbin-Watson:                   1.859\n",
      "Prob(Omnibus):                  0.000   Jarque-Bera (JB):           170804.915\n",
      "Skew:                          -2.644   Prob(JB):                         0.00\n",
      "Kurtosis:                      14.727   Cond. No.                     3.67e+04\n",
      "==============================================================================\n",
      "\n",
      "Notes:\n",
      "[1] Standard Errors assume that the covariance matrix of the errors is correctly specified.\n",
      "[2] The condition number is large, 3.67e+04. This might indicate that there are\n",
      "strong multicollinearity or other numerical problems.\n"
     ]
    }
   ],
   "source": [
    "\n",
    "#inputs   = statsmodels.tools.add_constant(inputs, has_constant='raise')\n",
    "#inputs   = sm.add_constant(inputs, has_constant='')\n",
    "inputs   = sm.add_constant(inputs)\n",
    "\n",
    "model    = sm.OLS( response, inputs)\n",
    "#model = statsmodels.regression.linear_model.OLS(response, inputs)\n",
    "\n",
    "model_lineal = model.fit()\n",
    "\n",
    "print(model_lineal.summary())"
   ]
  },
  {
   "cell_type": "markdown",
   "id": "856c2e8e-9368-4703-9b70-e3f99fa729ad",
   "metadata": {},
   "source": [
    "## Linear regresion robust"
   ]
  },
  {
   "cell_type": "code",
   "execution_count": 15,
   "id": "b1ba156e-e8ea-4856-aa18-1468cf1f7c4b",
   "metadata": {},
   "outputs": [
    {
     "name": "stdout",
     "output_type": "stream",
     "text": [
      "                    Robust linear Model Regression Results                    \n",
      "==============================================================================\n",
      "Dep. Variable:                   lnr6   No. Observations:                24774\n",
      "Model:                            RLM   Df Residuals:                    24769\n",
      "Method:                          IRLS   Df Model:                            4\n",
      "Norm:                          HuberT                                         \n",
      "Scale Est.:                       mad                                         \n",
      "Cov Type:                          H1                                         \n",
      "Date:                Sun, 03 Mar 2024                                         \n",
      "Time:                        18:50:21                                         \n",
      "No. Iterations:                    24                                         \n",
      "==============================================================================\n",
      "                 coef    std err          z      P>|z|      [0.025      0.975]\n",
      "------------------------------------------------------------------------------\n",
      "const          4.7142      0.080     59.132      0.000       4.558       4.870\n",
      "reduca         0.0718      0.001     69.742      0.000       0.070       0.074\n",
      "rmujer        -0.4162      0.012    -33.366      0.000      -0.441      -0.392\n",
      "redad          0.0816      0.003     23.309      0.000       0.075       0.088\n",
      "redadsq       -0.0009   3.74e-05    -25.088      0.000      -0.001      -0.001\n",
      "==============================================================================\n",
      "\n",
      "If the model instance has been used for another fit with different fit parameters, then the fit options might not be the correct ones anymore .\n"
     ]
    }
   ],
   "source": [
    "model_r = sm.RLM( response, inputs, M=sm.robust.norms.HuberT())\n",
    "model_lineal_r = model_r.fit()\n",
    "print(model_lineal_r.summary())"
   ]
  },
  {
   "cell_type": "code",
   "execution_count": 16,
   "id": "5fe0883c-ab33-45da-892a-6a3624c336a3",
   "metadata": {},
   "outputs": [
    {
     "name": "stdout",
     "output_type": "stream",
     "text": [
      "                 Generalized Linear Model Regression Results                  \n",
      "==============================================================================\n",
      "Dep. Variable:                   lnr6   No. Observations:                24774\n",
      "Model:                            GLM   Df Residuals:                    24769\n",
      "Model Family:                Gaussian   Df Model:                            4\n",
      "Link Function:               Identity   Scale:                          1.5848\n",
      "Method:                          IRLS   Log-Likelihood:                -40854.\n",
      "Date:                Sun, 03 Mar 2024   Deviance:                       39253.\n",
      "Time:                        18:50:21   Pearson chi2:                 3.93e+04\n",
      "No. Iterations:                     3   Pseudo R-squ. (CS):             0.1377\n",
      "Covariance Type:            nonrobust                                         \n",
      "==============================================================================\n",
      "                 coef    std err          z      P>|z|      [0.025      0.975]\n",
      "------------------------------------------------------------------------------\n",
      "const          4.3629      0.114     38.434      0.000       4.140       4.585\n",
      "reduca         0.0714      0.001     48.651      0.000       0.068       0.074\n",
      "rmujer        -0.4794      0.018    -26.990      0.000      -0.514      -0.445\n",
      "redad          0.0938      0.005     18.836      0.000       0.084       0.104\n",
      "redadsq       -0.0011   5.33e-05    -20.375      0.000      -0.001      -0.001\n",
      "==============================================================================\n"
     ]
    }
   ],
   "source": [
    "model_glm = sm.GLM( response, inputs)\n",
    "model_lineal_glm = model_glm.fit()\n",
    "print(model_lineal_glm.summary())"
   ]
  },
  {
   "cell_type": "markdown",
   "id": "e2f7cf93-da23-4218-8622-60c6462937af",
   "metadata": {},
   "source": [
    "## Presentacion de modelos"
   ]
  },
  {
   "cell_type": "code",
   "execution_count": 17,
   "id": "5f1132f4-6026-44cd-ada0-ab3b2c71efd6",
   "metadata": {},
   "outputs": [],
   "source": [
    "inputs0 = base['reduca']\n",
    "inputs0 = sm.add_constant(inputs0)\n",
    "m0 = sm.OLS( response, inputs0).fit()\n",
    "m1 = sm.OLS( response, inputs).fit()\n"
   ]
  },
  {
   "cell_type": "code",
   "execution_count": 18,
   "id": "01bc71b8-9c7a-4550-a323-1b9cdcfd7c62",
   "metadata": {},
   "outputs": [
    {
     "name": "stdout",
     "output_type": "stream",
     "text": [
      "\n",
      "=================================\n",
      "                lnr6 I   lnr6 II \n",
      "---------------------------------\n",
      "const          6.085*** 4.363*** \n",
      "               (0.015)  (0.114)  \n",
      "reduca         0.072*** 0.071*** \n",
      "               (0.001)  (0.001)  \n",
      "rmujer                  -0.479***\n",
      "                        (0.018)  \n",
      "redad                   0.094*** \n",
      "                        (0.005)  \n",
      "redadsq                 -0.001***\n",
      "                        (0.000)  \n",
      "R-squared      0.086    0.129    \n",
      "R-squared Adj. 0.086    0.129    \n",
      "=================================\n",
      "Standard errors in parentheses.\n",
      "* p<.1, ** p<.05, ***p<.01\n"
     ]
    }
   ],
   "source": [
    "resumen_lineal = summary_col([m0,m1], regressor_order=m1.params.index.tolist(), stars=True, float_format='%.3f')\n",
    "print(resumen_lineal)"
   ]
  },
  {
   "cell_type": "code",
   "execution_count": 19,
   "id": "f4b1abf9-4ae9-47c7-b3dd-84d8d58122f6",
   "metadata": {},
   "outputs": [],
   "source": [
    "os.chdir(output)\n",
    "# Formato csv\n",
    "#resumen_lineal.tables[0].to_csv(\"resumen_lineal.csv\")\n",
    "\n",
    "# Formato excel\n",
    "resumen_lineal.tables[0].to_excel(\"resumen_lineal.xlsx\")\n"
   ]
  },
  {
   "cell_type": "markdown",
   "id": "b2add09d-0b73-4839-83d6-3899316543c3",
   "metadata": {},
   "source": [
    "## Inclusion de Dummy"
   ]
  },
  {
   "cell_type": "code",
   "execution_count": 20,
   "id": "9e0ba4b0-27e1-4138-896a-7a7b21a58d70",
   "metadata": {},
   "outputs": [],
   "source": [
    "predictors_cols   = ['reduca', 'rmujer','redad','redadsq', 'rDpto']"
   ]
  },
  {
   "cell_type": "code",
   "execution_count": 21,
   "id": "f3e7e0c9-f8f4-445a-851d-de4748496561",
   "metadata": {},
   "outputs": [],
   "source": [
    "data_fit  = base[predictors_cols]\n"
   ]
  },
  {
   "cell_type": "code",
   "execution_count": 22,
   "id": "e6beb467-6478-409f-a754-a5ac81e4be7f",
   "metadata": {},
   "outputs": [],
   "source": [
    "\n",
    "predictors  = data_fit[predictors_cols]\n",
    "transformer = sklearn.clone(base_transformer)\n",
    "inputs      = transformer.fit_transform(predictors)\n",
    "inputs      = pandas.DataFrame(inputs, index=data_fit.index,\n",
    "                               columns=transformer.get_feature_names_out())\n",
    "inputs      = sm.add_constant(inputs, has_constant=\"raise\")\n"
   ]
  },
  {
   "cell_type": "code",
   "execution_count": 23,
   "id": "7efd5bc2-8081-4cbc-8ddd-565733cc1d37",
   "metadata": {},
   "outputs": [
    {
     "name": "stdout",
     "output_type": "stream",
     "text": [
      "<class 'pandas.core.frame.DataFrame'>\n",
      "RangeIndex: 24774 entries, 0 to 24773\n",
      "Data columns (total 29 columns):\n",
      " #   Column                         Non-Null Count  Dtype  \n",
      "---  ------                         --------------  -----  \n",
      " 0   const                          24774 non-null  float64\n",
      " 1   category__rDpto_Ancash         24774 non-null  float64\n",
      " 2   category__rDpto_Apurimac       24774 non-null  float64\n",
      " 3   category__rDpto_Arequipa       24774 non-null  float64\n",
      " 4   category__rDpto_Ayacucho       24774 non-null  float64\n",
      " 5   category__rDpto_Cajamarca      24774 non-null  float64\n",
      " 6   category__rDpto_Callao         24774 non-null  float64\n",
      " 7   category__rDpto_Cusco          24774 non-null  float64\n",
      " 8   category__rDpto_Huancavelica   24774 non-null  float64\n",
      " 9   category__rDpto_Huanuco        24774 non-null  float64\n",
      " 10  category__rDpto_Ica            24774 non-null  float64\n",
      " 11  category__rDpto_Junin          24774 non-null  float64\n",
      " 12  category__rDpto_La Libertad    24774 non-null  float64\n",
      " 13  category__rDpto_Lambayeque     24774 non-null  float64\n",
      " 14  category__rDpto_Lima           24774 non-null  float64\n",
      " 15  category__rDpto_Loreto         24774 non-null  float64\n",
      " 16  category__rDpto_Madre de Dios  24774 non-null  float64\n",
      " 17  category__rDpto_Moquegua       24774 non-null  float64\n",
      " 18  category__rDpto_Pasco          24774 non-null  float64\n",
      " 19  category__rDpto_Piura          24774 non-null  float64\n",
      " 20  category__rDpto_Puno           24774 non-null  float64\n",
      " 21  category__rDpto_San Martin     24774 non-null  float64\n",
      " 22  category__rDpto_Tacna          24774 non-null  float64\n",
      " 23  category__rDpto_Tumbes         24774 non-null  float64\n",
      " 24  category__rDpto_Ucayali        24774 non-null  float64\n",
      " 25  number__reduca                 24774 non-null  float64\n",
      " 26  number__rmujer                 24774 non-null  float64\n",
      " 27  number__redad                  24774 non-null  float64\n",
      " 28  number__redadsq                24774 non-null  float64\n",
      "dtypes: float64(29)\n",
      "memory usage: 5.5 MB\n"
     ]
    }
   ],
   "source": [
    "inputs.info()"
   ]
  },
  {
   "cell_type": "code",
   "execution_count": 24,
   "id": "380e9026-4ebf-42d9-b91e-b4a243f523eb",
   "metadata": {},
   "outputs": [
    {
     "name": "stdout",
     "output_type": "stream",
     "text": [
      "                            OLS Regression Results                            \n",
      "==============================================================================\n",
      "Dep. Variable:                   lnr6   R-squared:                       0.148\n",
      "Model:                            OLS   Adj. R-squared:                  0.147\n",
      "Method:                 Least Squares   F-statistic:                     153.0\n",
      "Date:                Sun, 03 Mar 2024   Prob (F-statistic):               0.00\n",
      "Time:                        18:50:24   Log-Likelihood:                -40588.\n",
      "No. Observations:               24774   AIC:                         8.123e+04\n",
      "Df Residuals:                   24745   BIC:                         8.147e+04\n",
      "Df Model:                          28                                         \n",
      "Covariance Type:            nonrobust                                         \n",
      "=================================================================================================\n",
      "                                    coef    std err          t      P>|t|      [0.025      0.975]\n",
      "-------------------------------------------------------------------------------------------------\n",
      "const                             4.4851      0.118     37.946      0.000       4.253       4.717\n",
      "category__rDpto_Ancash            0.0040      0.056      0.073      0.942      -0.105       0.113\n",
      "category__rDpto_Apurimac         -0.0279      0.061     -0.457      0.648      -0.147       0.092\n",
      "category__rDpto_Arequipa          0.1611      0.055      2.921      0.003       0.053       0.269\n",
      "category__rDpto_Ayacucho         -0.1894      0.059     -3.220      0.001      -0.305      -0.074\n",
      "category__rDpto_Cajamarca        -0.2043      0.055     -3.726      0.000      -0.312      -0.097\n",
      "category__rDpto_Callao            0.0748      0.064      1.175      0.240      -0.050       0.200\n",
      "category__rDpto_Cusco            -0.1147      0.057     -2.005      0.045      -0.227      -0.003\n",
      "category__rDpto_Huancavelica     -0.4294      0.060     -7.150      0.000      -0.547      -0.312\n",
      "category__rDpto_Huanuco          -0.1753      0.057     -3.077      0.002      -0.287      -0.064\n",
      "category__rDpto_Ica               0.2261      0.055      4.078      0.000       0.117       0.335\n",
      "category__rDpto_Junin            -0.1178      0.054     -2.167      0.030      -0.224      -0.011\n",
      "category__rDpto_La Libertad       0.0562      0.055      1.020      0.308      -0.052       0.164\n",
      "category__rDpto_Lambayeque        0.1372      0.056      2.432      0.015       0.027       0.248\n",
      "category__rDpto_Lima              0.1130      0.046      2.444      0.015       0.022       0.204\n",
      "category__rDpto_Loreto           -0.1761      0.055     -3.207      0.001      -0.284      -0.068\n",
      "category__rDpto_Madre de Dios     0.2032      0.069      2.957      0.003       0.068       0.338\n",
      "category__rDpto_Moquegua          0.1300      0.062      2.094      0.036       0.008       0.252\n",
      "category__rDpto_Pasco            -0.1577      0.062     -2.553      0.011      -0.279      -0.037\n",
      "category__rDpto_Piura             0.0992      0.053      1.872      0.061      -0.005       0.203\n",
      "category__rDpto_Puno             -0.6118      0.059    -10.425      0.000      -0.727      -0.497\n",
      "category__rDpto_San Martin        0.1216      0.055      2.227      0.026       0.015       0.229\n",
      "category__rDpto_Tacna            -0.0664      0.057     -1.171      0.241      -0.177       0.045\n",
      "category__rDpto_Tumbes            0.1466      0.063      2.325      0.020       0.023       0.270\n",
      "category__rDpto_Ucayali           0.0370      0.057      0.645      0.519      -0.075       0.150\n",
      "number__reduca                    0.0665      0.002     43.985      0.000       0.064       0.069\n",
      "number__rmujer                   -0.4831      0.018    -27.284      0.000      -0.518      -0.448\n",
      "number__redad                     0.0911      0.005     18.440      0.000       0.081       0.101\n",
      "number__redadsq                  -0.0011   5.28e-05    -20.009      0.000      -0.001      -0.001\n",
      "==============================================================================\n",
      "Omnibus:                    14807.313   Durbin-Watson:                   1.893\n",
      "Prob(Omnibus):                  0.000   Jarque-Bera (JB):           181324.957\n",
      "Skew:                          -2.690   Prob(JB):                         0.00\n",
      "Kurtosis:                      15.113   Cond. No.                     6.64e+04\n",
      "==============================================================================\n",
      "\n",
      "Notes:\n",
      "[1] Standard Errors assume that the covariance matrix of the errors is correctly specified.\n",
      "[2] The condition number is large, 6.64e+04. This might indicate that there are\n",
      "strong multicollinearity or other numerical problems.\n"
     ]
    }
   ],
   "source": [
    "m2 = sm.OLS( response, inputs).fit() \n",
    "print(m2.summary())"
   ]
  },
  {
   "cell_type": "code",
   "execution_count": 25,
   "id": "6c9bf9e9-38d4-4153-a1c2-5a78578ee124",
   "metadata": {},
   "outputs": [
    {
     "name": "stdout",
     "output_type": "stream",
     "text": [
      "\n",
      "=======================================\n",
      "                                 lnr6  \n",
      "---------------------------------------\n",
      "const                         4.485*** \n",
      "                              (0.118)  \n",
      "category__rDpto_Ancash        0.004    \n",
      "                              (0.056)  \n",
      "number__redadsq               -0.001***\n",
      "                              (0.000)  \n",
      "number__redad                 0.091*** \n",
      "                              (0.005)  \n",
      "number__rmujer                -0.483***\n",
      "                              (0.018)  \n",
      "number__reduca                0.067*** \n",
      "                              (0.002)  \n",
      "category__rDpto_Ucayali       0.037    \n",
      "                              (0.057)  \n",
      "category__rDpto_Tumbes        0.147**  \n",
      "                              (0.063)  \n",
      "category__rDpto_Tacna         -0.066   \n",
      "                              (0.057)  \n",
      "category__rDpto_San Martin    0.122**  \n",
      "                              (0.055)  \n",
      "category__rDpto_Puno          -0.612***\n",
      "                              (0.059)  \n",
      "category__rDpto_Piura         0.099*   \n",
      "                              (0.053)  \n",
      "category__rDpto_Pasco         -0.158** \n",
      "                              (0.062)  \n",
      "category__rDpto_Moquegua      0.130**  \n",
      "                              (0.062)  \n",
      "category__rDpto_Madre de Dios 0.203*** \n",
      "                              (0.069)  \n",
      "category__rDpto_Loreto        -0.176***\n",
      "                              (0.055)  \n",
      "category__rDpto_Lima          0.113**  \n",
      "                              (0.046)  \n",
      "category__rDpto_Lambayeque    0.137**  \n",
      "                              (0.056)  \n",
      "category__rDpto_La Libertad   0.056    \n",
      "                              (0.055)  \n",
      "category__rDpto_Junin         -0.118** \n",
      "                              (0.054)  \n",
      "category__rDpto_Ica           0.226*** \n",
      "                              (0.055)  \n",
      "category__rDpto_Huanuco       -0.175***\n",
      "                              (0.057)  \n",
      "category__rDpto_Huancavelica  -0.429***\n",
      "                              (0.060)  \n",
      "category__rDpto_Cusco         -0.115** \n",
      "                              (0.057)  \n",
      "category__rDpto_Callao        0.075    \n",
      "                              (0.064)  \n",
      "category__rDpto_Cajamarca     -0.204***\n",
      "                              (0.055)  \n",
      "category__rDpto_Ayacucho      -0.189***\n",
      "                              (0.059)  \n",
      "category__rDpto_Arequipa      0.161*** \n",
      "                              (0.055)  \n",
      "category__rDpto_Apurimac      -0.028   \n",
      "                              (0.061)  \n",
      "R-squared                     0.148    \n",
      "R-squared Adj.                0.147    \n",
      "=======================================\n",
      "Standard errors in parentheses.\n",
      "* p<.1, ** p<.05, ***p<.01\n"
     ]
    }
   ],
   "source": [
    "resumen_lineal = summary_col([m2], regressor_order=m1.params.index.tolist(), stars=True, float_format='%.3f')\n",
    "print(resumen_lineal)"
   ]
  },
  {
   "cell_type": "code",
   "execution_count": 26,
   "id": "232a0d7b-1a8a-4330-8105-974138a3cf23",
   "metadata": {},
   "outputs": [],
   "source": [
    "predictors_cols   = ['reduca']\n",
    "data_fit  = base[predictors_cols]\n",
    "predictors  = data_fit[predictors_cols]\n",
    "transformer = sklearn.clone(base_transformer)\n",
    "inputs      = transformer.fit_transform(predictors)\n",
    "inputs      = pandas.DataFrame(inputs, index=data_fit.index,\n",
    "                               columns=transformer.get_feature_names_out())\n",
    "inputs      = sm.add_constant(inputs, has_constant=\"raise\")"
   ]
  },
  {
   "cell_type": "code",
   "execution_count": 27,
   "id": "daae4ef0-89c1-4d78-9eac-b01cf65b0c30",
   "metadata": {},
   "outputs": [],
   "source": [
    "m3 = sm.OLS( response, inputs).fit() "
   ]
  },
  {
   "cell_type": "code",
   "execution_count": null,
   "id": "03c1b92b-313b-4b52-ad46-f03be2bff55f",
   "metadata": {},
   "outputs": [],
   "source": []
  },
  {
   "cell_type": "code",
   "execution_count": 28,
   "id": "e3cfceb3-1862-42dd-9cfd-b7b4d42cb5da",
   "metadata": {},
   "outputs": [],
   "source": [
    "predictors_cols   = ['reduca', 'rmujer','redad','redadsq']\n",
    "data_fit  = base[predictors_cols]\n",
    "predictors  = data_fit[predictors_cols]\n",
    "transformer = sklearn.clone(base_transformer)\n",
    "inputs      = transformer.fit_transform(predictors)\n",
    "inputs      = pandas.DataFrame(inputs, index=data_fit.index,\n",
    "                               columns=transformer.get_feature_names_out())\n",
    "inputs      = sm.add_constant(inputs, has_constant=\"raise\")"
   ]
  },
  {
   "cell_type": "code",
   "execution_count": 29,
   "id": "31f4e81b-50f8-4bbe-a9b7-1bfa63d64f1f",
   "metadata": {},
   "outputs": [],
   "source": [
    "m4 = sm.OLS( response, inputs).fit() "
   ]
  },
  {
   "cell_type": "code",
   "execution_count": null,
   "id": "2fb2ce6f-bc08-47f3-94f3-48894e83eb82",
   "metadata": {},
   "outputs": [],
   "source": []
  },
  {
   "cell_type": "code",
   "execution_count": 30,
   "id": "c3f80dde-80bd-4023-ac8e-f9123dce8106",
   "metadata": {},
   "outputs": [
    {
     "name": "stdout",
     "output_type": "stream",
     "text": [
      "\n",
      "==========================================================\n",
      "                               lnr6 I   lnr6 II   lnr6 III\n",
      "----------------------------------------------------------\n",
      "const                         6.085*** 4.363***  4.485*** \n",
      "                              (0.015)  (0.114)   (0.118)  \n",
      "number__reduca                0.072*** 0.071***  0.067*** \n",
      "                              (0.001)  (0.001)   (0.002)  \n",
      "category__rDpto_Ucayali                          0.037    \n",
      "                                                 (0.057)  \n",
      "category__rDpto_Tumbes                           0.147**  \n",
      "                                                 (0.063)  \n",
      "category__rDpto_Tacna                            -0.066   \n",
      "                                                 (0.057)  \n",
      "category__rDpto_San Martin                       0.122**  \n",
      "                                                 (0.055)  \n",
      "category__rDpto_Puno                             -0.612***\n",
      "                                                 (0.059)  \n",
      "category__rDpto_Piura                            0.099*   \n",
      "                                                 (0.053)  \n",
      "category__rDpto_Pasco                            -0.158** \n",
      "                                                 (0.062)  \n",
      "category__rDpto_Moquegua                         0.130**  \n",
      "                                                 (0.062)  \n",
      "category__rDpto_Madre de Dios                    0.203*** \n",
      "                                                 (0.069)  \n",
      "category__rDpto_Loreto                           -0.176***\n",
      "                                                 (0.055)  \n",
      "category__rDpto_Lima                             0.113**  \n",
      "                                                 (0.046)  \n",
      "category__rDpto_Lambayeque                       0.137**  \n",
      "                                                 (0.056)  \n",
      "category__rDpto_La Libertad                      0.056    \n",
      "                                                 (0.055)  \n",
      "category__rDpto_Junin                            -0.118** \n",
      "                                                 (0.054)  \n",
      "category__rDpto_Ica                              0.226*** \n",
      "                                                 (0.055)  \n",
      "category__rDpto_Huanuco                          -0.175***\n",
      "                                                 (0.057)  \n",
      "category__rDpto_Huancavelica                     -0.429***\n",
      "                                                 (0.060)  \n",
      "category__rDpto_Cusco                            -0.115** \n",
      "                                                 (0.057)  \n",
      "category__rDpto_Callao                           0.075    \n",
      "                                                 (0.064)  \n",
      "category__rDpto_Cajamarca                        -0.204***\n",
      "                                                 (0.055)  \n",
      "category__rDpto_Ayacucho                         -0.189***\n",
      "                                                 (0.059)  \n",
      "category__rDpto_Arequipa                         0.161*** \n",
      "                                                 (0.055)  \n",
      "category__rDpto_Apurimac                         -0.028   \n",
      "                                                 (0.061)  \n",
      "category__rDpto_Ancash                           0.004    \n",
      "                                                 (0.056)  \n",
      "number__redadsq                        -0.001*** -0.001***\n",
      "                                       (0.000)   (0.000)  \n",
      "number__redad                          0.094***  0.091*** \n",
      "                                       (0.005)   (0.005)  \n",
      "number__rmujer                         -0.479*** -0.483***\n",
      "                                       (0.018)   (0.018)  \n",
      "R-squared                     0.086    0.129     0.148    \n",
      "R-squared Adj.                0.086    0.129     0.147    \n",
      "==========================================================\n",
      "Standard errors in parentheses.\n",
      "* p<.1, ** p<.05, ***p<.01\n"
     ]
    }
   ],
   "source": [
    "resumen_lineal = summary_col([m3, m4, m2], regressor_order=m1.params.index.tolist(), stars=True, float_format='%.3f')\n",
    "print(resumen_lineal)"
   ]
  },
  {
   "cell_type": "code",
   "execution_count": null,
   "id": "b620ed30-0371-404f-ba4b-dfd9e82f14b1",
   "metadata": {},
   "outputs": [],
   "source": []
  },
  {
   "cell_type": "code",
   "execution_count": 34,
   "id": "338d76d5-0ce3-4019-a1a2-c6d8080b7edb",
   "metadata": {},
   "outputs": [
    {
     "data": {
      "text/plain": [
       "const                            4.485094\n",
       "category__rDpto_Ancash           0.004050\n",
       "category__rDpto_Apurimac        -0.027885\n",
       "category__rDpto_Arequipa         0.161097\n",
       "category__rDpto_Ayacucho        -0.189389\n",
       "category__rDpto_Cajamarca       -0.204315\n",
       "category__rDpto_Callao           0.074845\n",
       "category__rDpto_Cusco           -0.114674\n",
       "category__rDpto_Huancavelica    -0.429405\n",
       "category__rDpto_Huanuco         -0.175318\n",
       "category__rDpto_Ica              0.226132\n",
       "category__rDpto_Junin           -0.117805\n",
       "category__rDpto_La Libertad      0.056243\n",
       "category__rDpto_Lambayeque       0.137234\n",
       "category__rDpto_Lima             0.112958\n",
       "category__rDpto_Loreto          -0.176129\n",
       "category__rDpto_Madre de Dios    0.203202\n",
       "category__rDpto_Moquegua         0.130010\n",
       "category__rDpto_Pasco           -0.157750\n",
       "category__rDpto_Piura            0.099197\n",
       "category__rDpto_Puno            -0.611791\n",
       "category__rDpto_San Martin       0.121577\n",
       "category__rDpto_Tacna           -0.066355\n",
       "category__rDpto_Tumbes           0.146565\n",
       "category__rDpto_Ucayali          0.037023\n",
       "number__reduca                   0.066523\n",
       "number__rmujer                  -0.483095\n",
       "number__redad                    0.091068\n",
       "number__redadsq                 -0.001056\n",
       "dtype: float64"
      ]
     },
     "execution_count": 34,
     "metadata": {},
     "output_type": "execute_result"
    }
   ],
   "source": [
    "m2.params"
   ]
  },
  {
   "cell_type": "code",
   "execution_count": 38,
   "id": "ab216ddb-66e6-465a-bc39-a1c10525476d",
   "metadata": {},
   "outputs": [
    {
     "name": "stderr",
     "output_type": "stream",
     "text": [
      "C:\\Users\\et396\\AppData\\Local\\Temp\\ipykernel_7820\\2814395017.py:1: FutureWarning: Series.__getitem__ treating keys as positions is deprecated. In a future version, integer keys will always be treated as labels (consistent with DataFrame behavior). To access a value by position, use `ser.iloc[pos]`\n",
      "  m2.params[27] / (2* m2.params[28])\n"
     ]
    },
    {
     "data": {
      "text/plain": [
       "-43.11407115177062"
      ]
     },
     "execution_count": 38,
     "metadata": {},
     "output_type": "execute_result"
    }
   ],
   "source": [
    "m2.params[27] / (2* m2.params[28])"
   ]
  },
  {
   "cell_type": "markdown",
   "id": "e1e5a6f0-d92e-4c5f-88fe-91a24cade7a6",
   "metadata": {},
   "source": [
    "## Grafico 1"
   ]
  },
  {
   "cell_type": "code",
   "execution_count": 47,
   "id": "0aa0bb4a-d577-4f5d-9314-1a7e5d02db0f",
   "metadata": {},
   "outputs": [
    {
     "data": {
      "text/plain": [
       "count    24774.000000\n",
       "mean         8.698151\n",
       "std          5.497429\n",
       "min          0.000000\n",
       "25%          4.000000\n",
       "50%         11.000000\n",
       "75%         12.000000\n",
       "max         18.000000\n",
       "Name: reduca, dtype: float64"
      ]
     },
     "execution_count": 47,
     "metadata": {},
     "output_type": "execute_result"
    }
   ],
   "source": [
    "data_fit['reduca'].describe()"
   ]
  },
  {
   "cell_type": "code",
   "execution_count": 56,
   "id": "5178e7ec-f553-4296-b3b7-4a8343f792e8",
   "metadata": {},
   "outputs": [
    {
     "data": {
      "image/png": "[encoded data removed]"
     },
     "metadata": {
      "image/png": {
       "height": 480,
       "width": 640
      }
     },
     "output_type": "display_data"
    }
   ],
   "source": [
    "\n",
    "(\n",
    "    ggplot(data_fit, aes(x='reduca', y='stat(density)', color='factor(rmujer)'))\n",
    "    + geom_density(adjust=1.5, show_legend=False, na_rm=True, size=0.7)\n",
    "    + labs(x=\"reduca (years)\", y=\"Density\", color=\"\")\n",
    "    + scale_color_manual(\n",
    "        name=\"\", values=(color[1], color[0]), labels=(\"Male\", \"Female\")\n",
    "    )\n",
    "    + scale_x_continuous(expand=(0.01, 0.01), limits=(1, 18), breaks=seq(1, 18, by=2))\n",
    "    + scale_y_continuous(\n",
    "        expand=(0.0, 0.0), limits=(0, 0.24), breaks=seq(0, 0.24, by=0.03)\n",
    "    )\n",
    "    + geom_text(aes(x=11, y=0.20, label=\"'Male'\"), color=color[1], size=12)\n",
    "    + geom_text(aes(x=11, y=0.14, label=\"'Female'\"), color=color[0], size=12)\n",
    "    + theme_bw()\n",
    "    \n",
    ")\n"
   ]
  },
  {
   "cell_type": "code",
   "execution_count": null,
   "id": "115676bc-8888-4bdc-875d-cb36286b21da",
   "metadata": {},
   "outputs": [],
   "source": []
  }
 ],
 "metadata": {
  "kernelspec": {
   "display_name": "Python 3 (ipykernel)",
   "language": "python",
   "name": "python3"
  },
  "language_info": {
   "codemirror_mode": {
    "name": "ipython",
    "version": 3
   },
   "file_extension": ".py",
   "mimetype": "text/x-python",
   "name": "python",
   "nbconvert_exporter": "python",
   "pygments_lexer": "ipython3",
   "version": "3.12.2"
  }
 },
 "nbformat": 4,
 "nbformat_minor": 5
}
