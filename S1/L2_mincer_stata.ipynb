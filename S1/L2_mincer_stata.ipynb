{
 "cells": [
  {
   "cell_type": "code",
   "execution_count": null,
   "id": "bda2014e-bba3-4e07-80b0-e416aae17ee8",
   "metadata": {},
   "outputs": [],
   "source": []
  },
  {
   "cell_type": "markdown",
   "id": "b78dea61-b94b-47fd-8023-746559ee9a2a",
   "metadata": {},
   "source": [
    "# Librerias"
   ]
  },
  {
   "cell_type": "code",
   "execution_count": 1,
   "id": "02f9217b-57c7-4cb0-a510-c104dccc0239",
   "metadata": {},
   "outputs": [],
   "source": [
    "import pandas\n",
    "import stata_setup\n",
    "import os"
   ]
  },
  {
   "cell_type": "markdown",
   "id": "1827d7f3-2615-4aa0-81f4-c40b8dafc49b",
   "metadata": {},
   "source": [
    "# Importar datasets"
   ]
  },
  {
   "cell_type": "code",
   "execution_count": 2,
   "id": "c45d6865-4872-4ebe-a729-393c2d14548a",
   "metadata": {},
   "outputs": [],
   "source": [
    "output           = \"C:/Users/et396/Dropbox/Docencia/Educate/Econometria/S1/Data\"\n",
    "os.chdir(output)\n",
    "\n",
    "# Carga de data\n",
    "base = pandas.read_stata(\"Mincer_2021.dta\")\n"
   ]
  },
  {
   "cell_type": "markdown",
   "id": "73c3d300-75d7-4c62-a31c-abbd181ea17b",
   "metadata": {},
   "source": [
    "# Formato Stata"
   ]
  },
  {
   "cell_type": "code",
   "execution_count": null,
   "id": "8d075d1d-22d3-467c-984c-7283a0b13747",
   "metadata": {},
   "outputs": [],
   "source": []
  },
  {
   "cell_type": "code",
   "execution_count": 3,
   "id": "daeca287-56d2-493d-8325-227df3bde4a3",
   "metadata": {},
   "outputs": [
    {
     "name": "stdout",
     "output_type": "stream",
     "text": [
      "\n",
      "  ___  ____  ____  ____  ____ ®\n",
      " /__    /   ____/   /   ____/      18.0\n",
      "___/   /   /___/   /   /___/       MP—Parallel Edition\n",
      "\n",
      " Statistics and Data Science       Copyright 1985-2023 StataCorp LLC\n",
      "                                   StataCorp\n",
      "                                   4905 Lakeway Drive\n",
      "                                   College Station, Texas 77845 USA\n",
      "                                   800-STATA-PC        https://www.stata.com\n",
      "                                   979-696-4600        stata@stata.com\n",
      "\n",
      "Stata license: Unlimited-user 2-core network, expiring 29 Sep 2024\n",
      "Serial number: 501809305329\n",
      "  Licensed to: Stata/MP 18 (2 cores)\n",
      "               Unlimited-user Network\n",
      "\n",
      "Notes:\n",
      "      1. Unicode is supported; see help unicode_advice.\n",
      "      2. More than 2 billion observations are allowed; see help obs_advice.\n",
      "      3. Maximum number of variables is set to 5,000 but can be increased;\n",
      "          see help set_maxvar.\n"
     ]
    }
   ],
   "source": [
    "stata_setup.config(\"C:/Program Files/Stata18\", \"mp\")"
   ]
  },
  {
   "cell_type": "code",
   "execution_count": 4,
   "id": "f991d6f8-8f3d-4736-99eb-fd85456edb48",
   "metadata": {},
   "outputs": [
    {
     "name": "stdout",
     "output_type": "stream",
     "text": [
      "\n",
      ". encode rDpto, g(rdpto)\n",
      "\n",
      ". de\n",
      "\n",
      "Contains data\n",
      " Observations:        24,774                  \n",
      "    Variables:            18                  \n",
      "-------------------------------------------------------------------------------\n",
      "Variable      Storage   Display    Value\n",
      "    name         type    format    label      Variable label\n",
      "-------------------------------------------------------------------------------\n",
      "index           int     %8.0g                 \n",
      "rcod_persona    str13   %13s                  \n",
      "rcod_hogar      str11   %11s                  \n",
      "rmujer          int     %8.0g                 \n",
      "r6              double  %10.0g                \n",
      "lnr6            double  %10.0g                \n",
      "rmu             int     %8.0g                 \n",
      "rneduca         str10   %10s                  \n",
      "r3              int     %8.0g                 \n",
      "redad           int     %8.0g                 \n",
      "redadsq         int     %8.0g                 \n",
      "rDpto           str13   %13s                  \n",
      "rpareja         int     %8.0g                 \n",
      "reduca          double  %10.0g                \n",
      "rpobre          int     %8.0g                 \n",
      "rmiembro        int     %8.0g                 \n",
      "rgasto          double  %10.0g                \n",
      "rdpto           long    %13.0g     rdpto      \n",
      "-------------------------------------------------------------------------------\n",
      "Sorted by: \n",
      "     Note: Dataset has changed since last saved.\n",
      "\n",
      ". \n"
     ]
    }
   ],
   "source": [
    "%%stata -d base -eret myeret\n",
    "encode rDpto, g(rdpto)\n",
    "de"
   ]
  },
  {
   "cell_type": "code",
   "execution_count": null,
   "id": "8d92879f-e11c-4e09-91e4-1b5784c0251a",
   "metadata": {},
   "outputs": [],
   "source": [
    "%stata sum"
   ]
  },
  {
   "cell_type": "code",
   "execution_count": null,
   "id": "049f2e87-8e71-4969-b8dd-6229a47e4243",
   "metadata": {},
   "outputs": [],
   "source": [
    "%%stata\n",
    "graph box r6, over(rmujer) title(\"Ingresos Mensuales, segun genero\") ytitle(\"Ingresos mensuales\") nooutside\n"
   ]
  },
  {
   "cell_type": "code",
   "execution_count": null,
   "id": "a452e48f-406b-4296-9bba-c0d6e35b0e0c",
   "metadata": {},
   "outputs": [],
   "source": [
    "%%stata\n",
    "cumul r6 if rmujer==0, gen(r6_m)\n",
    "cumul r6 if rmujer==1, gen(r6_f)\n",
    "\n",
    "label var r6_m \"r6 (ingresos hombres)\"\n",
    "label var r6_f \"r6 (ingresos mujeres)\"\n",
    "\n",
    "line r6_m r6_f r6 if r6<6000, sort ylab(, grid) ytitle(\"Prop. poblacion\")  xlab(,grid) /*\n",
    "*/ title(\"Ingresos segun genero\") xtitle(\"Ingresos Mnesuales\")"
   ]
  },
  {
   "cell_type": "code",
   "execution_count": null,
   "id": "e6d96efb-961f-4512-9217-ec9de71a6cbb",
   "metadata": {},
   "outputs": [],
   "source": [
    "%%stata\n",
    "scatter r6 redad\n",
    "twoway (kdensity lnr6), by(rmujer)"
   ]
  },
  {
   "cell_type": "markdown",
   "id": "5038abef-4f7b-40fa-af55-822ac3828f7c",
   "metadata": {},
   "source": [
    "# Question 2"
   ]
  },
  {
   "cell_type": "code",
   "execution_count": null,
   "id": "c251a7f7-5477-4300-91d1-5dd3bb517325",
   "metadata": {},
   "outputs": [],
   "source": [
    "%%stata\n",
    "reg lnr6 reduca\n",
    "estimate store m1"
   ]
  },
  {
   "cell_type": "code",
   "execution_count": null,
   "id": "ee60fe76-b135-422c-881c-3b1365f3562d",
   "metadata": {},
   "outputs": [],
   "source": [
    "%%stata\n",
    "reg lnr6 reduca rmujer redad redadsq rpareja\n",
    "estimate store m2"
   ]
  },
  {
   "cell_type": "code",
   "execution_count": null,
   "id": "36d68e2e-ee3f-4ee3-9f0f-f6463b359205",
   "metadata": {},
   "outputs": [],
   "source": [
    "%%stata\n",
    "reg lnr6 reduca rmujer redad redadsq rpareja ib(1).rdpto\n",
    "estimate store m3"
   ]
  },
  {
   "cell_type": "code",
   "execution_count": null,
   "id": "4dd5efa4-554c-4ca8-94c2-8b8ac31103fb",
   "metadata": {},
   "outputs": [],
   "source": [
    "%%stata\n",
    "estimate table m1 m2 m3, star b(%7.4f) stats(N r2_a) keep(reduca)"
   ]
  },
  {
   "cell_type": "code",
   "execution_count": null,
   "id": "fe6d8d8a-4199-4aa0-a341-ecb383ab0b2a",
   "metadata": {},
   "outputs": [],
   "source": []
  }
 ],
 "metadata": {
  "kernelspec": {
   "display_name": "Python 3 (ipykernel)",
   "language": "python",
   "name": "python3"
  },
  "language_info": {
   "codemirror_mode": {
    "name": "ipython",
    "version": 3
   },
   "file_extension": ".py",
   "mimetype": "text/x-python",
   "name": "python",
   "nbconvert_exporter": "python",
   "pygments_lexer": "ipython3",
   "version": "3.12.2"
  }
 },
 "nbformat": 4,
 "nbformat_minor": 5
}
