{
 "cells": [
  {
   "cell_type": "markdown",
   "id": "4917df5b-f60d-4935-9bdf-90745a05d955",
   "metadata": {},
   "source": [
    "# Librerias"
   ]
  },
  {
   "cell_type": "code",
   "execution_count": 1,
   "id": "eae70641-893b-4c33-aaaa-41fc2290e62d",
   "metadata": {},
   "outputs": [
    {
     "name": "stderr",
     "output_type": "stream",
     "text": [
      "\n",
      "Attaching package: 'dplyr'\n",
      "\n",
      "\n",
      "The following objects are masked from 'package:stats':\n",
      "\n",
      "    filter, lag\n",
      "\n",
      "\n",
      "The following objects are masked from 'package:base':\n",
      "\n",
      "    intersect, setdiff, setequal, union\n",
      "\n",
      "\n",
      "\n",
      "Please cite as: \n",
      "\n",
      "\n",
      " Hlavac, Marek (2022). stargazer: Well-Formatted Regression and Summary Statistics Tables.\n",
      "\n",
      " R package version 5.2.3. https://CRAN.R-project.org/package=stargazer \n",
      "\n",
      "\n",
      "Loading required package: fit.models\n",
      "\n",
      "\n",
      "Attaching package: 'MASS'\n",
      "\n",
      "\n",
      "The following object is masked from 'package:dplyr':\n",
      "\n",
      "    select\n",
      "\n",
      "\n"
     ]
    }
   ],
   "source": [
    "library(dplyr)\n",
    "library(readstata13)\n",
    "library(stargazer)\n",
    "library(ggplot2)\n",
    "#library(lm_robust)\n",
    "library(robust)\n",
    "library(MASS)"
   ]
  },
  {
   "cell_type": "code",
   "execution_count": 2,
   "id": "fc3fd6b3-81fe-415f-bf6e-30e80cfcf619",
   "metadata": {},
   "outputs": [],
   "source": [
    "output           = \"C:/Users/et396/Dropbox/Docencia/Educate/Econometria/S1/Data\"\n",
    "setwd(output)\n",
    "base = read.dta13(\"Mincer_2021.dta\")"
   ]
  },
  {
   "cell_type": "markdown",
   "id": "f75e59fa-7ffb-44d0-bbc7-d8bbe5f02bd6",
   "metadata": {},
   "source": [
    "# Question 1"
   ]
  },
  {
   "cell_type": "code",
   "execution_count": 3,
   "id": "08338923-e4b8-4e75-8ab1-4c44bca4456f",
   "metadata": {},
   "outputs": [
    {
     "data": {
      "text/html": [
       "<style>\n",
       ".list-inline {list-style: none; margin:0; padding: 0}\n",
       ".list-inline>li {display: inline-block}\n",
       ".list-inline>li:not(:last-child)::after {content: \"\\00b7\"; padding: 0 .5ex}\n",
       "</style>\n",
       "<ol class=list-inline><li>24774</li><li>17</li></ol>\n"
      ],
      "text/latex": [
       "\\begin{enumerate*}\n",
       "\\item 24774\n",
       "\\item 17\n",
       "\\end{enumerate*}\n"
      ],
      "text/markdown": [
       "1. 24774\n",
       "2. 17\n",
       "\n",
       "\n"
      ],
      "text/plain": [
       "[1] 24774    17"
      ]
     },
     "metadata": {},
     "output_type": "display_data"
    }
   ],
   "source": [
    "base %>% dim()"
   ]
  },
  {
   "cell_type": "code",
   "execution_count": 4,
   "id": "b8449490-b3bc-4b6b-90e8-47d2d5093700",
   "metadata": {},
   "outputs": [
    {
     "data": {
      "text/html": [
       "<style>\n",
       ".list-inline {list-style: none; margin:0; padding: 0}\n",
       ".list-inline>li {display: inline-block}\n",
       ".list-inline>li:not(:last-child)::after {content: \"\\00b7\"; padding: 0 .5ex}\n",
       "</style>\n",
       "<ol class=list-inline><li>'index'</li><li>'rcod_persona'</li><li>'rcod_hogar'</li><li>'rmujer'</li><li>'r6'</li><li>'lnr6'</li><li>'rmu'</li><li>'rneduca'</li><li>'r3'</li><li>'redad'</li><li>'redadsq'</li><li>'rDpto'</li><li>'rpareja'</li><li>'reduca'</li><li>'rpobre'</li><li>'rmiembro'</li><li>'rgasto'</li></ol>\n"
      ],
      "text/latex": [
       "\\begin{enumerate*}\n",
       "\\item 'index'\n",
       "\\item 'rcod\\_persona'\n",
       "\\item 'rcod\\_hogar'\n",
       "\\item 'rmujer'\n",
       "\\item 'r6'\n",
       "\\item 'lnr6'\n",
       "\\item 'rmu'\n",
       "\\item 'rneduca'\n",
       "\\item 'r3'\n",
       "\\item 'redad'\n",
       "\\item 'redadsq'\n",
       "\\item 'rDpto'\n",
       "\\item 'rpareja'\n",
       "\\item 'reduca'\n",
       "\\item 'rpobre'\n",
       "\\item 'rmiembro'\n",
       "\\item 'rgasto'\n",
       "\\end{enumerate*}\n"
      ],
      "text/markdown": [
       "1. 'index'\n",
       "2. 'rcod_persona'\n",
       "3. 'rcod_hogar'\n",
       "4. 'rmujer'\n",
       "5. 'r6'\n",
       "6. 'lnr6'\n",
       "7. 'rmu'\n",
       "8. 'rneduca'\n",
       "9. 'r3'\n",
       "10. 'redad'\n",
       "11. 'redadsq'\n",
       "12. 'rDpto'\n",
       "13. 'rpareja'\n",
       "14. 'reduca'\n",
       "15. 'rpobre'\n",
       "16. 'rmiembro'\n",
       "17. 'rgasto'\n",
       "\n",
       "\n"
      ],
      "text/plain": [
       " [1] \"index\"        \"rcod_persona\" \"rcod_hogar\"   \"rmujer\"       \"r6\"          \n",
       " [6] \"lnr6\"         \"rmu\"          \"rneduca\"      \"r3\"           \"redad\"       \n",
       "[11] \"redadsq\"      \"rDpto\"        \"rpareja\"      \"reduca\"       \"rpobre\"      \n",
       "[16] \"rmiembro\"     \"rgasto\"      "
      ]
     },
     "metadata": {},
     "output_type": "display_data"
    }
   ],
   "source": [
    "base %>% names()"
   ]
  },
  {
   "cell_type": "code",
   "execution_count": 5,
   "id": "1f1534a2-da4b-453b-bca4-61b3fb791a2f",
   "metadata": {},
   "outputs": [
    {
     "data": {
      "text/plain": [
       "     index       rcod_persona        rcod_hogar            rmujer      \n",
       " Min.   :    0   Length:24774       Length:24774       Min.   :0.0000  \n",
       " 1st Qu.: 7223   Class :character   Class :character   1st Qu.:0.0000  \n",
       " Median :14584   Mode  :character   Mode  :character   Median :0.0000  \n",
       " Mean   :14364                                         Mean   :0.2831  \n",
       " 3rd Qu.:21431                                         3rd Qu.:1.0000  \n",
       " Max.   :28333                                         Max.   :1.0000  \n",
       "       r6             lnr6             rmu          rneduca            r3   \n",
       " Min.   :    0   Min.   : 0.000   Min.   :0   inicial   :   13   Min.   :1  \n",
       " 1st Qu.:  495   1st Qu.: 6.205   1st Qu.:0   primaria  : 7731   1st Qu.:1  \n",
       " Median :  996   Median : 6.904   Median :0   secundaria:10389   Median :1  \n",
       " Mean   : 1444   Mean   : 6.710   Mean   :0   tecnica   : 3273   Mean   :1  \n",
       " 3rd Qu.: 1762   3rd Qu.: 7.474   3rd Qu.:0   Univ.     : 3368   3rd Qu.:1  \n",
       " Max.   :52063   Max.   :10.860   Max.   :0                      Max.   :1  \n",
       "     redad         redadsq        rDpto              rpareja      \n",
       " Min.   :18.0   Min.   : 324   Length:24774       Min.   :0.0000  \n",
       " 1st Qu.:38.0   1st Qu.:1444   Class :character   1st Qu.:0.0000  \n",
       " Median :47.0   Median :2209   Mode  :character   Median :1.0000  \n",
       " Mean   :46.8   Mean   :2331                      Mean   :0.6572  \n",
       " 3rd Qu.:56.0   3rd Qu.:3136                      3rd Qu.:1.0000  \n",
       " Max.   :69.0   Max.   :4761                      Max.   :1.0000  \n",
       "     reduca           rpobre          rmiembro          rgasto        \n",
       " Min.   : 0.000   Min.   :0.0000   Min.   : 1.000   Min.   :   46.65  \n",
       " 1st Qu.: 4.000   1st Qu.:0.0000   1st Qu.: 2.000   1st Qu.:  363.60  \n",
       " Median :11.000   Median :0.0000   Median : 3.000   Median :  565.11  \n",
       " Mean   : 8.698   Mean   :0.1899   Mean   : 3.534   Mean   :  734.17  \n",
       " 3rd Qu.:12.000   3rd Qu.:0.0000   3rd Qu.: 5.000   3rd Qu.:  894.49  \n",
       " Max.   :18.000   Max.   :1.0000   Max.   :15.000   Max.   :17060.25  "
      ]
     },
     "metadata": {},
     "output_type": "display_data"
    }
   ],
   "source": [
    "base %>% summary()\n",
    "base <- base %>% mutate(rdpto = factor(rDpto) )"
   ]
  },
  {
   "cell_type": "code",
   "execution_count": 6,
   "id": "d0169c8c-da7f-4658-9a21-26d946c9d01e",
   "metadata": {},
   "outputs": [
    {
     "name": "stdout",
     "output_type": "stream",
     "text": [
      "\n",
      "Results\n",
      "=======================================================================================================\n",
      "                                                    Dependent variable:                                \n",
      "                    -----------------------------------------------------------------------------------\n",
      "                                                           lnr6                                        \n",
      "                                (1)                         (2)                         (3)            \n",
      "-------------------------------------------------------------------------------------------------------\n",
      "reduca                        0.072***                    0.071***                   0.066***          \n",
      "                              (0.001)                     (0.001)                     (0.002)          \n",
      "                                                                                                       \n",
      "rmujer                                                   -0.560***                   -0.556***         \n",
      "                                                          (0.022)                     (0.022)          \n",
      "                                                                                                       \n",
      "redad                                                     0.095***                   0.093***          \n",
      "                                                          (0.005)                     (0.005)          \n",
      "                                                                                                       \n",
      "redadsq                                                  -0.001***                   -0.001***         \n",
      "                                                          (0.0001)                   (0.0001)          \n",
      "                                                                                                       \n",
      "rpareja                                                  -0.134***                   -0.121***         \n",
      "                                                          (0.021)                     (0.020)          \n",
      "                                                                                                       \n",
      "rdptoAncash                                                                            0.005           \n",
      "                                                                                      (0.056)          \n",
      "                                                                                                       \n",
      "rdptoApurimac                                                                         -0.024           \n",
      "                                                                                      (0.061)          \n",
      "                                                                                                       \n",
      "rdptoArequipa                                                                        0.159***          \n",
      "                                                                                      (0.055)          \n",
      "                                                                                                       \n",
      "rdptoAyacucho                                                                        -0.191***         \n",
      "                                                                                      (0.059)          \n",
      "                                                                                                       \n",
      "rdptoCajamarca                                                                       -0.203***         \n",
      "                                                                                      (0.055)          \n",
      "                                                                                                       \n",
      "rdptoCallao                                                                            0.070           \n",
      "                                                                                      (0.064)          \n",
      "                                                                                                       \n",
      "rdptoCusco                                                                            -0.107*          \n",
      "                                                                                      (0.057)          \n",
      "                                                                                                       \n",
      "rdptoHuancavelica                                                                    -0.426***         \n",
      "                                                                                      (0.060)          \n",
      "                                                                                                       \n",
      "rdptoHuanuco                                                                         -0.177***         \n",
      "                                                                                      (0.057)          \n",
      "                                                                                                       \n",
      "rdptoIca                                                                             0.221***          \n",
      "                                                                                      (0.055)          \n",
      "                                                                                                       \n",
      "rdptoJunin                                                                           -0.120**          \n",
      "                                                                                      (0.054)          \n",
      "                                                                                                       \n",
      "rdptoLa Libertad                                                                       0.056           \n",
      "                                                                                      (0.055)          \n",
      "                                                                                                       \n",
      "rdptoLambayeque                                                                       0.139**          \n",
      "                                                                                      (0.056)          \n",
      "                                                                                                       \n",
      "rdptoLima                                                                             0.111**          \n",
      "                                                                                      (0.046)          \n",
      "                                                                                                       \n",
      "rdptoLoreto                                                                          -0.171***         \n",
      "                                                                                      (0.055)          \n",
      "                                                                                                       \n",
      "rdptoMadre de Dios                                                                   0.200***          \n",
      "                                                                                      (0.069)          \n",
      "                                                                                                       \n",
      "rdptoMoquegua                                                                         0.125**          \n",
      "                                                                                      (0.062)          \n",
      "                                                                                                       \n",
      "rdptoPasco                                                                           -0.156**          \n",
      "                                                                                      (0.062)          \n",
      "                                                                                                       \n",
      "rdptoPiura                                                                            0.102*           \n",
      "                                                                                      (0.053)          \n",
      "                                                                                                       \n",
      "rdptoPuno                                                                            -0.610***         \n",
      "                                                                                      (0.059)          \n",
      "                                                                                                       \n",
      "rdptoSan Martin                                                                       0.122**          \n",
      "                                                                                      (0.055)          \n",
      "                                                                                                       \n",
      "rdptoTacna                                                                            -0.074           \n",
      "                                                                                      (0.057)          \n",
      "                                                                                                       \n",
      "rdptoTumbes                                                                           0.142**          \n",
      "                                                                                      (0.063)          \n",
      "                                                                                                       \n",
      "rdptoUcayali                                                                           0.039           \n",
      "                                                                                      (0.057)          \n",
      "                                                                                                       \n",
      "Constant                      6.085***                    4.450***                   4.563***          \n",
      "                              (0.015)                     (0.114)                     (0.119)          \n",
      "                                                                                                       \n",
      "-------------------------------------------------------------------------------------------------------\n",
      "Observations                   24,774                      24,774                     24,774           \n",
      "R2                             0.086                       0.131                       0.149           \n",
      "Adjusted R2                    0.086                       0.130                       0.148           \n",
      "Residual Std. Error      1.290 (df = 24772)          1.258 (df = 24768)         1.245 (df = 24744)     \n",
      "F Statistic         2,324.742*** (df = 1; 24772) 743.754*** (df = 5; 24768) 149.144*** (df = 29; 24744)\n",
      "=======================================================================================================\n",
      "Note:                                                                       *p<0.1; **p<0.05; ***p<0.01\n"
     ]
    }
   ],
   "source": [
    "m1 <- lm(lnr6 ~ reduca, data = base)\n",
    "m2 <- lm(lnr6 ~ reduca + rmujer + redad + redadsq + rpareja, data = base)\n",
    "m3 <- lm(lnr6 ~ reduca + rmujer + redad + redadsq + rpareja + rdpto, data = base)\n",
    "\n",
    "stargazer(m1, m2, m3, title=\"Results\", type=\"text\")\n"
   ]
  },
  {
   "cell_type": "code",
   "execution_count": 7,
   "id": "d4c4227a-889e-4a01-980a-4b849a987bd9",
   "metadata": {},
   "outputs": [
    {
     "name": "stdout",
     "output_type": "stream",
     "text": [
      "\n",
      "Results\n",
      "=======================================================================================================\n",
      "                                                    Dependent variable:                                \n",
      "                    -----------------------------------------------------------------------------------\n",
      "                                                           lnr6                                        \n",
      "                                (1)                         (2)                         (3)            \n",
      "-------------------------------------------------------------------------------------------------------\n",
      "reduca                        0.072***                    0.071***                   0.066***          \n",
      "                              (0.001)                     (0.001)                     (0.002)          \n",
      "                                                                                                       \n",
      "rmujer                                                   -0.560***                   -0.556***         \n",
      "                                                          (0.022)                     (0.022)          \n",
      "                                                                                                       \n",
      "-------------------------------------------------------------------------------------------------------\n",
      "Observations                   24,774                      24,774                     24,774           \n",
      "R2                             0.086                       0.131                       0.149           \n",
      "Adjusted R2                    0.086                       0.130                       0.148           \n",
      "Residual Std. Error      1.290 (df = 24772)          1.258 (df = 24768)         1.245 (df = 24744)     \n",
      "F Statistic         2,324.742*** (df = 1; 24772) 743.754*** (df = 5; 24768) 149.144*** (df = 29; 24744)\n",
      "=======================================================================================================\n",
      "Note:                                                                       *p<0.1; **p<0.05; ***p<0.01\n"
     ]
    }
   ],
   "source": [
    "stargazer(m1, m2, m3, title=\"Results\", type=\"text\", keep = c(\"reduca\", \"rmujer\"))"
   ]
  },
  {
   "cell_type": "code",
   "execution_count": 8,
   "id": "6dbec5d3-3d3c-4289-a564-f6bad43a92bc",
   "metadata": {},
   "outputs": [
    {
     "name": "stderr",
     "output_type": "stream",
     "text": [
      "Warning message in geom_boxplot(outliers = FALSE):\n",
      "\"\u001b[1m\u001b[22mIgnoring unknown parameters: `outliers`\"\n"
     ]
    },
    {
     "data": {
      "image/png": "[encoded data removed]",
      "text/plain": [
       "plot without title"
      ]
     },
     "metadata": {
      "image/png": {
       "height": 420,
       "width": 420
      }
     },
     "output_type": "display_data"
    },
    {
     "data": {
      "image/png": "[encoded data removed]",
      "text/plain": [
       "plot without title"
      ]
     },
     "metadata": {
      "image/png": {
       "height": 420,
       "width": 420
      }
     },
     "output_type": "display_data"
    }
   ],
   "source": [
    "# Residuos \n",
    "base$rerror <- m2$resid\n",
    "\n",
    "(\n",
    "ggplot(base, aes(x=rerror)) + geom_density() + theme_bw()\n",
    ")\n",
    "\n",
    "\n",
    "(\n",
    "ggplot(base, aes(y=rerror)) + geom_boxplot(outliers = FALSE) + theme_bw()\n",
    ")"
   ]
  },
  {
   "cell_type": "code",
   "execution_count": 20,
   "id": "f42e3689-4a0b-45a3-8997-14fd0b08eeea",
   "metadata": {},
   "outputs": [
    {
     "name": "stdout",
     "output_type": "stream",
     "text": [
      "\n",
      "Results\n",
      "===============================================\n",
      "                        Dependent variable:    \n",
      "                    ---------------------------\n",
      "                             rerrorsq          \n",
      "-----------------------------------------------\n",
      "reduca                        0.016**          \n",
      "                              (0.007)          \n",
      "                                               \n",
      "rmujer                       1.260***          \n",
      "                              (0.100)          \n",
      "                                               \n",
      "redad                        -0.090***         \n",
      "                              (0.023)          \n",
      "                                               \n",
      "redadsq                      0.001***          \n",
      "                             (0.0002)          \n",
      "                                               \n",
      "rpareja                      1.263***          \n",
      "                              (0.095)          \n",
      "                                               \n",
      "-----------------------------------------------\n",
      "Observations                  24,774           \n",
      "R2                             0.011           \n",
      "Adjusted R2                    0.010           \n",
      "Residual Std. Error     5.787 (df = 24768)     \n",
      "F Statistic          53.327*** (df = 5; 24768) \n",
      "===============================================\n",
      "Note:               *p<0.1; **p<0.05; ***p<0.01\n"
     ]
    }
   ],
   "source": [
    "base$rerrorsq <- (base$rerror)^2\n",
    "m2_error <- lm(rerrorsq ~ reduca + rmujer + redad + redadsq + rpareja, data = base)\n",
    "stargazer(m2_error , title=\"Results\", type=\"text\", keep = c(\"reduca\", \"rmujer\", \"redad\", \"redadsq\", \"rpareja\"))\n"
   ]
  },
  {
   "cell_type": "markdown",
   "id": "512ec048-2fd1-484e-a07b-aece3576c96e",
   "metadata": {},
   "source": [
    "# Question 2"
   ]
  },
  {
   "cell_type": "code",
   "execution_count": 9,
   "id": "ecc243ed-a3b9-468a-a068-2003e7404f5e",
   "metadata": {},
   "outputs": [
    {
     "data": {
      "text/plain": [
       "\n",
       "Call: rlm(formula = lnr6 ~ reduca + rmujer + redad + redadsq + rpareja, \n",
       "    data = base)\n",
       "Residuals:\n",
       "    Min      1Q  Median      3Q     Max \n",
       "-7.6730 -0.5528  0.0495  0.5535  4.2542 \n",
       "\n",
       "Coefficients:\n",
       "            Value    Std. Error t value \n",
       "(Intercept)   4.6980   0.0802    58.5598\n",
       "reduca        0.0719   0.0010    69.7944\n",
       "rmujer       -0.3997   0.0152   -26.2671\n",
       "redad         0.0812   0.0035    23.1933\n",
       "redadsq      -0.0009   0.0000   -24.9429\n",
       "rpareja       0.0265   0.0145     1.8330\n",
       "\n",
       "Residual standard error: 0.8203 on 24768 degrees of freedom"
      ]
     },
     "metadata": {},
     "output_type": "display_data"
    }
   ],
   "source": [
    "# Can easily match Stata's robust standard errors\n",
    "#m4 <- lm_robust(lnr6 ~ reduca + rmujer + redad + redadsq + rpareja, data = base, se_type = \"stata\")\n",
    "#m4 <- lmRob(lnr6 ~ reduca + rmujer + redad + redadsq + rpareja, data = base)\n",
    "m4 <- rlm(lnr6 ~ reduca + rmujer + redad + redadsq + rpareja, data = base)\n",
    "summary(m4)"
   ]
  },
  {
   "cell_type": "code",
   "execution_count": 13,
   "id": "d2879c95-9521-4518-ba27-b2fdf0497377",
   "metadata": {},
   "outputs": [
    {
     "name": "stdout",
     "output_type": "stream",
     "text": [
      "\n",
      "Results\n",
      "=====================================================================\n",
      "                                         Dependent variable:         \n",
      "                                 ------------------------------------\n",
      "                                                 lnr6                \n",
      "                                            OLS              robust  \n",
      "                                                             linear  \n",
      "                                            (1)                (2)   \n",
      "---------------------------------------------------------------------\n",
      "reduca                                    0.071***          0.072*** \n",
      "                                          (0.001)            (0.001) \n",
      "                                                                     \n",
      "rmujer                                   -0.560***          -0.400***\n",
      "                                          (0.022)            (0.015) \n",
      "                                                                     \n",
      "redad                                     0.095***          0.081*** \n",
      "                                          (0.005)            (0.004) \n",
      "                                                                     \n",
      "redadsq                                  -0.001***          -0.001***\n",
      "                                          (0.0001)          (0.00004)\n",
      "                                                                     \n",
      "rpareja                                  -0.134***           0.027*  \n",
      "                                          (0.021)            (0.014) \n",
      "                                                                     \n",
      "---------------------------------------------------------------------\n",
      "Observations                               24,774            24,774  \n",
      "R2                                         0.131                     \n",
      "Adjusted R2                                0.130                     \n",
      "Residual Std. Error (df = 24768)           1.258              0.820  \n",
      "F Statistic                      743.754*** (df = 5; 24768)          \n",
      "=====================================================================\n",
      "Note:                                     *p<0.1; **p<0.05; ***p<0.01\n"
     ]
    }
   ],
   "source": [
    "stargazer(m2 , m4 , title=\"Results\", type=\"text\", keep = c(\"reduca\", \"rmujer\", \"redad\", \"redadsq\", \"rpareja\"))"
   ]
  },
  {
   "cell_type": "markdown",
   "id": "05a5592c-d55e-4669-8b77-650ba0c60fe5",
   "metadata": {},
   "source": [
    "# Question 3"
   ]
  },
  {
   "cell_type": "code",
   "execution_count": 34,
   "id": "e27dc119-ee4e-4e4e-8287-2ff20b1f5b7a",
   "metadata": {},
   "outputs": [
    {
     "name": "stdout",
     "output_type": "stream",
     "text": [
      "\n",
      "Results\n",
      "===============================================\n",
      "                        Dependent variable:    \n",
      "                    ---------------------------\n",
      "                               lnr6            \n",
      "-----------------------------------------------\n",
      "reduca                       0.072***          \n",
      "                              (0.001)          \n",
      "                                               \n",
      "rmujer                       -0.400***         \n",
      "                              (0.015)          \n",
      "                                               \n",
      "redad                        0.081***          \n",
      "                              (0.004)          \n",
      "                                               \n",
      "redadsq                      -0.001***         \n",
      "                             (0.00004)         \n",
      "                                               \n",
      "rpareja                       0.027*           \n",
      "                              (0.014)          \n",
      "                                               \n",
      "-----------------------------------------------\n",
      "Observations                  24,774           \n",
      "Residual Std. Error     0.820 (df = 24768)     \n",
      "===============================================\n",
      "Note:               *p<0.1; **p<0.05; ***p<0.01\n"
     ]
    }
   ],
   "source": [
    "stargazer( m4 , title=\"Results\", type=\"text\", keep = c(\"reduca\", \"rmujer\", \"redad\", \"redadsq\", \"rpareja\"))"
   ]
  },
  {
   "cell_type": "markdown",
   "id": "993cb557-b88a-4682-8ca1-91343ff2b69f",
   "metadata": {},
   "source": [
    "$$\n",
    "redad_{ss} = \\hat{\\bigtriangleup} =\\frac{\\hat{\\beta}_{2}}{-2 \\hat{\\beta}_{3}}\n",
    "$$"
   ]
  },
  {
   "cell_type": "code",
   "execution_count": 25,
   "id": "86ec4ac7-447e-4895-be5c-9a4eb28d3b8d",
   "metadata": {},
   "outputs": [
    {
     "data": {
      "text/html": [
       "<table class=\"dataframe\">\n",
       "<caption>A matrix: 6 × 6 of type dbl</caption>\n",
       "<thead>\n",
       "\t<tr><th></th><th scope=col>(Intercept)</th><th scope=col>reduca</th><th scope=col>rmujer</th><th scope=col>redad</th><th scope=col>redadsq</th><th scope=col>rpareja</th></tr>\n",
       "</thead>\n",
       "<tbody>\n",
       "\t<tr><th scope=row>(Intercept)</th><td> 6.436164e-03</td><td>-1.528876e-05</td><td>-1.367136e-04</td><td>-2.704724e-04</td><td> 2.794784e-06</td><td>-1.362757e-04</td></tr>\n",
       "\t<tr><th scope=row>reduca</th><td>-1.528876e-05</td><td> 1.062048e-06</td><td> 4.061936e-07</td><td> 1.823215e-07</td><td>-1.307526e-09</td><td> 6.866932e-07</td></tr>\n",
       "\t<tr><th scope=row>rmujer</th><td>-1.367136e-04</td><td> 4.061936e-07</td><td> 2.315133e-04</td><td>-1.220847e-06</td><td> 1.791972e-08</td><td> 1.262901e-04</td></tr>\n",
       "\t<tr><th scope=row>redad</th><td>-2.704724e-04</td><td> 1.823215e-07</td><td>-1.220847e-06</td><td> 1.225761e-05</td><td>-1.298871e-07</td><td>-2.517709e-06</td></tr>\n",
       "\t<tr><th scope=row>redadsq</th><td> 2.794784e-06</td><td>-1.307526e-09</td><td> 1.791972e-08</td><td>-1.298871e-07</td><td> 1.402471e-09</td><td> 3.204463e-08</td></tr>\n",
       "\t<tr><th scope=row>rpareja</th><td>-1.362757e-04</td><td> 6.866932e-07</td><td> 1.262901e-04</td><td>-2.517709e-06</td><td> 3.204463e-08</td><td> 2.094902e-04</td></tr>\n",
       "</tbody>\n",
       "</table>\n"
      ],
      "text/latex": [
       "A matrix: 6 × 6 of type dbl\n",
       "\\begin{tabular}{r|llllll}\n",
       "  & (Intercept) & reduca & rmujer & redad & redadsq & rpareja\\\\\n",
       "\\hline\n",
       "\t(Intercept) &  6.436164e-03 & -1.528876e-05 & -1.367136e-04 & -2.704724e-04 &  2.794784e-06 & -1.362757e-04\\\\\n",
       "\treduca & -1.528876e-05 &  1.062048e-06 &  4.061936e-07 &  1.823215e-07 & -1.307526e-09 &  6.866932e-07\\\\\n",
       "\trmujer & -1.367136e-04 &  4.061936e-07 &  2.315133e-04 & -1.220847e-06 &  1.791972e-08 &  1.262901e-04\\\\\n",
       "\tredad & -2.704724e-04 &  1.823215e-07 & -1.220847e-06 &  1.225761e-05 & -1.298871e-07 & -2.517709e-06\\\\\n",
       "\tredadsq &  2.794784e-06 & -1.307526e-09 &  1.791972e-08 & -1.298871e-07 &  1.402471e-09 &  3.204463e-08\\\\\n",
       "\trpareja & -1.362757e-04 &  6.866932e-07 &  1.262901e-04 & -2.517709e-06 &  3.204463e-08 &  2.094902e-04\\\\\n",
       "\\end{tabular}\n"
      ],
      "text/markdown": [
       "\n",
       "A matrix: 6 × 6 of type dbl\n",
       "\n",
       "| <!--/--> | (Intercept) | reduca | rmujer | redad | redadsq | rpareja |\n",
       "|---|---|---|---|---|---|---|\n",
       "| (Intercept) |  6.436164e-03 | -1.528876e-05 | -1.367136e-04 | -2.704724e-04 |  2.794784e-06 | -1.362757e-04 |\n",
       "| reduca | -1.528876e-05 |  1.062048e-06 |  4.061936e-07 |  1.823215e-07 | -1.307526e-09 |  6.866932e-07 |\n",
       "| rmujer | -1.367136e-04 |  4.061936e-07 |  2.315133e-04 | -1.220847e-06 |  1.791972e-08 |  1.262901e-04 |\n",
       "| redad | -2.704724e-04 |  1.823215e-07 | -1.220847e-06 |  1.225761e-05 | -1.298871e-07 | -2.517709e-06 |\n",
       "| redadsq |  2.794784e-06 | -1.307526e-09 |  1.791972e-08 | -1.298871e-07 |  1.402471e-09 |  3.204463e-08 |\n",
       "| rpareja | -1.362757e-04 |  6.866932e-07 |  1.262901e-04 | -2.517709e-06 |  3.204463e-08 |  2.094902e-04 |\n",
       "\n"
      ],
      "text/plain": [
       "            (Intercept)   reduca        rmujer        redad        \n",
       "(Intercept)  6.436164e-03 -1.528876e-05 -1.367136e-04 -2.704724e-04\n",
       "reduca      -1.528876e-05  1.062048e-06  4.061936e-07  1.823215e-07\n",
       "rmujer      -1.367136e-04  4.061936e-07  2.315133e-04 -1.220847e-06\n",
       "redad       -2.704724e-04  1.823215e-07 -1.220847e-06  1.225761e-05\n",
       "redadsq      2.794784e-06 -1.307526e-09  1.791972e-08 -1.298871e-07\n",
       "rpareja     -1.362757e-04  6.866932e-07  1.262901e-04 -2.517709e-06\n",
       "            redadsq       rpareja      \n",
       "(Intercept)  2.794784e-06 -1.362757e-04\n",
       "reduca      -1.307526e-09  6.866932e-07\n",
       "rmujer       1.791972e-08  1.262901e-04\n",
       "redad       -1.298871e-07 -2.517709e-06\n",
       "redadsq      1.402471e-09  3.204463e-08\n",
       "rpareja      3.204463e-08  2.094902e-04"
      ]
     },
     "metadata": {},
     "output_type": "display_data"
    }
   ],
   "source": [
    "vcov(m4)"
   ]
  },
  {
   "cell_type": "code",
   "execution_count": 27,
   "id": "c5f51b52-2a65-4061-ad78-861146d32750",
   "metadata": {},
   "outputs": [
    {
     "data": {
      "text/html": [
       "1.40247065344663e-09"
      ],
      "text/latex": [
       "1.40247065344663e-09"
      ],
      "text/markdown": [
       "1.40247065344663e-09"
      ],
      "text/plain": [
       "[1] 1.402471e-09"
      ]
     },
     "metadata": {},
     "output_type": "display_data"
    }
   ],
   "source": [
    "vcov(m4)[5,5]"
   ]
  },
  {
   "cell_type": "markdown",
   "id": "179600fc-bc0a-477e-8cc5-0c17f78d8cfa",
   "metadata": {},
   "source": [
    "\n",
    "\n",
    "$$ Var \\left( \\hat{\\bigtriangleup}\\right) = \\left( \\frac{\\partial \\hat{\\bigtriangleup}}{\\partial \\hat{\\gamma}}_{2} \\right)^{2} Var \\left( \\hat{\\gamma}_{2}\\right) + \\left( \\frac{\\partial \\hat{\\bigtriangleup}}{\\partial \\hat{\\gamma}}_{3} \\right)^{2}  Var \\left( \\hat{\\gamma}_{3}\\right)  + 2 \\left( \\frac{\\partial \\hat{\\bigtriangleup}}{\\partial \\hat{\\gamma}}_{2} \\right) \\left( \\frac{\\partial \\hat{\\bigtriangleup}}{\\partial \\hat{\\gamma}}_{3} \\right) Cov \\left(\\hat{\\gamma}_{2}, \\hat{\\gamma}_{3} \\right) $$\n",
    "\n"
   ]
  },
  {
   "cell_type": "code",
   "execution_count": 47,
   "id": "0184f353-e04b-4f7f-86d0-336a2db069b2",
   "metadata": {},
   "outputs": [
    {
     "data": {
      "text/html": [
       "<strong>redadsq:</strong> 0.0784035721548602"
      ],
      "text/latex": [
       "\\textbf{redadsq:} 0.0784035721548602"
      ],
      "text/markdown": [
       "**redadsq:** 0.0784035721548602"
      ],
      "text/plain": [
       "   redadsq \n",
       "0.07840357 "
      ]
     },
     "metadata": {},
     "output_type": "display_data"
    }
   ],
   "source": [
    "# Parametros del metodo delta\n",
    "\n",
    "beta2 <- -(1/(2*m4$coefficients['redadsq']))\n",
    "beta3 <- (m4$coefficients['redad'])/(2*(m4$coefficients['redadsq']^2))\n",
    "beta2_sq <- beta2^2\n",
    "beta3_sq <- beta3^2\n",
    "\n",
    "var_beta2       = vcov(m4)[4,4]\n",
    "var_beta3       = vcov(m4)[5,5]\n",
    "cov_beta2_beta3 = vcov(m4)[4,5]\n",
    "\n",
    "var_delta = (beta2_sq*var_beta2) + (beta3_sq*var_beta3) + (2*beta2*beta3*cov_beta2_beta3)\n",
    "var_delta"
   ]
  },
  {
   "cell_type": "code",
   "execution_count": 46,
   "id": "bbbb0b33-11af-4436-8f02-255c7a2c326a",
   "metadata": {},
   "outputs": [
    {
     "data": {
      "text/html": [
       "<strong>redadsq:</strong> 0.280006378775306"
      ],
      "text/latex": [
       "\\textbf{redadsq:} 0.280006378775306"
      ],
      "text/markdown": [
       "**redadsq:** 0.280006378775306"
      ],
      "text/plain": [
       "  redadsq \n",
       "0.2800064 "
      ]
     },
     "metadata": {},
     "output_type": "display_data"
    }
   ],
   "source": [
    "se_delta = sqrt(var_delta)\n",
    "se_delta"
   ]
  },
  {
   "cell_type": "markdown",
   "id": "8619c825-e648-4ebc-a2f4-4bb78497d1c6",
   "metadata": {},
   "source": [
    "# Question 4"
   ]
  },
  {
   "cell_type": "code",
   "execution_count": 16,
   "id": "435b7224-061f-4e1f-8568-747dd17c5bec",
   "metadata": {},
   "outputs": [],
   "source": [
    "base   <- base %>% mutate(i1 = rmujer * reduca )\n",
    "base_m <- base %>% filter(rmujer ==0) # male\n",
    "base_f <- base %>% filter(rmujer ==1) # female \n",
    "\n",
    "m2_m <- rlm(lnr6 ~ reduca + redad + redadsq + rpareja, data = base_m)\n",
    "m2_f <- rlm(lnr6 ~ reduca + redad + redadsq + rpareja, data = base_f) \n",
    "m5   <- rlm(lnr6 ~ reduca + i1 + rmujer + redad + redadsq + rpareja, data = base)"
   ]
  },
  {
   "cell_type": "code",
   "execution_count": 19,
   "id": "e47f75a5-2792-4136-af3a-90d1758b617d",
   "metadata": {},
   "outputs": [
    {
     "name": "stdout",
     "output_type": "stream",
     "text": [
      "\n",
      "Results\n",
      "===========================================================================\n",
      "                                      Dependent variable:                  \n",
      "                    -------------------------------------------------------\n",
      "                                  Modelo Lineal : OLS robust               \n",
      "                           Male             Female          Interaction    \n",
      "                           (1)                (2)               (3)        \n",
      "---------------------------------------------------------------------------\n",
      "reduca                   0.070***          0.078***           0.070***     \n",
      "                         (0.001)            (0.002)           (0.001)      \n",
      "                                                                           \n",
      "i1                                                            0.008***     \n",
      "                                                              (0.002)      \n",
      "                                                                           \n",
      "---------------------------------------------------------------------------\n",
      "Observations              17,760             7,014             24,774      \n",
      "Residual Std. Error 0.761 (df = 17755) 0.988 (df = 7009) 0.821 (df = 24767)\n",
      "===========================================================================\n",
      "Note:                                           *p<0.1; **p<0.05; ***p<0.01\n"
     ]
    }
   ],
   "source": [
    "stargazer(m2_m, m2_f, m5 , title=\"Results\", type=\"text\", \n",
    "          keep = c(\"reduca\", \"i1\"), \n",
    "          dep.var.labels=c(\"Modelo Lineal : OLS robust\"), \n",
    "          column.labels=c(\"Male\",\"Female\", \"Interaction\"))"
   ]
  },
  {
   "cell_type": "code",
   "execution_count": null,
   "id": "f07d2c37-1e02-4149-8113-a0392ef76fd1",
   "metadata": {},
   "outputs": [],
   "source": []
  }
 ],
 "metadata": {
  "kernelspec": {
   "display_name": "Python 3 (ipykernel)",
   "language": "python",
   "name": "python3"
  },
  "language_info": {
   "codemirror_mode": {
    "name": "ipython",
    "version": 3
   },
   "file_extension": ".py",
   "mimetype": "text/x-python",
   "name": "python",
   "nbconvert_exporter": "python",
   "pygments_lexer": "ipython3",
   "version": "3.12.2"
  }
 },
 "nbformat": 4,
 "nbformat_minor": 5
}
