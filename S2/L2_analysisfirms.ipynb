{
 "cells": [
  {
   "cell_type": "code",
   "execution_count": null,
   "id": "c7aa4259-0295-4a83-a09a-a1a56fd61f7c",
   "metadata": {},
   "outputs": [],
   "source": []
  },
  {
   "cell_type": "markdown",
   "id": "81cb3b28-5021-47de-bc39-125b8c6b526a",
   "metadata": {},
   "source": [
    "# Librerias"
   ]
  },
  {
   "cell_type": "code",
   "execution_count": 1,
   "id": "5d1524d9-376a-460d-826c-4c2ef382085e",
   "metadata": {},
   "outputs": [],
   "source": [
    "import pandas\n",
    "import numpy\n",
    "import os\n",
    "import sys\n",
    "import numpy\n",
    "\n",
    "import statsmodels.api as sm\n",
    "from statsmodels.iolib.summary2 import summary_col\n",
    "\n",
    "import sklearn\n",
    "import sklearn.compose\n",
    "import category_encoders\n",
    "import sklearn.impute\n",
    "\n",
    "from plotnine import *\n",
    "from stargazer.stargazer import Stargazer\n",
    "from IPython.core.display import HTML\n",
    "\n",
    "import py_hep_functions"
   ]
  },
  {
   "cell_type": "code",
   "execution_count": 2,
   "id": "c0051cf0-422e-4887-9258-c91b65fcafe3",
   "metadata": {},
   "outputs": [],
   "source": [
    "\n",
    "color = [\"#3a5e8cFF\", \"#10a53dFF\", \"#541352FF\", \"#ffcf20FF\", \"#2f9aa0FF\"]\n",
    "\n",
    "def seq(start: float, stop: float, by: float, round_n=3) -> list:\n",
    "    \"\"\"\n",
    "    Custom function, used for setting the breaks of plotnine scales.\n",
    "\n",
    "       Parameters\n",
    "    ----------\n",
    "    start : float\n",
    "        Start of the breaks.\n",
    "    stop : float\n",
    "        End of the breaks.\n",
    "    by : float\n",
    "        Steps between breaks.\n",
    "    round_n: int, default=3\n",
    "        Decimals to round floats in output.\n",
    "    \"\"\"\n",
    "    epsilon = numpy.finfo(\"float\").eps\n",
    "\n",
    "    return [\n",
    "        round(x, round_n) for x in list(numpy.arange(start, stop + (by - epsilon), by))\n",
    "    ]\n",
    "    \n",
    "def normalize_frame(frame):\n",
    "    \"\"\"Normalize the data frame to make it performant and compatible with\n",
    "    downstream libraries such as Scikit-Learn and CatBoost.\n",
    "    \n",
    "    In particular the following operations are performed:\n",
    "    - Categorical levels that are not strings are converted into strings\n",
    "    - Categorical missing values are converted into a distinct \"N/A\" level\n",
    "    - Object-typed columns are converted into categorical columns\n",
    "    \"\"\"\n",
    "    for col, series in frame.items():\n",
    "        dtype = series.dtype\n",
    "        if pandas.api.types.is_categorical_dtype(dtype):\n",
    "            recode = False\n",
    "            if series.hasnans:\n",
    "                recode = True\n",
    "            else:\n",
    "                for value in series.cat.categories:\n",
    "                    if not isinstance(value, str):\n",
    "                        recode = True\n",
    "                        break\n",
    "            if recode:\n",
    "                frame[col] = series.astype(\"str\").fillna(\"N/A\").astype(\n",
    "                    \"category\")\n",
    "        elif pandas.api.types.is_object_dtype(dtype):\n",
    "            frame[col] = series.astype(\"str\").fillna(\"N/A\").astype(\"category\")\n",
    "\n",
    "    return frame\n",
    "\n",
    "base_transformer = sklearn.pipeline.Pipeline([\n",
    "    (\"recode\", sklearn.compose.ColumnTransformer(transformers=[\n",
    "        (\"category\",\n",
    "             #sklearn.preprocessing.OneHotEncoder(handle_unknown=\"ignore\",\n",
    "             sklearn.preprocessing.OneHotEncoder(drop=\"first\",handle_unknown=\"ignore\",                                                 \n",
    "                min_frequency=0.01, max_categories=40, sparse_output= False),\n",
    "             sklearn.compose.make_column_selector(dtype_exclude=numpy.number)\n",
    "        ),\n",
    "        (\"number\",\n",
    "            sklearn.impute.SimpleImputer(strategy=\"mean\"),\n",
    "            sklearn.compose.make_column_selector(dtype_include=numpy.number)\n",
    "        ),  \n",
    "    ], n_jobs=-1)),\n",
    "    #(\"rescale\", sklearn.preprocessing.StandardScaler()),\n",
    "])"
   ]
  },
  {
   "cell_type": "markdown",
   "id": "a7473989-c832-4432-86d5-20accc18fcd5",
   "metadata": {},
   "source": [
    "# Analisis"
   ]
  },
  {
   "cell_type": "code",
   "execution_count": 3,
   "id": "316538f8-5f88-41c2-b6f1-d72a1bb1f837",
   "metadata": {},
   "outputs": [
    {
     "name": "stdout",
     "output_type": "stream",
     "text": [
      "<class 'pandas.core.frame.DataFrame'>\n",
      "RangeIndex: 9457 entries, 0 to 9456\n",
      "Data columns (total 17 columns):\n",
      " #   Column     Non-Null Count  Dtype   \n",
      "---  ------     --------------  -----   \n",
      " 0   index      9457 non-null   int32   \n",
      " 1   riruc      9457 non-null   object  \n",
      " 2   rC20       9457 non-null   object  \n",
      " 3   rexper     9457 non-null   float64 \n",
      " 4   rneduca    9457 non-null   category\n",
      " 5   rmujer     9457 non-null   int32   \n",
      " 6   rencuesta  9457 non-null   int32   \n",
      " 7   rDpto      9457 non-null   object  \n",
      " 8   rcredito   9457 non-null   int32   \n",
      " 9   rorga      9457 non-null   int32   \n",
      " 10  rL         9457 non-null   float64 \n",
      " 11  rexporta   9457 non-null   int32   \n",
      " 12  rventas    9457 non-null   float64 \n",
      " 13  rpt        9457 non-null   float64 \n",
      " 14  rci        9457 non-null   float64 \n",
      " 15  rpl        9457 non-null   float64 \n",
      " 16  lnrpl      9457 non-null   float64 \n",
      "dtypes: category(1), float64(7), int32(6), object(3)\n",
      "memory usage: 970.0+ KB\n"
     ]
    }
   ],
   "source": [
    "output           = \"C:/Users/et396/Dropbox/Docencia/Educate/Econometria/S2/Data\"\n",
    "os.chdir(output)\n",
    "\n",
    "# Carga de data\n",
    "base = pandas.read_stata(\"ENE_2015.dta\")\n",
    "base.info()"
   ]
  },
  {
   "cell_type": "code",
   "execution_count": 4,
   "id": "32a1a346-f8b5-4862-a34e-e91e9aa681c1",
   "metadata": {},
   "outputs": [
    {
     "name": "stdout",
     "output_type": "stream",
     "text": [
      "<class 'pandas.core.frame.DataFrame'>\n",
      "RangeIndex: 9457 entries, 0 to 9456\n",
      "Data columns (total 10 columns):\n",
      " #   Column    Non-Null Count  Dtype   \n",
      "---  ------    --------------  -----   \n",
      " 0   rexporta  9457 non-null   int32   \n",
      " 1   rmujer    9457 non-null   int32   \n",
      " 2   rexper    9457 non-null   float64 \n",
      " 3   rDpto     9457 non-null   category\n",
      " 4   rcredito  9457 non-null   int32   \n",
      " 5   rL        9457 non-null   float64 \n",
      " 6   rventas   9457 non-null   float64 \n",
      " 7   rC20      9457 non-null   category\n",
      " 8   rneduca   9457 non-null   category\n",
      " 9   lnrpl     9457 non-null   float64 \n",
      "dtypes: category(3), float64(4), int32(3)\n",
      "memory usage: 435.3 KB\n"
     ]
    },
    {
     "name": "stderr",
     "output_type": "stream",
     "text": [
      "C:\\Users\\et396\\AppData\\Local\\Temp\\ipykernel_24884\\1749348307.py:35: DeprecationWarning: is_categorical_dtype is deprecated and will be removed in a future version. Use isinstance(dtype, pd.CategoricalDtype) instead\n",
      "C:\\Users\\et396\\AppData\\Local\\Temp\\ipykernel_24884\\1749348307.py:48: SettingWithCopyWarning: \n",
      "A value is trying to be set on a copy of a slice from a DataFrame.\n",
      "Try using .loc[row_indexer,col_indexer] = value instead\n",
      "\n",
      "See the caveats in the documentation: https://pandas.pydata.org/pandas-docs/stable/user_guide/indexing.html#returning-a-view-versus-a-copy\n",
      "C:\\Users\\et396\\AppData\\Local\\Temp\\ipykernel_24884\\1749348307.py:35: DeprecationWarning: is_categorical_dtype is deprecated and will be removed in a future version. Use isinstance(dtype, pd.CategoricalDtype) instead\n",
      "C:\\Users\\et396\\AppData\\Local\\Temp\\ipykernel_24884\\1749348307.py:48: SettingWithCopyWarning: \n",
      "A value is trying to be set on a copy of a slice from a DataFrame.\n",
      "Try using .loc[row_indexer,col_indexer] = value instead\n",
      "\n",
      "See the caveats in the documentation: https://pandas.pydata.org/pandas-docs/stable/user_guide/indexing.html#returning-a-view-versus-a-copy\n",
      "C:\\Users\\et396\\AppData\\Local\\Temp\\ipykernel_24884\\1749348307.py:35: DeprecationWarning: is_categorical_dtype is deprecated and will be removed in a future version. Use isinstance(dtype, pd.CategoricalDtype) instead\n"
     ]
    }
   ],
   "source": [
    "# Filtro de variables\n",
    "response = ['rexporta']\n",
    "inputs   = ['rmujer','rexper','rDpto','rcredito','rL', 'rventas', 'rC20','rneduca','lnrpl']\n",
    "data_analysis = base[response + inputs]\n",
    "\n",
    "# Normalise informacion : number, category columns\n",
    "data_fit = normalize_frame(data_analysis)\n",
    "data_fit.info()\n"
   ]
  },
  {
   "cell_type": "code",
   "execution_count": 5,
   "id": "9315dc14-1f31-4330-95f0-54fda7a2f288",
   "metadata": {},
   "outputs": [
    {
     "data": {
      "text/html": [
       "<div>\n",
       "<style scoped>\n",
       "    .dataframe tbody tr th:only-of-type {\n",
       "        vertical-align: middle;\n",
       "    }\n",
       "\n",
       "    .dataframe tbody tr th {\n",
       "        vertical-align: top;\n",
       "    }\n",
       "\n",
       "    .dataframe thead th {\n",
       "        text-align: right;\n",
       "    }\n",
       "</style>\n",
       "<table border=\"1\" class=\"dataframe\">\n",
       "  <thead>\n",
       "    <tr style=\"text-align: right;\">\n",
       "      <th></th>\n",
       "      <th>rexporta</th>\n",
       "      <th>rmujer</th>\n",
       "      <th>rexper</th>\n",
       "      <th>rcredito</th>\n",
       "      <th>rL</th>\n",
       "      <th>rventas</th>\n",
       "      <th>lnrpl</th>\n",
       "    </tr>\n",
       "  </thead>\n",
       "  <tbody>\n",
       "    <tr>\n",
       "      <th>count</th>\n",
       "      <td>9457.000000</td>\n",
       "      <td>9457.000000</td>\n",
       "      <td>9457.000000</td>\n",
       "      <td>9457.000000</td>\n",
       "      <td>9457.000000</td>\n",
       "      <td>9.457000e+03</td>\n",
       "      <td>9457.000000</td>\n",
       "    </tr>\n",
       "    <tr>\n",
       "      <th>mean</th>\n",
       "      <td>0.025695</td>\n",
       "      <td>0.274823</td>\n",
       "      <td>13.014698</td>\n",
       "      <td>0.391456</td>\n",
       "      <td>20.228508</td>\n",
       "      <td>7.255099e+05</td>\n",
       "      <td>10.264639</td>\n",
       "    </tr>\n",
       "    <tr>\n",
       "      <th>std</th>\n",
       "      <td>0.158233</td>\n",
       "      <td>0.446449</td>\n",
       "      <td>10.217655</td>\n",
       "      <td>0.488102</td>\n",
       "      <td>44.935780</td>\n",
       "      <td>1.758707e+06</td>\n",
       "      <td>1.119788</td>\n",
       "    </tr>\n",
       "    <tr>\n",
       "      <th>min</th>\n",
       "      <td>0.000000</td>\n",
       "      <td>0.000000</td>\n",
       "      <td>2.000000</td>\n",
       "      <td>0.000000</td>\n",
       "      <td>1.000000</td>\n",
       "      <td>1.000000e+03</td>\n",
       "      <td>4.784164</td>\n",
       "    </tr>\n",
       "    <tr>\n",
       "      <th>25%</th>\n",
       "      <td>0.000000</td>\n",
       "      <td>0.000000</td>\n",
       "      <td>7.000000</td>\n",
       "      <td>0.000000</td>\n",
       "      <td>5.000000</td>\n",
       "      <td>1.322740e+05</td>\n",
       "      <td>9.549316</td>\n",
       "    </tr>\n",
       "    <tr>\n",
       "      <th>50%</th>\n",
       "      <td>0.000000</td>\n",
       "      <td>0.000000</td>\n",
       "      <td>10.000000</td>\n",
       "      <td>0.000000</td>\n",
       "      <td>10.000000</td>\n",
       "      <td>2.857990e+05</td>\n",
       "      <td>10.213642</td>\n",
       "    </tr>\n",
       "    <tr>\n",
       "      <th>75%</th>\n",
       "      <td>0.000000</td>\n",
       "      <td>1.000000</td>\n",
       "      <td>16.000000</td>\n",
       "      <td>1.000000</td>\n",
       "      <td>21.000000</td>\n",
       "      <td>6.500000e+05</td>\n",
       "      <td>10.982297</td>\n",
       "    </tr>\n",
       "    <tr>\n",
       "      <th>max</th>\n",
       "      <td>1.000000</td>\n",
       "      <td>1.000000</td>\n",
       "      <td>146.000000</td>\n",
       "      <td>1.000000</td>\n",
       "      <td>2457.000000</td>\n",
       "      <td>9.595844e+07</td>\n",
       "      <td>15.433420</td>\n",
       "    </tr>\n",
       "  </tbody>\n",
       "</table>\n",
       "</div>"
      ],
      "text/plain": [
       "          rexporta       rmujer       rexper     rcredito           rL  \\\n",
       "count  9457.000000  9457.000000  9457.000000  9457.000000  9457.000000   \n",
       "mean      0.025695     0.274823    13.014698     0.391456    20.228508   \n",
       "std       0.158233     0.446449    10.217655     0.488102    44.935780   \n",
       "min       0.000000     0.000000     2.000000     0.000000     1.000000   \n",
       "25%       0.000000     0.000000     7.000000     0.000000     5.000000   \n",
       "50%       0.000000     0.000000    10.000000     0.000000    10.000000   \n",
       "75%       0.000000     1.000000    16.000000     1.000000    21.000000   \n",
       "max       1.000000     1.000000   146.000000     1.000000  2457.000000   \n",
       "\n",
       "            rventas        lnrpl  \n",
       "count  9.457000e+03  9457.000000  \n",
       "mean   7.255099e+05    10.264639  \n",
       "std    1.758707e+06     1.119788  \n",
       "min    1.000000e+03     4.784164  \n",
       "25%    1.322740e+05     9.549316  \n",
       "50%    2.857990e+05    10.213642  \n",
       "75%    6.500000e+05    10.982297  \n",
       "max    9.595844e+07    15.433420  "
      ]
     },
     "execution_count": 5,
     "metadata": {},
     "output_type": "execute_result"
    }
   ],
   "source": [
    "data_fit.describe()"
   ]
  },
  {
   "cell_type": "markdown",
   "id": "069833fb-778f-4a7f-8141-370e373df50b",
   "metadata": {},
   "source": [
    "# Question 1"
   ]
  },
  {
   "cell_type": "code",
   "execution_count": 6,
   "id": "68951e15-1d3a-49f1-a59d-f1ef9484badd",
   "metadata": {},
   "outputs": [],
   "source": [
    "response = data_fit[['rexporta']]\n",
    "predictors_cols1 = ['rmujer','rexper','rcredito','lnrpl','rneduca']\n",
    "predictors_cols2 = ['rmujer','rexper','rcredito','lnrpl','rneduca','rDpto']"
   ]
  },
  {
   "cell_type": "code",
   "execution_count": 7,
   "id": "eadb8a78-0526-44c7-bb8f-ee6d2831fb17",
   "metadata": {},
   "outputs": [
    {
     "name": "stdout",
     "output_type": "stream",
     "text": [
      "Warning: Maximum number of iterations has been exceeded.\n",
      "         Current function value: 0.117207\n",
      "         Iterations: 35\n"
     ]
    },
    {
     "name": "stderr",
     "output_type": "stream",
     "text": [
      "C:\\Users\\et396\\.conda\\envs\\python_last\\Lib\\site-packages\\statsmodels\\base\\model.py:607: ConvergenceWarning: Maximum Likelihood optimization failed to converge. Check mle_retvals\n"
     ]
    }
   ],
   "source": [
    "base1        = data_fit[predictors_cols1]\n",
    "predictors  = data_fit[predictors_cols1]\n",
    "transformer = sklearn.clone(base_transformer)\n",
    "inputs      = transformer.fit_transform(predictors)\n",
    "inputs      = pandas.DataFrame(inputs, index=base1.index,\n",
    "                               columns=transformer.get_feature_names_out())\n",
    "inputs      = sm.add_constant(inputs, has_constant=\"raise\")\n",
    "\n",
    "m0 = sm.Probit(response, inputs).fit(cov_type=\"HC1\")"
   ]
  },
  {
   "cell_type": "code",
   "execution_count": 8,
   "id": "736180ee-a88a-4ca7-853e-36c524d9813d",
   "metadata": {},
   "outputs": [
    {
     "data": {
      "text/html": [
       "<table style=\"text-align:center\"><tr><td colspan=\"2\" style=\"border-bottom: 1px solid black\"></td></tr>\n",
       "<tr><td style=\"text-align:left\"></td><td colspan=\"1\"><em>Dependent variable: rexporta</em></td></tr><tr><td style=\"text-align:left\"></td><tr><td></td><td colspan=\"1\">Exportar</td></tr><tr><td style=\"text-align:left\"></td><td>(1)</td></tr>\n",
       "<tr><td colspan=\"2\" style=\"border-bottom: 1px solid black\"></td></tr>\n",
       "\n",
       "<tr><td style=\"text-align:left\">number__rmujer</td><td>-0.017<sup></sup></td></tr>\n",
       "<tr><td style=\"text-align:left\"></td><td>(0.063)</td></tr>\n",
       "<tr><td style=\"text-align:left\">number__lnrpl</td><td>0.111<sup>***</sup></td></tr>\n",
       "<tr><td style=\"text-align:left\"></td><td>(0.026)</td></tr>\n",
       "<tr><td style=\"text-align:left\">number__rexper</td><td>0.001<sup></sup></td></tr>\n",
       "<tr><td style=\"text-align:left\"></td><td>(0.002)</td></tr>\n",
       "<tr><td style=\"text-align:left\">number__rcredito</td><td>-0.010<sup></sup></td></tr>\n",
       "<tr><td style=\"text-align:left\"></td><td>(0.058)</td></tr>\n",
       "\n",
       "<tr><td style=\"text-align: left\">Efectos fijos Dpto</td><td>No</td></tr><td colspan=\"2\" style=\"border-bottom: 1px solid black\"></td></tr>\n",
       "<tr><td style=\"text-align: left\">Observations</td><td>9457</td></tr>\n",
       "<tr><td colspan=\"2\" style=\"border-bottom: 1px solid black\"></td></tr><tr><td style=\"text-align: left\">Note:</td><td colspan=\"1\" style=\"text-align: right\"><sup>*</sup>p&lt;0.1; <sup>**</sup>p&lt;0.05; <sup>***</sup>p&lt;0.01</td></tr></table>"
      ],
      "text/plain": [
       "<stargazer.stargazer.Stargazer at 0x1bed48bc8f0>"
      ]
     },
     "execution_count": 8,
     "metadata": {},
     "output_type": "execute_result"
    }
   ],
   "source": [
    "stargazer = Stargazer([m0])\n",
    "stargazer.custom_columns([\"Exportar\"], [1])\n",
    "stargazer.covariate_order([\"number__rmujer\", 'number__lnrpl', 'number__rexper', \n",
    "                           \"number__rcredito\"])\n",
    "stargazer.rename_covariates({\"Intercept\": \"Constant\"})\n",
    "stargazer.add_line(\"Efectos fijos Dpto\", [\"No\"])\n",
    "stargazer"
   ]
  },
  {
   "cell_type": "markdown",
   "id": "7d1f2b66-721a-43b0-922b-7b9b7f6f552b",
   "metadata": {},
   "source": [
    "# Question 2"
   ]
  },
  {
   "cell_type": "code",
   "execution_count": 9,
   "id": "4a386d92-9430-4994-b5b6-e4afb26659a5",
   "metadata": {},
   "outputs": [
    {
     "name": "stdout",
     "output_type": "stream",
     "text": [
      "Warning: Maximum number of iterations has been exceeded.\n",
      "         Current function value: 0.117207\n",
      "         Iterations: 35\n",
      "Warning: Maximum number of iterations has been exceeded.\n",
      "         Current function value: 0.117207\n",
      "         Iterations: 35\n"
     ]
    },
    {
     "name": "stderr",
     "output_type": "stream",
     "text": [
      "C:\\Users\\et396\\.conda\\envs\\python_last\\Lib\\site-packages\\statsmodels\\base\\model.py:607: ConvergenceWarning: Maximum Likelihood optimization failed to converge. Check mle_retvals\n",
      "C:\\Users\\et396\\.conda\\envs\\python_last\\Lib\\site-packages\\statsmodels\\base\\model.py:607: ConvergenceWarning: Maximum Likelihood optimization failed to converge. Check mle_retvals\n"
     ]
    }
   ],
   "source": [
    "base2        = data_fit[predictors_cols1]\n",
    "predictors  = data_fit[predictors_cols1]\n",
    "transformer = sklearn.clone(base_transformer)\n",
    "inputs      = transformer.fit_transform(predictors)\n",
    "inputs      = pandas.DataFrame(inputs, index=base2.index,\n",
    "                               columns=transformer.get_feature_names_out())\n",
    "inputs      = sm.add_constant(inputs, has_constant=\"raise\")\n",
    "\n",
    "m1 = sm.Probit(response, inputs).fit()\n",
    "m2 = sm.Probit(response, inputs).fit(cov_type=\"HC1\")\n"
   ]
  },
  {
   "cell_type": "code",
   "execution_count": 10,
   "id": "3166958f-78c9-49ff-ad26-1474a1aae09f",
   "metadata": {},
   "outputs": [
    {
     "name": "stdout",
     "output_type": "stream",
     "text": [
      "Warning: Maximum number of iterations has been exceeded.\n",
      "         Current function value: 0.109880\n",
      "         Iterations: 35\n"
     ]
    },
    {
     "name": "stderr",
     "output_type": "stream",
     "text": [
      "C:\\Users\\et396\\.conda\\envs\\python_last\\Lib\\site-packages\\statsmodels\\base\\model.py:607: ConvergenceWarning: Maximum Likelihood optimization failed to converge. Check mle_retvals\n"
     ]
    }
   ],
   "source": [
    "base3        = data_fit[predictors_cols2]\n",
    "predictors  = data_fit[predictors_cols2]\n",
    "transformer = sklearn.clone(base_transformer)\n",
    "inputs      = transformer.fit_transform(predictors)\n",
    "inputs      = pandas.DataFrame(inputs, index=base3.index,\n",
    "                               columns=transformer.get_feature_names_out())\n",
    "inputs      = sm.add_constant(inputs, has_constant=\"raise\")\n",
    "\n",
    "m3 = sm.Probit(response, inputs).fit(cov_type=\"HC1\")"
   ]
  },
  {
   "cell_type": "code",
   "execution_count": 11,
   "id": "6257b82c-c8e0-437b-a7ce-bf7cb5b83b8c",
   "metadata": {},
   "outputs": [
    {
     "data": {
      "text/html": [
       "<table style=\"text-align:center\"><tr><td colspan=\"4\" style=\"border-bottom: 1px solid black\"></td></tr>\n",
       "<tr><td style=\"text-align:left\"></td><td colspan=\"3\"><em>Dependent variable: rexporta</em></td></tr><tr><td style=\"text-align:left\"></td><tr><td></td><td colspan=\"1\">Exportar</td><td colspan=\"1\">Exportar</td><td colspan=\"1\">Exportar</td></tr><tr><td style=\"text-align:left\"></td><td>(1)</td><td>(2)</td><td>(3)</td></tr>\n",
       "<tr><td colspan=\"4\" style=\"border-bottom: 1px solid black\"></td></tr>\n",
       "\n",
       "<tr><td style=\"text-align:left\">number__rmujer</td><td>-0.017<sup></sup></td><td>-0.017<sup></sup></td><td>-0.019<sup></sup></td></tr>\n",
       "<tr><td style=\"text-align:left\"></td><td>(0.063)</td><td>(0.063)</td><td>(0.066)</td></tr>\n",
       "<tr><td style=\"text-align:left\">number__lnrpl</td><td>0.111<sup>***</sup></td><td>0.111<sup>***</sup></td><td>0.091<sup>***</sup></td></tr>\n",
       "<tr><td style=\"text-align:left\"></td><td>(0.024)</td><td>(0.026)</td><td>(0.027)</td></tr>\n",
       "<tr><td style=\"text-align:left\">number__rexper</td><td>0.001<sup></sup></td><td>0.001<sup></sup></td><td>-0.000<sup></sup></td></tr>\n",
       "<tr><td style=\"text-align:left\"></td><td>(0.003)</td><td>(0.002)</td><td>(0.003)</td></tr>\n",
       "<tr><td style=\"text-align:left\">number__rcredito</td><td>-0.010<sup></sup></td><td>-0.010<sup></sup></td><td>0.049<sup></sup></td></tr>\n",
       "<tr><td style=\"text-align:left\"></td><td>(0.057)</td><td>(0.058)</td><td>(0.061)</td></tr>\n",
       "<tr><td style=\"text-align:left\">category__rneduca_primaria</td><td>-0.164<sup></sup></td><td>-0.164<sup></sup></td><td>-0.166<sup></sup></td></tr>\n",
       "<tr><td style=\"text-align:left\"></td><td>(0.173)</td><td>(0.174)</td><td>(0.180)</td></tr>\n",
       "<tr><td style=\"text-align:left\">category__rneduca_secundaria</td><td>-0.309<sup>***</sup></td><td>-0.309<sup>***</sup></td><td>-0.341<sup>***</sup></td></tr>\n",
       "<tr><td style=\"text-align:left\"></td><td>(0.081)</td><td>(0.081)</td><td>(0.086)</td></tr>\n",
       "<tr><td style=\"text-align:left\">category__rneduca_tecnica</td><td>-0.218<sup>***</sup></td><td>-0.218<sup>***</sup></td><td>-0.242<sup>***</sup></td></tr>\n",
       "<tr><td style=\"text-align:left\"></td><td>(0.081)</td><td>(0.082)</td><td>(0.085)</td></tr>\n",
       "\n",
       "<tr><td style=\"text-align: left\">Efectos fijos Dpto</td><td></td><td>No</td><td>Yes</td></tr><td colspan=\"4\" style=\"border-bottom: 1px solid black\"></td></tr>\n",
       "<tr><td style=\"text-align: left\">Observations</td><td>9457</td><td>9457</td><td>9457</td></tr>\n",
       "<tr><td colspan=\"4\" style=\"border-bottom: 1px solid black\"></td></tr><tr><td style=\"text-align: left\">Note:</td><td colspan=\"3\" style=\"text-align: right\"><sup>*</sup>p&lt;0.1; <sup>**</sup>p&lt;0.05; <sup>***</sup>p&lt;0.01</td></tr></table>"
      ],
      "text/plain": [
       "<stargazer.stargazer.Stargazer at 0x1bed483a3f0>"
      ]
     },
     "execution_count": 11,
     "metadata": {},
     "output_type": "execute_result"
    }
   ],
   "source": [
    "stargazer = Stargazer([m1, m2, m3])\n",
    "stargazer.custom_columns([\"Exportar\", \"Exportar\", \"Exportar\"], [1, 1, 1])\n",
    "stargazer.covariate_order([\"number__rmujer\", 'number__lnrpl', 'number__rexper', \n",
    "                           \"number__rcredito\", \"category__rneduca_primaria\",\n",
    "                           \"category__rneduca_secundaria\",\"category__rneduca_tecnica\"])\n",
    "stargazer.rename_covariates({\"Intercept\": \"Constant\"})\n",
    "stargazer.add_line(\"Efectos fijos Dpto\", [\"\", \"No\", \"Yes\"])\n",
    "stargazer"
   ]
  },
  {
   "cell_type": "code",
   "execution_count": 15,
   "id": "02948f2a-bf1b-495d-b743-678eb4a21bdd",
   "metadata": {},
   "outputs": [
    {
     "name": "stdout",
     "output_type": "stream",
     "text": [
      "       Probit Marginal Effects       \n",
      "=====================================\n",
      "Dep. Variable:               rexporta\n",
      "Method:                          dydx\n",
      "At:                              mean\n",
      "========================================================================================================\n",
      "                                          dy/dx    std err          z      P>|z|      [0.025      0.975]\n",
      "--------------------------------------------------------------------------------------------------------\n",
      "category__rneduca_primaria              -0.0079      0.007     -1.111      0.267      -0.022       0.006\n",
      "category__rneduca_secundaria            -0.0145      0.003     -4.638      0.000      -0.021      -0.008\n",
      "category__rneduca_tecnica               -0.0107      0.003     -3.111      0.002      -0.017      -0.004\n",
      "category__rneduca_infrequent_sklearn    -0.0239      0.002    -14.703      0.000      -0.027      -0.021\n",
      "number__rmujer                          -0.0010      0.003     -0.277      0.782      -0.008       0.006\n",
      "number__rexper                         6.89e-05      0.000      0.513      0.608      -0.000       0.000\n",
      "number__rcredito                        -0.0005      0.003     -0.169      0.866      -0.007       0.006\n",
      "number__lnrpl                            0.0062      0.001      4.410      0.000       0.003       0.009\n",
      "========================================================================================================\n"
     ]
    }
   ],
   "source": [
    "# Efecto marginal\n",
    "AME = m2.get_margeff(at='mean', method='dydx', atexog=None, dummy=True,  count=False)\n",
    "print(AME.summary())"
   ]
  },
  {
   "cell_type": "code",
   "execution_count": null,
   "id": "cc9b8156-09a8-4f3d-8d58-061d1208c2b1",
   "metadata": {},
   "outputs": [],
   "source": []
  },
  {
   "cell_type": "code",
   "execution_count": null,
   "id": "bd87d877-5543-421e-ba40-20f70ace6166",
   "metadata": {},
   "outputs": [],
   "source": []
  }
 ],
 "metadata": {
  "kernelspec": {
   "display_name": "Python 3 (ipykernel)",
   "language": "python",
   "name": "python3"
  },
  "language_info": {
   "codemirror_mode": {
    "name": "ipython",
    "version": 3
   },
   "file_extension": ".py",
   "mimetype": "text/x-python",
   "name": "python",
   "nbconvert_exporter": "python",
   "pygments_lexer": "ipython3",
   "version": "3.12.2"
  }
 },
 "nbformat": 4,
 "nbformat_minor": 5
}
