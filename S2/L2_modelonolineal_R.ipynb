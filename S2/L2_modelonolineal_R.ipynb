{
 "cells": [
  {
   "cell_type": "code",
   "execution_count": null,
   "id": "c5d36355-188c-4002-9b91-e3ded9c3a541",
   "metadata": {},
   "outputs": [],
   "source": []
  },
  {
   "cell_type": "markdown",
   "id": "e8367599-c9f0-424e-8767-9acebc04aa3a",
   "metadata": {},
   "source": [
    "<center style=\"font-size: 2em; font-weight: bold;\"> Determinantes de la exportacion de empresas </center>\n",
    "<center style=\"font-size: 2em; font-weight: bold;\"> Analisis de base de datos  </center>\n",
    "<left style=\"font-size: 4em; font-weight: bold;\"> Autor: Edinson Tolentino </left>"
   ]
  },
  {
   "cell_type": "markdown",
   "id": "3d45db7b-f98a-4d34-a6f3-029a364b8603",
   "metadata": {},
   "source": [
    "# librerias"
   ]
  },
  {
   "cell_type": "code",
   "execution_count": 1,
   "id": "678cd97b-d520-493f-8338-a71f3afec11d",
   "metadata": {},
   "outputs": [
    {
     "name": "stderr",
     "output_type": "stream",
     "text": [
      "\n",
      "Attaching package: 'dplyr'\n",
      "\n",
      "\n",
      "The following objects are masked from 'package:stats':\n",
      "\n",
      "    filter, lag\n",
      "\n",
      "\n",
      "The following objects are masked from 'package:base':\n",
      "\n",
      "    intersect, setdiff, setequal, union\n",
      "\n",
      "\n",
      "\n",
      "Please cite as: \n",
      "\n",
      "\n",
      " Hlavac, Marek (2022). stargazer: Well-Formatted Regression and Summary Statistics Tables.\n",
      "\n",
      " R package version 5.2.3. https://CRAN.R-project.org/package=stargazer \n",
      "\n",
      "\n",
      "Loading required package: fit.models\n",
      "\n",
      "\n",
      "Attaching package: 'MASS'\n",
      "\n",
      "\n",
      "The following object is masked from 'package:dplyr':\n",
      "\n",
      "    select\n",
      "\n",
      "\n",
      "\n",
      "Attaching package: 'kableExtra'\n",
      "\n",
      "\n",
      "The following object is masked from 'package:dplyr':\n",
      "\n",
      "    group_rows\n",
      "\n",
      "\n"
     ]
    },
    {
     "ename": "ERROR",
     "evalue": "Error in library(mfx): there is no package called 'mfx'\n",
     "output_type": "error",
     "traceback": [
      "Error in library(mfx): there is no package called 'mfx'\nTraceback:\n",
      "1. library(mfx)"
     ]
    }
   ],
   "source": [
    "library(dplyr)\n",
    "library(readstata13)\n",
    "library(stargazer)\n",
    "library(ggplot2)\n",
    "#library(lm_robust)\n",
    "library(robust)\n",
    "library(MASS)\n",
    "#library(dynlm)\n",
    "#library(plm)\n",
    "library(kableExtra)\n",
    "library(margins)\n",
    "#library(oglmx)\n",
    "library(mfx)\n",
    "library(texreg)"
   ]
  },
  {
   "cell_type": "code",
   "execution_count": null,
   "id": "c2cf34fc-7ad9-42ba-9bdc-d9107941a1b8",
   "metadata": {},
   "outputs": [],
   "source": [
    "output           = \"C:/Users/et396/Dropbox/Docencia/Educate/Econometria/S2/Data\"\n",
    "setwd(output)\n",
    "base = read.dta13(\"ENE_PANEL_Manufacturing.dta\")"
   ]
  },
  {
   "cell_type": "code",
   "execution_count": null,
   "id": "8b83ebf2-89d7-41a4-bfd0-d5f6477fc032",
   "metadata": {},
   "outputs": [],
   "source": [
    "base %>% dim()"
   ]
  },
  {
   "cell_type": "code",
   "execution_count": null,
   "id": "78292448-5707-4da7-afd8-e5045364c086",
   "metadata": {},
   "outputs": [],
   "source": [
    "base %>% summary()"
   ]
  },
  {
   "cell_type": "code",
   "execution_count": null,
   "id": "beb7c1c5-da4e-42bb-b9e8-7ae17aa01f00",
   "metadata": {},
   "outputs": [],
   "source": [
    "# Lagged\n",
    "# Formato Panel no balanceado\n",
    "#firms <- plm(base, c('rid', 'ryear'))\n",
    "\n",
    "#base <- base %>% mutate(\n",
    "#    lnrproductivity_1 = dplyr::lag(lnrproductivity,1),\n",
    "#    redad_1 = dplyr::lag(redad,1)\n",
    "#    redadsq_1 = dplyr::lag(redadsq,1)\n",
    "#    rmype_1 = dplyr::lag(rmype,1)\n",
    "#                       )\n",
    "\n",
    "firms <- base %>%\n",
    "  group_by(rid) %>%\n",
    "  mutate(\n",
    "      lnrproductivity_1 = dplyr::lag(lnrproductivity, n=1),\n",
    "      redad_1 = dplyr::lag(redad, n=1),\n",
    "      redadsq_1 = dplyr::lag(redadsq,n=1),\n",
    "      rmype_1 = dplyr::lag(rmype, n=1)\n",
    "  )\n",
    "\n",
    "#firms <- base %>%\n",
    "#  arrange(rid, ryear) %>%\n",
    "#  group_by(rid) %>%\n",
    "#  mutate(\n",
    "#      lnrproductivity_1 = replace(lag(lnrproductivity), ryear == lag(ryear, default = first(ryear)),NA),\n",
    "#      redad_1 = replace(lag(redad), ryear == lag(ryear, default = first(ryear)),NA),\n",
    "#      redadsq_1 = replace(lag(redadsq), ryear == lag(ryear, default = first(ryear)),NA),\n",
    "#      rmype_1 = replace(lag(rmype), ryear == lag(ryear, default = first(ryear)),NA)\n",
    "#        ) \n",
    "\n",
    "#base$lnrproductivity_1 <- lag(base$lnrproductivity,-1)\n",
    "#base$redad_1 <- lag(base$redad,-1)\n",
    "#base$redadsq_1 <- lag(base$redadsq,-1)\n",
    "#base$rmype_1 <- lag(base$rmype,-1)\n",
    "\n",
    "#base$lnrproductivity_1 <- dplyr::lag(base$lnrproductivity, n=1)\n",
    "#base$redad_1 <- dplyr::lag(base$redad, n=1)\n",
    "#base$redadsq_1 <- dplyr::lag(base$redadsq, n=1)\n",
    "#base$rmype_1 <- dplyr::lag(base$rmype, n=1)\n",
    "\n",
    "#data_fit <- base %>% drop_na()\n",
    "\n",
    "#data_fit <- na.omit(firms)\n",
    "data_fit <- firms"
   ]
  },
  {
   "cell_type": "code",
   "execution_count": null,
   "id": "3db7a725-f997-4f23-a46a-37aa533de825",
   "metadata": {},
   "outputs": [],
   "source": [
    "#base %>% head()"
   ]
  },
  {
   "cell_type": "code",
   "execution_count": null,
   "id": "7d463e73-c84c-4fdc-8e62-91c158ee252c",
   "metadata": {},
   "outputs": [],
   "source": [
    "data_fit %>% head(5)\n",
    "data_fit %>% dim()\n",
    "data_fit %>% summary()\n",
    "#data_fit[,c('lnrproductivity','lnrproductivity_1','redad','redadsq','redad_1','redadsq_1')] %>% summary()\n",
    "#data_fit[,c('redad','redadsq','redad_1','redadsq_1')] %>% head()"
   ]
  },
  {
   "cell_type": "markdown",
   "id": "c1e1dada-7b4b-4cfb-b4f1-53842d2590c1",
   "metadata": {},
   "source": [
    "# Question 1"
   ]
  },
  {
   "cell_type": "code",
   "execution_count": null,
   "id": "9f447cff-bb2f-4f24-a2c6-070a32605827",
   "metadata": {},
   "outputs": [],
   "source": [
    "m1_ols <- lm(rexporta ~ lnrproductivity_1 , data = data_fit)\n",
    "m1_probit <- glm(rexporta ~ lnrproductivity_1, data = data_fit, family = binomial(link = \"probit\") )\n",
    "\n",
    "stargazer(m1_ols, m1_probit, title=\"Results\", type=\"text\")"
   ]
  },
  {
   "cell_type": "code",
   "execution_count": null,
   "id": "b79c723f-17b9-49e3-8e44-7ca5eaa3882d",
   "metadata": {},
   "outputs": [],
   "source": []
  },
  {
   "cell_type": "markdown",
   "id": "f08e08f6-0897-4e93-a124-cee677726c9b",
   "metadata": {},
   "source": [
    "# Question 2"
   ]
  },
  {
   "cell_type": "code",
   "execution_count": null,
   "id": "9559ee91-071b-4286-a5c7-f3f5ce609e3a",
   "metadata": {},
   "outputs": [],
   "source": [
    "m1 <- glm(rexporta ~ lnrproductivity_1 , data = data_fit, family = binomial(link = \"probit\") )\n",
    "m2 <- glm(rexporta ~ lnrproductivity_1 + redad_1 + redadsq_1 + rmype_1, data = data_fit, family = binomial(link = \"probit\") )\n",
    "m3 <- glm(rexporta ~ lnrproductivity_1 + redad_1 + redadsq_1 + rmype_1 + factor(region), data = data_fit, family = binomial(link = \"probit\") )\n",
    "\n",
    "stargazer(m1, m2, m3, title=\"Results\", type=\"text\")"
   ]
  },
  {
   "cell_type": "code",
   "execution_count": null,
   "id": "e9fc08bb-64e5-4ad6-87a9-852e8b60e933",
   "metadata": {},
   "outputs": [],
   "source": []
  },
  {
   "cell_type": "markdown",
   "id": "708547d0-cc17-4dcd-baba-b9838f3b0f17",
   "metadata": {},
   "source": [
    "# Question 3"
   ]
  },
  {
   "cell_type": "code",
   "execution_count": null,
   "id": "64e5a0a7-3b7d-4f2e-b64b-37ebae0d3bbe",
   "metadata": {},
   "outputs": [],
   "source": [
    "m3 <- glm(rexporta ~ lnrproductivity_1 + redad_1 + redadsq_1 + rmype_1 + factor(region), data = data_fit, family = binomial(link = \"probit\") )\n",
    "\n",
    "stargazer(m3, title=\"Results\", type=\"text\", keep = c(\"lnrproductivity_1\", \"redad_1\",'redadsq_1','rmype_1'))"
   ]
  },
  {
   "cell_type": "code",
   "execution_count": null,
   "id": "dd1976b7-d914-4d00-b600-bb59ddc0f20b",
   "metadata": {},
   "outputs": [],
   "source": [
    "#calculate average marginal effects (dy/dx) for logit\n",
    "mx3 <- margins(m3)\n",
    "#mx3\n",
    "\n",
    "#sum_table <- summary(mx3) %>% coef() %>% as.data.frame()\n",
    "#sum_table <- summary(mx3) %>% as.data.frame()\n",
    "#stargazer(sum_table, title=\"Results\", type=\"text\")\n",
    "#kable(x = sum_table, format = \"latex\", digits = 3,\n",
    "#      col.names = c(\"Variable\", \"dx/dy\"),\n",
    "#      caption = \"Average Marginal Effects (dy/dx) for Logit Model\") %>% cat(.,file= paste0(output,\"AME_logit_X2.tex\"))\n",
    "\n",
    "#round(sum_table,4)\n",
    "#sum_table"
   ]
  },
  {
   "cell_type": "markdown",
   "id": "88274b87-129f-4016-a8c6-6284011d1a72",
   "metadata": {},
   "source": [
    "# Question 4"
   ]
  },
  {
   "cell_type": "code",
   "execution_count": null,
   "id": "a39b5af4-203f-4bc7-b68d-4cf3866f3fda",
   "metadata": {},
   "outputs": [],
   "source": [
    "m3 <- glm(rexporta ~ lnrproductivity_1 + redad_1 + redadsq_1 + rmype_1 + factor(region), data = data_fit, family = binomial(link = \"probit\") )\n",
    "m4 <- glm(rexporta ~ lnrproductivity_1 + redad_1 + redadsq_1 + rmype_1 + factor(region), data = data_fit, family = binomial(link = \"logit\") )\n",
    "\n",
    "stargazer(m3, m4, title=\"Results\", type=\"text\", keep = c(\"lnrproductivity_1\", \"redad_1\",'redadsq_1','rmype_1'))"
   ]
  },
  {
   "cell_type": "code",
   "execution_count": null,
   "id": "66eb20f4-e5c0-4520-b7a9-f0a2ea13df16",
   "metadata": {},
   "outputs": [],
   "source": []
  },
  {
   "cell_type": "code",
   "execution_count": null,
   "id": "a48b36c0-8bc9-4162-80f5-ffaae9395599",
   "metadata": {},
   "outputs": [],
   "source": []
  },
  {
   "cell_type": "code",
   "execution_count": null,
   "id": "64a51afd-8604-465e-9951-d45598a2afb4",
   "metadata": {},
   "outputs": [],
   "source": []
  }
 ],
 "metadata": {
  "kernelspec": {
   "display_name": "R",
   "language": "R",
   "name": "ir"
  },
  "language_info": {
   "codemirror_mode": "r",
   "file_extension": ".r",
   "mimetype": "text/x-r-source",
   "name": "R",
   "pygments_lexer": "r",
   "version": "4.1.3"
  }
 },
 "nbformat": 4,
 "nbformat_minor": 5
}
